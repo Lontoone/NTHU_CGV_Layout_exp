{
 "cells": [
  {
   "cell_type": "code",
   "execution_count": 1,
   "metadata": {},
   "outputs": [
    {
     "name": "stderr",
     "output_type": "stream",
     "text": [
      "c:\\Users\\User\\anaconda3\\envs\\Layout\\lib\\site-packages\\torchvision\\models\\_utils.py:209: UserWarning: The parameter 'pretrained' is deprecated since 0.13 and may be removed in the future, please use 'weights' instead.\n",
      "  f\"The parameter '{pretrained_param}' is deprecated since 0.13 and may be removed in the future, \"\n",
      "c:\\Users\\User\\anaconda3\\envs\\Layout\\lib\\site-packages\\torchvision\\models\\_utils.py:223: UserWarning: Arguments other than a weight enum or `None` for 'weights' are deprecated since 0.13 and may be removed in the future. The current behavior is equivalent to passing `weights=FasterRCNN_ResNet50_FPN_Weights.COCO_V1`. You can also use `weights=FasterRCNN_ResNet50_FPN_Weights.DEFAULT` to get the most up-to-date weights.\n",
      "  warnings.warn(msg)\n"
     ]
    },
    {
     "name": "stdout",
     "output_type": "stream",
     "text": [
      "e:\\Projects\\Layout\\Horizon_and_SAM\\Horizon\n"
     ]
    }
   ],
   "source": [
    "import os\n",
    "#abspath = os.path.abspath(__file__)\n",
    "#dname = os.path.dirname(abspath)\n",
    "#os.chdir(dname)\n",
    "\n",
    "import torch\n",
    "import torchvision\n",
    "import sys\n",
    "sys.path.append('../')\n",
    "#sys.path.append('../file_helper.py')\n",
    "from config import *\n",
    "from tqdm import tqdm\n",
    "from model import *\n",
    "from file_helper import *\n",
    "\n",
    "# DataLoader\n",
    "import torchvision.transforms as T\n",
    "from torchvision import transforms\n",
    "from torchvision.transforms import ToTensor\n",
    "from PIL import Image\n",
    "import json\n",
    "import cv2\n",
    "import numpy as np\n",
    "import matplotlib.pyplot as plt\n",
    "from torch.nn.utils.rnn import pad_sequence\n",
    "import torch.optim as optim\n",
    "from torch.utils.tensorboard import SummaryWriter\n",
    "\n",
    "#EVAL_NAME= \"faster_rcnn_ep60_test_1k_0107\"\n",
    "EVAL_NAME= \"___Test\"\n",
    "writer = SummaryWriter(EVAL_NAME)\n",
    "\n",
    "from train import *\n",
    "from PE_helper import *\n",
    "\n",
    "transform = T.Compose([\n",
    "        transforms.Resize((512, 1024)),\n",
    "        T.ToTensor(),  # convert PIL image to PyTorch tensor\n",
    "        T.Normalize(mean=[0.485, 0.456, 0.406], std=[0.229, 0.224, 0.225])  # normalize image\n",
    "])"
   ]
  },
  {
   "cell_type": "code",
   "execution_count": 2,
   "metadata": {},
   "outputs": [],
   "source": [
    "def uv_to_box(u,v):\n",
    "    return np.array([u[0],v[0] , u[1],v[2] , u[1],v[3],u[0],v[1]]).reshape(-1,2)    \n",
    "\n",
    "def split_cross_boundary_bbox (bbox , w = 2048 ):\n",
    "    results= []\n",
    "    bbox = bbox.flatten()\n",
    "    max_gt = np.max(bbox.flatten())    \n",
    "    if(max_gt>w):\n",
    "        results.append(np.array([bbox[0]  ,bbox[1]  , w , bbox[1] , w , bbox[5] , bbox[0] , bbox[5]]))  \n",
    "        results.append(np.array([0  ,bbox[1]  , bbox[2]%w , bbox[1] , bbox[2]%w , bbox[5] , 0,bbox[5]]))  \n",
    "    else:\n",
    "        results = [bbox]\n",
    "    pass\n",
    "    #results = np.array(results)\n",
    "    return results\n",
    "def xyxy_to_bbox_polygon(xyxy):\n",
    "    return np.array([xyxy[0] ,xyxy[1] , xyxy[2],xyxy[1] , xyxy[2],xyxy[3] , xyxy[0] , xyxy[3]  ]).reshape(-1,2)"
   ]
  },
  {
   "cell_type": "code",
   "execution_count": 6,
   "metadata": {},
   "outputs": [
    {
     "name": "stdout",
     "output_type": "stream",
     "text": [
      "anno loaded  6249\n"
     ]
    },
    {
     "name": "stderr",
     "output_type": "stream",
     "text": [
      "100%|██████████| 2083/2083 [24:25<00:00,  1.42it/s]\n"
     ]
    },
    {
     "name": "stdout",
     "output_type": "stream",
     "text": [
      "ap_0.05 0.6694781468764994\n",
      "ap_0.5 0.5723927531485592\n",
      "ap_0.75 0.37111789615153556\n",
      "all_iou 7944.3400623917905\n",
      "mIOU 0.6137943338014209\n",
      "all_iou 7944.3400623917905\n",
      "mIOU 0.6137943338014209\n",
      "all_iou 7944.3400623917905\n",
      "mIOU 0.6137943338014209\n",
      "auc@0.5 0.5723927531485592\n"
     ]
    },
    {
     "name": "stderr",
     "output_type": "stream",
     "text": [
      "100%|██████████| 2083/2083 [25:51<00:00,  1.34it/s]\n"
     ]
    },
    {
     "name": "stdout",
     "output_type": "stream",
     "text": [
      "ap_0.05 0.6635194470900144\n",
      "ap_0.5 0.5486082689816854\n",
      "ap_0.75 0.33132511235336926\n",
      "all_iou 8297.81202281937\n",
      "mIOU 0.6411042279857351\n",
      "all_iou 8297.81202281937\n",
      "mIOU 0.6411042279857351\n",
      "all_iou 8297.81202281937\n",
      "mIOU 0.6411042279857351\n",
      "auc@0.5 0.5486082689816854\n"
     ]
    },
    {
     "name": "stderr",
     "output_type": "stream",
     "text": [
      "100%|██████████| 2083/2083 [25:56<00:00,  1.34it/s]\n"
     ]
    },
    {
     "name": "stdout",
     "output_type": "stream",
     "text": [
      "ap_0.05 0.6749604204744678\n",
      "ap_0.5 0.5674275731571052\n",
      "ap_0.75 0.3543599578808748\n",
      "all_iou 8252.514220665707\n",
      "mIOU 0.6376044364263083\n",
      "all_iou 8252.514220665707\n",
      "mIOU 0.6376044364263083\n",
      "all_iou 8252.514220665707\n",
      "mIOU 0.6376044364263083\n",
      "auc@0.5 0.5674275731571052\n"
     ]
    },
    {
     "name": "stderr",
     "output_type": "stream",
     "text": [
      "100%|██████████| 2083/2083 [27:41<00:00,  1.25it/s]\n"
     ]
    },
    {
     "name": "stdout",
     "output_type": "stream",
     "text": [
      "ap_0.05 0.653741064997944\n",
      "ap_0.5 0.5215213325788361\n",
      "ap_0.75 0.31093044777025536\n",
      "all_iou 8462.570487698946\n",
      "mIOU 0.6538337702000268\n",
      "all_iou 8462.570487698946\n",
      "mIOU 0.6538337702000268\n",
      "all_iou 8462.570487698946\n",
      "mIOU 0.6538337702000268\n",
      "auc@0.5 0.5215213325788361\n"
     ]
    },
    {
     "name": "stderr",
     "output_type": "stream",
     "text": [
      "100%|██████████| 2083/2083 [27:12<00:00,  1.28it/s]\n"
     ]
    },
    {
     "name": "stdout",
     "output_type": "stream",
     "text": [
      "ap_0.05 0.6723341733409285\n",
      "ap_0.5 0.5628838206014589\n",
      "ap_0.75 0.3480464955609733\n",
      "all_iou 8181.240775115231\n",
      "mIOU 0.6320977188530659\n",
      "all_iou 8181.240775115231\n",
      "mIOU 0.6320977188530659\n",
      "all_iou 8181.240775115231\n",
      "mIOU 0.6320977188530659\n",
      "auc@0.5 0.5628838206014589\n"
     ]
    },
    {
     "name": "stderr",
     "output_type": "stream",
     "text": [
      "100%|██████████| 2083/2083 [27:02<00:00,  1.28it/s]\n"
     ]
    },
    {
     "name": "stdout",
     "output_type": "stream",
     "text": [
      "ap_0.05 0.6629407986178637\n",
      "ap_0.5 0.5559091877761608\n",
      "ap_0.75 0.33840160663596164\n",
      "all_iou 8244.68108939637\n",
      "mIOU 0.6369992342885243\n",
      "all_iou 8244.68108939637\n",
      "mIOU 0.6369992342885243\n",
      "all_iou 8244.68108939637\n",
      "mIOU 0.6369992342885243\n",
      "auc@0.5 0.5559091877761608\n"
     ]
    },
    {
     "name": "stderr",
     "output_type": "stream",
     "text": [
      "100%|██████████| 2083/2083 [27:10<00:00,  1.28it/s]\n"
     ]
    },
    {
     "name": "stdout",
     "output_type": "stream",
     "text": [
      "ap_0.05 0.6683858588860809\n",
      "ap_0.5 0.5562788431520198\n",
      "ap_0.75 0.34178836963162496\n",
      "all_iou 8330.798561129255\n",
      "mIOU 0.6436528286432245\n",
      "all_iou 8330.798561129255\n",
      "mIOU 0.6436528286432245\n",
      "all_iou 8330.798561129255\n",
      "mIOU 0.6436528286432245\n",
      "auc@0.5 0.5562788431520198\n"
     ]
    },
    {
     "name": "stderr",
     "output_type": "stream",
     "text": [
      "100%|██████████| 2083/2083 [27:28<00:00,  1.26it/s]\n"
     ]
    },
    {
     "name": "stdout",
     "output_type": "stream",
     "text": [
      "ap_0.05 0.6759919301511632\n",
      "ap_0.5 0.5619910850665681\n",
      "ap_0.75 0.34607588624448204\n",
      "all_iou 8244.426077097323\n",
      "mIOU 0.6369795315689811\n",
      "all_iou 8244.426077097323\n",
      "mIOU 0.6369795315689811\n",
      "all_iou 8244.426077097323\n",
      "mIOU 0.6369795315689811\n",
      "auc@0.5 0.5619910850665681\n"
     ]
    },
    {
     "name": "stderr",
     "output_type": "stream",
     "text": [
      "100%|██████████| 2083/2083 [27:29<00:00,  1.26it/s]\n"
     ]
    },
    {
     "name": "stdout",
     "output_type": "stream",
     "text": [
      "ap_0.05 0.6742861741577757\n",
      "ap_0.5 0.5712210150453627\n",
      "ap_0.75 0.3513187616459824\n",
      "all_iou 8294.7941685509\n",
      "mIOU 0.6408710630109634\n",
      "all_iou 8294.7941685509\n",
      "mIOU 0.6408710630109634\n",
      "all_iou 8294.7941685509\n",
      "mIOU 0.6408710630109634\n",
      "auc@0.5 0.5712210150453627\n"
     ]
    },
    {
     "name": "stderr",
     "output_type": "stream",
     "text": [
      "100%|██████████| 2083/2083 [27:25<00:00,  1.27it/s]\n"
     ]
    },
    {
     "name": "stdout",
     "output_type": "stream",
     "text": [
      "ap_0.05 0.6725986543491234\n",
      "ap_0.5 0.558228467979325\n",
      "ap_0.75 0.3437477093821206\n",
      "all_iou 8245.680643245865\n",
      "mIOU 0.6370764616584923\n",
      "all_iou 8245.680643245865\n",
      "mIOU 0.6370764616584923\n",
      "all_iou 8245.680643245865\n",
      "mIOU 0.6370764616584923\n",
      "auc@0.5 0.558228467979325\n"
     ]
    },
    {
     "name": "stderr",
     "output_type": "stream",
     "text": [
      "100%|██████████| 2083/2083 [27:23<00:00,  1.27it/s]\n"
     ]
    },
    {
     "name": "stdout",
     "output_type": "stream",
     "text": [
      "ap_0.05 0.6790716037157787\n",
      "ap_0.5 0.5612847970646762\n",
      "ap_0.75 0.3289356080587819\n",
      "all_iou 8404.573500062803\n",
      "mIOU 0.649352816198934\n",
      "all_iou 8404.573500062803\n",
      "mIOU 0.649352816198934\n",
      "all_iou 8404.573500062803\n",
      "mIOU 0.649352816198934\n",
      "auc@0.5 0.5612847970646762\n"
     ]
    },
    {
     "name": "stderr",
     "output_type": "stream",
     "text": [
      "100%|██████████| 2083/2083 [27:12<00:00,  1.28it/s]\n"
     ]
    },
    {
     "name": "stdout",
     "output_type": "stream",
     "text": [
      "ap_0.05 0.6682954920750572\n",
      "ap_0.5 0.5704999959197949\n",
      "ap_0.75 0.35816191946663756\n",
      "all_iou 7924.241794373807\n",
      "mIOU 0.6122415046259605\n",
      "all_iou 7924.241794373807\n",
      "mIOU 0.6122415046259605\n",
      "all_iou 7924.241794373807\n",
      "mIOU 0.6122415046259605\n",
      "auc@0.5 0.5704999959197949\n"
     ]
    },
    {
     "name": "stderr",
     "output_type": "stream",
     "text": [
      "100%|██████████| 2083/2083 [27:19<00:00,  1.27it/s]\n"
     ]
    },
    {
     "name": "stdout",
     "output_type": "stream",
     "text": [
      "ap_0.05 0.6799030653302682\n",
      "ap_0.5 0.5685257601321891\n",
      "ap_0.75 0.349706706667263\n",
      "all_iou 8263.11223946241\n",
      "mIOU 0.638423258862892\n",
      "all_iou 8263.11223946241\n",
      "mIOU 0.638423258862892\n",
      "all_iou 8263.11223946241\n",
      "mIOU 0.638423258862892\n",
      "auc@0.5 0.5685257601321891\n"
     ]
    },
    {
     "name": "stderr",
     "output_type": "stream",
     "text": [
      "100%|██████████| 2083/2083 [26:19<00:00,  1.32it/s]\n"
     ]
    },
    {
     "name": "stdout",
     "output_type": "stream",
     "text": [
      "ap_0.05 0.6651338003982639\n",
      "ap_0.5 0.5591942485115486\n",
      "ap_0.75 0.34633401526759844\n",
      "all_iou 8248.390366015086\n",
      "mIOU 0.6372858198265539\n",
      "all_iou 8248.390366015086\n",
      "mIOU 0.6372858198265539\n",
      "all_iou 8248.390366015086\n",
      "mIOU 0.6372858198265539\n",
      "auc@0.5 0.5591942485115486\n"
     ]
    },
    {
     "name": "stderr",
     "output_type": "stream",
     "text": [
      "100%|██████████| 2083/2083 [25:54<00:00,  1.34it/s]\n"
     ]
    },
    {
     "name": "stdout",
     "output_type": "stream",
     "text": [
      "ap_0.05 0.672839377105569\n",
      "ap_0.5 0.567225399961422\n",
      "ap_0.75 0.3581152166688384\n",
      "all_iou 8149.795172280923\n",
      "mIOU 0.6296681737063218\n",
      "all_iou 8149.795172280923\n",
      "mIOU 0.6296681737063218\n",
      "all_iou 8149.795172280923\n",
      "mIOU 0.6296681737063218\n",
      "auc@0.5 0.567225399961422\n"
     ]
    },
    {
     "name": "stderr",
     "output_type": "stream",
     "text": [
      "100%|██████████| 2083/2083 [24:28<00:00,  1.42it/s]\n"
     ]
    },
    {
     "name": "stdout",
     "output_type": "stream",
     "text": [
      "ap_0.05 0.6684385528283869\n",
      "ap_0.5 0.5641188560558192\n",
      "ap_0.75 0.3509862508840168\n",
      "all_iou 8154.190912779945\n",
      "mIOU 0.6300077967070962\n",
      "all_iou 8154.190912779945\n",
      "mIOU 0.6300077967070962\n",
      "all_iou 8154.190912779945\n",
      "mIOU 0.6300077967070962\n",
      "auc@0.5 0.5641188560558192\n"
     ]
    },
    {
     "name": "stderr",
     "output_type": "stream",
     "text": [
      "100%|██████████| 2083/2083 [23:19<00:00,  1.49it/s]\n"
     ]
    },
    {
     "name": "stdout",
     "output_type": "stream",
     "text": [
      "ap_0.05 0.6795731222628159\n",
      "ap_0.5 0.5822023142473487\n",
      "ap_0.75 0.37107040016557113\n",
      "all_iou 8115.52681650883\n",
      "mIOU 0.6270205374726748\n",
      "all_iou 8115.52681650883\n",
      "mIOU 0.6270205374726748\n",
      "all_iou 8115.52681650883\n",
      "mIOU 0.6270205374726748\n",
      "auc@0.5 0.5822023142473487\n"
     ]
    },
    {
     "name": "stderr",
     "output_type": "stream",
     "text": [
      "100%|██████████| 2083/2083 [23:03<00:00,  1.51it/s]\n"
     ]
    },
    {
     "name": "stdout",
     "output_type": "stream",
     "text": [
      "ap_0.05 0.6735421414087613\n",
      "ap_0.5 0.5835080297974726\n",
      "ap_0.75 0.3823289045559234\n",
      "all_iou 7914.960304260717\n",
      "mIOU 0.6115243996183819\n",
      "all_iou 7914.960304260717\n",
      "mIOU 0.6115243996183819\n",
      "all_iou 7914.960304260717\n",
      "mIOU 0.6115243996183819\n",
      "auc@0.5 0.5835080297974726\n"
     ]
    },
    {
     "name": "stderr",
     "output_type": "stream",
     "text": [
      "100%|██████████| 2083/2083 [22:50<00:00,  1.52it/s]\n"
     ]
    },
    {
     "name": "stdout",
     "output_type": "stream",
     "text": [
      "ap_0.05 0.6746896528819316\n",
      "ap_0.5 0.560931790201589\n",
      "ap_0.75 0.3429426511284639\n",
      "all_iou 8379.156929631656\n",
      "mIOU 0.647389085191351\n",
      "all_iou 8379.156929631656\n",
      "mIOU 0.647389085191351\n",
      "all_iou 8379.156929631656\n",
      "mIOU 0.647389085191351\n",
      "auc@0.5 0.560931790201589\n"
     ]
    },
    {
     "name": "stderr",
     "output_type": "stream",
     "text": [
      "100%|██████████| 2083/2083 [23:05<00:00,  1.50it/s]\n"
     ]
    },
    {
     "name": "stdout",
     "output_type": "stream",
     "text": [
      "ap_0.05 0.6716271007614376\n",
      "ap_0.5 0.5802932885187807\n",
      "ap_0.75 0.36909419161554\n",
      "all_iou 8019.511257224644\n",
      "mIOU 0.6196021986575481\n",
      "all_iou 8019.511257224644\n",
      "mIOU 0.6196021986575481\n",
      "all_iou 8019.511257224644\n",
      "mIOU 0.6196021986575481\n",
      "auc@0.5 0.5802932885187807\n"
     ]
    },
    {
     "name": "stderr",
     "output_type": "stream",
     "text": [
      "100%|██████████| 2083/2083 [23:01<00:00,  1.51it/s]\n"
     ]
    },
    {
     "name": "stdout",
     "output_type": "stream",
     "text": [
      "ap_0.05 0.6786685395368015\n",
      "ap_0.5 0.5729996529228019\n",
      "ap_0.75 0.36878992987750736\n",
      "all_iou 8006.677874104953\n",
      "mIOU 0.6186106678594571\n",
      "all_iou 8006.677874104953\n",
      "mIOU 0.6186106678594571\n",
      "all_iou 8006.677874104953\n",
      "mIOU 0.6186106678594571\n",
      "auc@0.5 0.5729996529228019\n",
      "best model E:/OneDrive - NTHU/Layout/Faster_Rcnn/Lab_0126_for_eval/train_10k_final-4-start_ep60\\ep80.pth\n",
      "best ap  0.5835080297974726\n"
     ]
    }
   ],
   "source": [
    "#dataset_test = ZillowDataset(transforms=transform , anno_path= '../anno/test_visiable_10.json' )\n",
    "dataset_test = ZillowDataset(transforms=transform , anno_path= '../anno/test_visiable_all.json' )\n",
    "data_loader_test = torch.utils.data.DataLoader(dataset_test, batch_size=3, shuffle=False, num_workers=0  , collate_fn = collate_fn )\n",
    "\n",
    "pt_path = os.path.join(os.getcwd() , \"checkpoints\",\"ep60.pth\")\n",
    "model_2cls.load_state_dict(torch.load(pt_path))    \n",
    "model_2cls = model_2cls.to('cuda')\n",
    "\n",
    "prediction_output_folder = create_folder(os.path.join(os.getcwd() , \"eval\"))\n",
    "def do_eval(model , data_loader , run_name , prediction_output_folder , show_plt = False):    \n",
    "\n",
    "    output_file_path = os.path.join(prediction_output_folder , f\"eval_{run_name}.json\")\n",
    "    model.eval()\n",
    "    # create new eval helper object\n",
    "    writer = SummaryWriter(run_name)\n",
    "    eval_helper = PR_Eval_Helper(get_iou_fn = get_iou_matrix_pixel_level , writer= writer)\n",
    "\n",
    "    # record file to write\n",
    "    prediction_outputs = {\"data\":[]}\n",
    "\n",
    "    for data in tqdm(data_loader):\n",
    "        img_b , anno_b = data\n",
    "        anno_b_list = anno_to_list(anno_b)        \n",
    "        output = model(img_b , anno_b_list)\n",
    "\n",
    "        for img , out , gt in zip(img_b , output, anno_b):\n",
    "            predict_out= {\"image\": gt['image_file']  , \"pred\": [] , \"iou\":[] }\n",
    "            gt_seg_mask =[]\n",
    "            out_bbox_mask=[]\n",
    "            '''\n",
    "            #==============================\n",
    "            #           Debug\n",
    "            #==============================\n",
    "            # Pred\n",
    "            debug_img =  debug_draw_bbox(img, out['boxes'].detach().cpu().numpy() , normalize=False)\n",
    "            plt.imshow(debug_img)\n",
    "            plt.show()\n",
    "            \n",
    "            # GT\n",
    "            debug_img =  debug_draw_bbox(img, gt['boxes'].detach().cpu().numpy() , normalize=False , color=(0,0,255))\n",
    "            plt.imshow(debug_img)\n",
    "            plt.show()\n",
    "            '''\n",
    "\n",
    "            h,w = img.shape[-2:]\n",
    "            gt_u , gt_v = torch.as_tensor(gt['u']) , torch.as_tensor(gt['v'])\n",
    "            \n",
    "            #============================\n",
    "            #     Pred Bbox iou                    \n",
    "            #============================            \n",
    "            for box in out['boxes']:   \n",
    "                predict_out['pred'].append(box.detach().cpu().numpy().tolist())\n",
    "                door_parts = split_cross_boundary_bbox(xyxy_to_bbox_polygon(box.detach().cpu().numpy()) , w=w)            \n",
    "                \n",
    "                _mask_canvas = np.zeros((h,w))\n",
    "                for debug_door_part in door_parts:            \n",
    "                    debug_door_part = debug_door_part.reshape(-1,2)\n",
    "\n",
    "                    mask = cv2.fillPoly(_mask_canvas , [np.int32(debug_door_part )]  , (255,255,255) )\n",
    "                    '''\n",
    "                    '''\n",
    "                    if show_plt:\n",
    "                        plt.imshow(mask)\n",
    "                        plt.show()\n",
    "                    out_bbox_mask.append(mask)\n",
    "                pass\n",
    "\n",
    "            #============================\n",
    "            #     GT Seg\n",
    "            #============================\n",
    "            gt_seg_u =  gt_u\n",
    "            gt_seg_vt = gt_v.flatten()[::2].view(-1,2)\n",
    "            gt_seg_vb = gt_v.flatten()[1::2].view(-1,2)\n",
    "            for u,vt,vb in zip(gt_seg_u , gt_seg_vt , gt_seg_vb):\n",
    "                polys , mask = to_distorted_box([u] , [vt] , [vb] , h=h , w = w , show_plt=show_plt , seg_count=5)            \n",
    "                mask= np.max(mask,axis=2)\n",
    "                gt_seg_mask.append(mask)\n",
    "            \n",
    "            \n",
    "            iou_list =  eval_helper.eval_batch_pr(out_bbox_mask,gt_seg_mask ,None )\n",
    "            #  Append IoU\n",
    "            predict_out['iou'] = iou_list\n",
    "            if show_plt:\n",
    "                print(\"iou_list \" , iou_list  )\n",
    "            prediction_outputs['data'].append(predict_out)\n",
    "\n",
    "    mIou = eval_helper.get_all_pr( show_plt = show_plt)\n",
    "    print(\"auc@0.5\" , eval_helper.final_result_dict[1]['ap'])\n",
    "\n",
    "    if show_plt:\n",
    "        print(\"predict_out\" , prediction_outputs)\n",
    "\n",
    "    prediction_outputs[\"mIou\"]   =  mIou.astype(float)\n",
    "    prediction_outputs[\"ap@0.05\"]   =  eval_helper.final_result_dict[0]['ap']\n",
    "    prediction_outputs[\"ap@0.5\"]    =  eval_helper.final_result_dict[1]['ap']\n",
    "    prediction_outputs[\"ap@0.75\"]   =  eval_helper.final_result_dict[2]['ap']\n",
    "    prediction_outputs[\"recall@0.05\"]   =  eval_helper.final_result_dict[0]['recall_rate']\n",
    "    prediction_outputs[\"recall@0.5\"]    =  eval_helper.final_result_dict[1]['recall_rate']\n",
    "    prediction_outputs[\"recall@0.75\"]   =  eval_helper.final_result_dict[2]['recall_rate']\n",
    "    prediction_outputs[\"precision@0.05\"]    =  eval_helper.final_result_dict[0]['precision_rate']\n",
    "    prediction_outputs[\"precision@0.5\"]     =  eval_helper.final_result_dict[1]['precision_rate']\n",
    "    prediction_outputs[\"precision@0.75\"]    =  eval_helper.final_result_dict[2]['precision_rate']\n",
    "\n",
    "    json_object = json.dumps(prediction_outputs) \n",
    "    with open( output_file_path , \"w\" ) as f :\n",
    "        f.write(json_object)\n",
    "        pass\n",
    "\n",
    "    return eval_helper.final_result_dict[1]['ap']\n",
    "\n",
    "#model_folder = os.path.join(os.getcwd() , \"checkpoints\" , \"ToDo_eval_folder\")   # ToDo: set folder\n",
    "model_folder = \"E:/OneDrive - NTHU/Layout/Faster_Rcnn/Lab_0126_for_eval/train_10k_final-4-start_ep60\"\n",
    "model_files = get_files_with_prefix(model_folder , \"\")\n",
    "\n",
    "best_ap = 0\n",
    "best_mode_path =\"\"\n",
    "best_model_list =  []\n",
    "for model_path in model_files:\n",
    "    model_2cls.load_state_dict(torch.load(model_path))    \n",
    "    model_2cls = model_2cls.to('cuda')\n",
    "\n",
    "    ap_05 = do_eval(model_2cls , data_loader_test , os.path.basename(model_path) , prediction_output_folder , False)\n",
    "\n",
    "    best_model_list.append({\"model_path\": model_path , \"ap@0.5\" : ap_05})\n",
    "    if best_ap < ap_05:\n",
    "        best_ap = ap_05\n",
    "        best_mode_path = model_path\n",
    "    \n",
    "print(\"best model\" , best_mode_path)\n",
    "print(\"best ap \" , best_ap)\n",
    "\n",
    "json_object = json.dumps(best_model_list) \n",
    "output_file_path = os.path.join(os.getcwd() , \"eval\" , \"model_performance_list.json\")\n",
    "with open( output_file_path , \"w\" ) as f :\n",
    "    f.write(json_object)\n",
    "    pass\n",
    "\n",
    "\n"
   ]
  }
 ],
 "metadata": {
  "kernelspec": {
   "display_name": "Layout",
   "language": "python",
   "name": "python3"
  },
  "language_info": {
   "codemirror_mode": {
    "name": "ipython",
    "version": 3
   },
   "file_extension": ".py",
   "mimetype": "text/x-python",
   "name": "python",
   "nbconvert_exporter": "python",
   "pygments_lexer": "ipython3",
   "version": "3.7.7"
  }
 },
 "nbformat": 4,
 "nbformat_minor": 2
}
