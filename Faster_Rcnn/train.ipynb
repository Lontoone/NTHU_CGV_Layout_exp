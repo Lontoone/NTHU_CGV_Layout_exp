{
 "cells": [
  {
   "cell_type": "code",
   "execution_count": null,
   "metadata": {},
   "outputs": [],
   "source": [
    "import torch\n",
    "import torchvision\n",
    "import sys\n",
    "sys.path.append('../')\n",
    "from config import *\n",
    "from PE_helper import *\n",
    "from pano_mask_eval_helper import *\n",
    "from tqdm import tqdm\n",
    "from model import *\n",
    "from file_helper import *"
   ]
  },
  {
   "cell_type": "code",
   "execution_count": 3,
   "metadata": {},
   "outputs": [
    {
     "name": "stdout",
     "output_type": "stream",
     "text": [
      "anno_b ({'boxes': tensor([[382.3250, 231.7050, 400.2300, 319.5150],\n",
      "        [772.8050, 236.9150, 832.6850, 301.8500]], device='cuda:0'), 'labels': tensor([1, 1], device='cuda:0')}, {'boxes': tensor([[414.1000, 116.3100, 596.7350, 446.9100]], device='cuda:0'), 'labels': tensor([1], device='cuda:0')}, {'boxes': tensor([[172.3900, 237.7600, 189.7400, 306.1000],\n",
      "        [300.3800, 226.4050, 330.8050, 322.4400],\n",
      "        [445.3300, 143.3050, 590.5900, 449.6150]], device='cuda:0'), 'labels': tensor([1, 1, 1], device='cuda:0')}, {'boxes': tensor([[229.8600, 140.3200, 736.6900, 412.0600]], device='cuda:0'), 'labels': tensor([1], device='cuda:0')})\n"
     ]
    },
    {
     "name": "stderr",
     "output_type": "stream",
     "text": [
      "100%|██████████| 5/5 [00:03<00:00,  1.36it/s]\n",
      "  0%|          | 0/5 [00:00<?, ?it/s]"
     ]
    },
    {
     "name": "stdout",
     "output_type": "stream",
     "text": [
      "anno_b ({'boxes': tensor([[411.8400, 127.2550, 584.7500, 448.9150]], device='cuda:0'), 'labels': tensor([1], device='cuda:0')}, {'boxes': tensor([[376.8700, 147.4800, 541.2250, 431.3950]], device='cuda:0'), 'labels': tensor([1], device='cuda:0')}, {'boxes': tensor([[414.1000, 116.3100, 596.7350, 446.9100]], device='cuda:0'), 'labels': tensor([1], device='cuda:0')}, {'boxes': tensor([[430.5100, 195.2650, 507.7150, 371.3350],\n",
      "        [799.7850, 170.9350, 958.9600, 443.4000]], device='cuda:0'), 'labels': tensor([1, 1], device='cuda:0')})\n"
     ]
    },
    {
     "name": "stderr",
     "output_type": "stream",
     "text": [
      " 20%|██        | 1/5 [00:00<00:02,  1.38it/s]"
     ]
    },
    {
     "name": "stdout",
     "output_type": "stream",
     "text": [
      "anno_b ({'boxes': tensor([[530.5950, 236.6900, 545.2800, 302.2250]], device='cuda:0'), 'labels': tensor([1], device='cuda:0')}, {'boxes': tensor([[233.6150, 114.4700, 590.1850, 490.9700]], device='cuda:0'), 'labels': tensor([1], device='cuda:0')}, {'boxes': tensor([[240.1350, 227.0250, 273.1500, 336.3200],\n",
      "        [454.5550, 220.2200, 482.2150, 326.8100],\n",
      "        [513.6250, 222.8750, 546.7900, 340.8150],\n",
      "        [651.3100, 211.2200, 690.8150, 340.3150]], device='cuda:0'), 'labels': tensor([1, 1, 1, 1], device='cuda:0')}, {'boxes': tensor([[200.4750, 119.4850, 398.8600, 450.9450]], device='cuda:0'), 'labels': tensor([1], device='cuda:0')})\n"
     ]
    },
    {
     "name": "stderr",
     "output_type": "stream",
     "text": [
      " 40%|████      | 2/5 [00:01<00:02,  1.36it/s]"
     ]
    },
    {
     "name": "stdout",
     "output_type": "stream",
     "text": [
      "anno_b ({'boxes': tensor([[114.1250, 144.4800, 301.6700, 440.5500],\n",
      "        [465.7550, 232.3650, 491.1750, 311.0800],\n",
      "        [546.0150, 232.6900, 564.0500, 302.0550]], device='cuda:0'), 'labels': tensor([1, 1, 1], device='cuda:0')}, {'boxes': tensor([[229.8600, 140.3200, 736.6900, 412.0600]], device='cuda:0'), 'labels': tensor([1], device='cuda:0')}, {'boxes': tensor([[152.5350, 195.5000, 185.1750, 406.8750],\n",
      "        [486.3900, 150.6900, 541.1900, 389.3650]], device='cuda:0'), 'labels': tensor([1, 1], device='cuda:0')}, {'boxes': tensor([[172.3900, 237.7600, 189.7400, 306.1000],\n",
      "        [300.3800, 226.4050, 330.8050, 322.4400],\n",
      "        [445.3300, 143.3050, 590.5900, 449.6150]], device='cuda:0'), 'labels': tensor([1, 1, 1], device='cuda:0')})\n"
     ]
    },
    {
     "name": "stderr",
     "output_type": "stream",
     "text": [
      " 60%|██████    | 3/5 [00:02<00:01,  1.36it/s]"
     ]
    },
    {
     "name": "stdout",
     "output_type": "stream",
     "text": [
      "anno_b ({'boxes': tensor([[495.5900, 165.0200, 603.2850, 393.8800]], device='cuda:0'), 'labels': tensor([1], device='cuda:0')}, {'boxes': tensor([[391.7450, 101.8250, 636.6100, 463.1600],\n",
      "        [768.1450, 208.6150, 813.9150, 354.0300]], device='cuda:0'), 'labels': tensor([1, 1], device='cuda:0')}, {'boxes': tensor([[412.4000, 148.3350, 583.2400, 435.3900]], device='cuda:0'), 'labels': tensor([1], device='cuda:0')}, {'boxes': tensor([[382.3250, 231.7050, 400.2300, 319.5150],\n",
      "        [772.8050, 236.9150, 832.6850, 301.8500]], device='cuda:0'), 'labels': tensor([1, 1], device='cuda:0')})\n"
     ]
    },
    {
     "name": "stderr",
     "output_type": "stream",
     "text": [
      " 80%|████████  | 4/5 [00:02<00:00,  1.37it/s]"
     ]
    },
    {
     "name": "stdout",
     "output_type": "stream",
     "text": [
      "anno_b ({'boxes': tensor([[133.2650, 114.7400, 337.6200, 458.9300]], device='cuda:0'), 'labels': tensor([1], device='cuda:0')}, {'boxes': tensor([[362.6650, 234.0200, 378.7850, 313.0050]], device='cuda:0'), 'labels': tensor([1], device='cuda:0')}, {'boxes': tensor([[152.8500, 171.4750, 269.5250, 403.7850],\n",
      "        [671.4750, 165.6400, 791.7100, 408.7450]], device='cuda:0'), 'labels': tensor([1, 1], device='cuda:0')}, {'boxes': tensor([[101.5750, 135.7650, 243.1950, 437.1900]], device='cuda:0'), 'labels': tensor([1], device='cuda:0')})\n"
     ]
    },
    {
     "name": "stderr",
     "output_type": "stream",
     "text": [
      "100%|██████████| 5/5 [00:03<00:00,  1.36it/s]\n",
      "100%|██████████| 3/3 [00:00<00:00,  3.07it/s]\n",
      "  0%|          | 0/5 [00:00<?, ?it/s]Clipping input data to the valid range for imshow with RGB data ([0..1] for floats or [0..255] for integers).\n",
      "Clipping input data to the valid range for imshow with RGB data ([0..1] for floats or [0..255] for integers).\n",
      " 20%|██        | 1/5 [00:00<00:01,  3.17it/s]Clipping input data to the valid range for imshow with RGB data ([0..1] for floats or [0..255] for integers).\n",
      "Clipping input data to the valid range for imshow with RGB data ([0..1] for floats or [0..255] for integers).\n",
      " 40%|████      | 2/5 [00:00<00:00,  3.14it/s]Clipping input data to the valid range for imshow with RGB data ([0..1] for floats or [0..255] for integers).\n",
      "Clipping input data to the valid range for imshow with RGB data ([0..1] for floats or [0..255] for integers).\n",
      " 60%|██████    | 3/5 [00:00<00:00,  3.13it/s]Clipping input data to the valid range for imshow with RGB data ([0..1] for floats or [0..255] for integers).\n",
      "Clipping input data to the valid range for imshow with RGB data ([0..1] for floats or [0..255] for integers).\n",
      " 80%|████████  | 4/5 [00:01<00:00,  3.14it/s]Clipping input data to the valid range for imshow with RGB data ([0..1] for floats or [0..255] for integers).\n",
      "Clipping input data to the valid range for imshow with RGB data ([0..1] for floats or [0..255] for integers).\n",
      "100%|██████████| 5/5 [00:01<00:00,  3.13it/s]\n",
      "  0%|          | 0/5 [00:00<?, ?it/s]"
     ]
    },
    {
     "name": "stdout",
     "output_type": "stream",
     "text": [
      "anno_b ({'boxes': tensor([[411.8400, 127.2550, 584.7500, 448.9150]], device='cuda:0'), 'labels': tensor([1], device='cuda:0')}, {'boxes': tensor([[229.8600, 140.3200, 736.6900, 412.0600]], device='cuda:0'), 'labels': tensor([1], device='cuda:0')}, {'boxes': tensor([[414.1000, 116.3100, 596.7350, 446.9100]], device='cuda:0'), 'labels': tensor([1], device='cuda:0')}, {'boxes': tensor([[114.1250, 144.4800, 301.6700, 440.5500],\n",
      "        [465.7550, 232.3650, 491.1750, 311.0800],\n",
      "        [546.0150, 232.6900, 564.0500, 302.0550]], device='cuda:0'), 'labels': tensor([1, 1, 1], device='cuda:0')})\n"
     ]
    },
    {
     "name": "stderr",
     "output_type": "stream",
     "text": [
      " 20%|██        | 1/5 [00:00<00:02,  1.38it/s]"
     ]
    },
    {
     "name": "stdout",
     "output_type": "stream",
     "text": [
      "anno_b ({'boxes': tensor([[133.2650, 114.7400, 337.6200, 458.9300]], device='cuda:0'), 'labels': tensor([1], device='cuda:0')}, {'boxes': tensor([[152.5350, 195.5000, 185.1750, 406.8750],\n",
      "        [486.3900, 150.6900, 541.1900, 389.3650]], device='cuda:0'), 'labels': tensor([1, 1], device='cuda:0')}, {'boxes': tensor([[172.3900, 237.7600, 189.7400, 306.1000],\n",
      "        [300.3800, 226.4050, 330.8050, 322.4400],\n",
      "        [445.3300, 143.3050, 590.5900, 449.6150]], device='cuda:0'), 'labels': tensor([1, 1, 1], device='cuda:0')}, {'boxes': tensor([[530.5950, 236.6900, 545.2800, 302.2250]], device='cuda:0'), 'labels': tensor([1], device='cuda:0')})\n"
     ]
    },
    {
     "name": "stderr",
     "output_type": "stream",
     "text": [
      " 40%|████      | 2/5 [00:01<00:02,  1.37it/s]"
     ]
    },
    {
     "name": "stdout",
     "output_type": "stream",
     "text": [
      "anno_b ({'boxes': tensor([[376.8700, 147.4800, 541.2250, 431.3950]], device='cuda:0'), 'labels': tensor([1], device='cuda:0')}, {'boxes': tensor([[412.4000, 148.3350, 583.2400, 435.3900]], device='cuda:0'), 'labels': tensor([1], device='cuda:0')}, {'boxes': tensor([[152.8500, 171.4750, 269.5250, 403.7850],\n",
      "        [671.4750, 165.6400, 791.7100, 408.7450]], device='cuda:0'), 'labels': tensor([1, 1], device='cuda:0')}, {'boxes': tensor([[233.6150, 114.4700, 590.1850, 490.9700]], device='cuda:0'), 'labels': tensor([1], device='cuda:0')})\n"
     ]
    },
    {
     "name": "stderr",
     "output_type": "stream",
     "text": [
      " 60%|██████    | 3/5 [00:02<00:01,  1.38it/s]"
     ]
    },
    {
     "name": "stdout",
     "output_type": "stream",
     "text": [
      "anno_b ({'boxes': tensor([[382.3250, 231.7050, 400.2300, 319.5150],\n",
      "        [772.8050, 236.9150, 832.6850, 301.8500]], device='cuda:0'), 'labels': tensor([1, 1], device='cuda:0')}, {'boxes': tensor([[362.6650, 234.0200, 378.7850, 313.0050]], device='cuda:0'), 'labels': tensor([1], device='cuda:0')}, {'boxes': tensor([[391.7450, 101.8250, 636.6100, 463.1600],\n",
      "        [768.1450, 208.6150, 813.9150, 354.0300]], device='cuda:0'), 'labels': tensor([1, 1], device='cuda:0')}, {'boxes': tensor([[240.1350, 227.0250, 273.1500, 336.3200],\n",
      "        [454.5550, 220.2200, 482.2150, 326.8100],\n",
      "        [513.6250, 222.8750, 546.7900, 340.8150],\n",
      "        [651.3100, 211.2200, 690.8150, 340.3150]], device='cuda:0'), 'labels': tensor([1, 1, 1, 1], device='cuda:0')})\n"
     ]
    },
    {
     "name": "stderr",
     "output_type": "stream",
     "text": [
      " 80%|████████  | 4/5 [00:02<00:00,  1.34it/s]"
     ]
    },
    {
     "name": "stdout",
     "output_type": "stream",
     "text": [
      "anno_b ({'boxes': tensor([[430.5100, 195.2650, 507.7150, 371.3350],\n",
      "        [799.7850, 170.9350, 958.9600, 443.4000]], device='cuda:0'), 'labels': tensor([1, 1], device='cuda:0')}, {'boxes': tensor([[495.5900, 165.0200, 603.2850, 393.8800]], device='cuda:0'), 'labels': tensor([1], device='cuda:0')}, {'boxes': tensor([[101.5750, 135.7650, 243.1950, 437.1900]], device='cuda:0'), 'labels': tensor([1], device='cuda:0')}, {'boxes': tensor([[200.4750, 119.4850, 398.8600, 450.9450]], device='cuda:0'), 'labels': tensor([1], device='cuda:0')})\n"
     ]
    },
    {
     "name": "stderr",
     "output_type": "stream",
     "text": [
      "100%|██████████| 5/5 [00:03<00:00,  1.35it/s]\n",
      "Clipping input data to the valid range for imshow with RGB data ([0..1] for floats or [0..255] for integers).\n",
      "Clipping input data to the valid range for imshow with RGB data ([0..1] for floats or [0..255] for integers).\n",
      "Clipping input data to the valid range for imshow with RGB data ([0..1] for floats or [0..255] for integers).\n",
      "Clipping input data to the valid range for imshow with RGB data ([0..1] for floats or [0..255] for integers).\n",
      "Clipping input data to the valid range for imshow with RGB data ([0..1] for floats or [0..255] for integers).\n",
      "Clipping input data to the valid range for imshow with RGB data ([0..1] for floats or [0..255] for integers).\n",
      "Clipping input data to the valid range for imshow with RGB data ([0..1] for floats or [0..255] for integers).\n",
      "Clipping input data to the valid range for imshow with RGB data ([0..1] for floats or [0..255] for integers).\n",
      "  0%|          | 0/5 [00:00<?, ?it/s]"
     ]
    },
    {
     "name": "stdout",
     "output_type": "stream",
     "text": [
      "anno_b ({'boxes': tensor([[530.5950, 236.6900, 545.2800, 302.2250]], device='cuda:0'), 'labels': tensor([1], device='cuda:0')}, {'boxes': tensor([[391.7450, 101.8250, 636.6100, 463.1600],\n",
      "        [768.1450, 208.6150, 813.9150, 354.0300]], device='cuda:0'), 'labels': tensor([1, 1], device='cuda:0')}, {'boxes': tensor([[152.8500, 171.4750, 269.5250, 403.7850],\n",
      "        [671.4750, 165.6400, 791.7100, 408.7450]], device='cuda:0'), 'labels': tensor([1, 1], device='cuda:0')}, {'boxes': tensor([[233.6150, 114.4700, 590.1850, 490.9700]], device='cuda:0'), 'labels': tensor([1], device='cuda:0')})\n"
     ]
    },
    {
     "name": "stderr",
     "output_type": "stream",
     "text": [
      " 20%|██        | 1/5 [00:00<00:03,  1.30it/s]"
     ]
    },
    {
     "name": "stdout",
     "output_type": "stream",
     "text": [
      "anno_b ({'boxes': tensor([[382.3250, 231.7050, 400.2300, 319.5150],\n",
      "        [772.8050, 236.9150, 832.6850, 301.8500]], device='cuda:0'), 'labels': tensor([1, 1], device='cuda:0')}, {'boxes': tensor([[414.1000, 116.3100, 596.7350, 446.9100]], device='cuda:0'), 'labels': tensor([1], device='cuda:0')}, {'boxes': tensor([[412.4000, 148.3350, 583.2400, 435.3900]], device='cuda:0'), 'labels': tensor([1], device='cuda:0')}, {'boxes': tensor([[411.8400, 127.2550, 584.7500, 448.9150]], device='cuda:0'), 'labels': tensor([1], device='cuda:0')})\n"
     ]
    },
    {
     "name": "stderr",
     "output_type": "stream",
     "text": [
      " 40%|████      | 2/5 [00:01<00:02,  1.32it/s]"
     ]
    },
    {
     "name": "stdout",
     "output_type": "stream",
     "text": [
      "anno_b ({'boxes': tensor([[152.5350, 195.5000, 185.1750, 406.8750],\n",
      "        [486.3900, 150.6900, 541.1900, 389.3650]], device='cuda:0'), 'labels': tensor([1, 1], device='cuda:0')}, {'boxes': tensor([[376.8700, 147.4800, 541.2250, 431.3950]], device='cuda:0'), 'labels': tensor([1], device='cuda:0')}, {'boxes': tensor([[133.2650, 114.7400, 337.6200, 458.9300]], device='cuda:0'), 'labels': tensor([1], device='cuda:0')}, {'boxes': tensor([[362.6650, 234.0200, 378.7850, 313.0050]], device='cuda:0'), 'labels': tensor([1], device='cuda:0')})\n"
     ]
    },
    {
     "name": "stderr",
     "output_type": "stream",
     "text": [
      " 60%|██████    | 3/5 [00:02<00:01,  1.33it/s]"
     ]
    },
    {
     "name": "stdout",
     "output_type": "stream",
     "text": [
      "anno_b ({'boxes': tensor([[200.4750, 119.4850, 398.8600, 450.9450]], device='cuda:0'), 'labels': tensor([1], device='cuda:0')}, {'boxes': tensor([[229.8600, 140.3200, 736.6900, 412.0600]], device='cuda:0'), 'labels': tensor([1], device='cuda:0')}, {'boxes': tensor([[114.1250, 144.4800, 301.6700, 440.5500],\n",
      "        [465.7550, 232.3650, 491.1750, 311.0800],\n",
      "        [546.0150, 232.6900, 564.0500, 302.0550]], device='cuda:0'), 'labels': tensor([1, 1, 1], device='cuda:0')}, {'boxes': tensor([[430.5100, 195.2650, 507.7150, 371.3350],\n",
      "        [799.7850, 170.9350, 958.9600, 443.4000]], device='cuda:0'), 'labels': tensor([1, 1], device='cuda:0')})\n"
     ]
    },
    {
     "name": "stderr",
     "output_type": "stream",
     "text": [
      " 80%|████████  | 4/5 [00:03<00:00,  1.33it/s]"
     ]
    },
    {
     "name": "stdout",
     "output_type": "stream",
     "text": [
      "anno_b ({'boxes': tensor([[101.5750, 135.7650, 243.1950, 437.1900]], device='cuda:0'), 'labels': tensor([1], device='cuda:0')}, {'boxes': tensor([[172.3900, 237.7600, 189.7400, 306.1000],\n",
      "        [300.3800, 226.4050, 330.8050, 322.4400],\n",
      "        [445.3300, 143.3050, 590.5900, 449.6150]], device='cuda:0'), 'labels': tensor([1, 1, 1], device='cuda:0')}, {'boxes': tensor([[495.5900, 165.0200, 603.2850, 393.8800]], device='cuda:0'), 'labels': tensor([1], device='cuda:0')}, {'boxes': tensor([[240.1350, 227.0250, 273.1500, 336.3200],\n",
      "        [454.5550, 220.2200, 482.2150, 326.8100],\n",
      "        [513.6250, 222.8750, 546.7900, 340.8150],\n",
      "        [651.3100, 211.2200, 690.8150, 340.3150]], device='cuda:0'), 'labels': tensor([1, 1, 1, 1], device='cuda:0')})\n"
     ]
    },
    {
     "name": "stderr",
     "output_type": "stream",
     "text": [
      "100%|██████████| 5/5 [00:03<00:00,  1.32it/s]\n",
      "  0%|          | 0/5 [00:00<?, ?it/s]"
     ]
    },
    {
     "name": "stdout",
     "output_type": "stream",
     "text": [
      "anno_b ({'boxes': tensor([[229.8600, 140.3200, 736.6900, 412.0600]], device='cuda:0'), 'labels': tensor([1], device='cuda:0')}, {'boxes': tensor([[376.8700, 147.4800, 541.2250, 431.3950]], device='cuda:0'), 'labels': tensor([1], device='cuda:0')}, {'boxes': tensor([[382.3250, 231.7050, 400.2300, 319.5150],\n",
      "        [772.8050, 236.9150, 832.6850, 301.8500]], device='cuda:0'), 'labels': tensor([1, 1], device='cuda:0')}, {'boxes': tensor([[152.8500, 171.4750, 269.5250, 403.7850],\n",
      "        [671.4750, 165.6400, 791.7100, 408.7450]], device='cuda:0'), 'labels': tensor([1, 1], device='cuda:0')})\n"
     ]
    },
    {
     "name": "stderr",
     "output_type": "stream",
     "text": [
      " 20%|██        | 1/5 [00:00<00:02,  1.33it/s]"
     ]
    },
    {
     "name": "stdout",
     "output_type": "stream",
     "text": [
      "anno_b ({'boxes': tensor([[240.1350, 227.0250, 273.1500, 336.3200],\n",
      "        [454.5550, 220.2200, 482.2150, 326.8100],\n",
      "        [513.6250, 222.8750, 546.7900, 340.8150],\n",
      "        [651.3100, 211.2200, 690.8150, 340.3150]], device='cuda:0'), 'labels': tensor([1, 1, 1, 1], device='cuda:0')}, {'boxes': tensor([[200.4750, 119.4850, 398.8600, 450.9450]], device='cuda:0'), 'labels': tensor([1], device='cuda:0')}, {'boxes': tensor([[391.7450, 101.8250, 636.6100, 463.1600],\n",
      "        [768.1450, 208.6150, 813.9150, 354.0300]], device='cuda:0'), 'labels': tensor([1, 1], device='cuda:0')}, {'boxes': tensor([[411.8400, 127.2550, 584.7500, 448.9150]], device='cuda:0'), 'labels': tensor([1], device='cuda:0')})\n"
     ]
    },
    {
     "name": "stderr",
     "output_type": "stream",
     "text": [
      " 40%|████      | 2/5 [00:01<00:02,  1.34it/s]"
     ]
    },
    {
     "name": "stdout",
     "output_type": "stream",
     "text": [
      "anno_b ({'boxes': tensor([[101.5750, 135.7650, 243.1950, 437.1900]], device='cuda:0'), 'labels': tensor([1], device='cuda:0')}, {'boxes': tensor([[152.5350, 195.5000, 185.1750, 406.8750],\n",
      "        [486.3900, 150.6900, 541.1900, 389.3650]], device='cuda:0'), 'labels': tensor([1, 1], device='cuda:0')}, {'boxes': tensor([[114.1250, 144.4800, 301.6700, 440.5500],\n",
      "        [465.7550, 232.3650, 491.1750, 311.0800],\n",
      "        [546.0150, 232.6900, 564.0500, 302.0550]], device='cuda:0'), 'labels': tensor([1, 1, 1], device='cuda:0')}, {'boxes': tensor([[430.5100, 195.2650, 507.7150, 371.3350],\n",
      "        [799.7850, 170.9350, 958.9600, 443.4000]], device='cuda:0'), 'labels': tensor([1, 1], device='cuda:0')})\n"
     ]
    },
    {
     "name": "stderr",
     "output_type": "stream",
     "text": [
      " 60%|██████    | 3/5 [00:02<00:01,  1.33it/s]"
     ]
    },
    {
     "name": "stdout",
     "output_type": "stream",
     "text": [
      "anno_b ({'boxes': tensor([[233.6150, 114.4700, 590.1850, 490.9700]], device='cuda:0'), 'labels': tensor([1], device='cuda:0')}, {'boxes': tensor([[530.5950, 236.6900, 545.2800, 302.2250]], device='cuda:0'), 'labels': tensor([1], device='cuda:0')}, {'boxes': tensor([[172.3900, 237.7600, 189.7400, 306.1000],\n",
      "        [300.3800, 226.4050, 330.8050, 322.4400],\n",
      "        [445.3300, 143.3050, 590.5900, 449.6150]], device='cuda:0'), 'labels': tensor([1, 1, 1], device='cuda:0')}, {'boxes': tensor([[362.6650, 234.0200, 378.7850, 313.0050]], device='cuda:0'), 'labels': tensor([1], device='cuda:0')})\n"
     ]
    },
    {
     "name": "stderr",
     "output_type": "stream",
     "text": [
      " 80%|████████  | 4/5 [00:03<00:00,  1.33it/s]"
     ]
    },
    {
     "name": "stdout",
     "output_type": "stream",
     "text": [
      "anno_b ({'boxes': tensor([[133.2650, 114.7400, 337.6200, 458.9300]], device='cuda:0'), 'labels': tensor([1], device='cuda:0')}, {'boxes': tensor([[495.5900, 165.0200, 603.2850, 393.8800]], device='cuda:0'), 'labels': tensor([1], device='cuda:0')}, {'boxes': tensor([[412.4000, 148.3350, 583.2400, 435.3900]], device='cuda:0'), 'labels': tensor([1], device='cuda:0')}, {'boxes': tensor([[414.1000, 116.3100, 596.7350, 446.9100]], device='cuda:0'), 'labels': tensor([1], device='cuda:0')})\n"
     ]
    },
    {
     "name": "stderr",
     "output_type": "stream",
     "text": [
      "100%|██████████| 5/5 [00:03<00:00,  1.31it/s]\n",
      "  0%|          | 0/5 [00:00<?, ?it/s]"
     ]
    },
    {
     "name": "stdout",
     "output_type": "stream",
     "text": [
      "anno_b ({'boxes': tensor([[240.1350, 227.0250, 273.1500, 336.3200],\n",
      "        [454.5550, 220.2200, 482.2150, 326.8100],\n",
      "        [513.6250, 222.8750, 546.7900, 340.8150],\n",
      "        [651.3100, 211.2200, 690.8150, 340.3150]], device='cuda:0'), 'labels': tensor([1, 1, 1, 1], device='cuda:0')}, {'boxes': tensor([[152.5350, 195.5000, 185.1750, 406.8750],\n",
      "        [486.3900, 150.6900, 541.1900, 389.3650]], device='cuda:0'), 'labels': tensor([1, 1], device='cuda:0')}, {'boxes': tensor([[382.3250, 231.7050, 400.2300, 319.5150],\n",
      "        [772.8050, 236.9150, 832.6850, 301.8500]], device='cuda:0'), 'labels': tensor([1, 1], device='cuda:0')}, {'boxes': tensor([[376.8700, 147.4800, 541.2250, 431.3950]], device='cuda:0'), 'labels': tensor([1], device='cuda:0')})\n"
     ]
    },
    {
     "name": "stderr",
     "output_type": "stream",
     "text": [
      " 20%|██        | 1/5 [00:00<00:03,  1.30it/s]"
     ]
    },
    {
     "name": "stdout",
     "output_type": "stream",
     "text": [
      "anno_b ({'boxes': tensor([[414.1000, 116.3100, 596.7350, 446.9100]], device='cuda:0'), 'labels': tensor([1], device='cuda:0')}, {'boxes': tensor([[430.5100, 195.2650, 507.7150, 371.3350],\n",
      "        [799.7850, 170.9350, 958.9600, 443.4000]], device='cuda:0'), 'labels': tensor([1, 1], device='cuda:0')}, {'boxes': tensor([[233.6150, 114.4700, 590.1850, 490.9700]], device='cuda:0'), 'labels': tensor([1], device='cuda:0')}, {'boxes': tensor([[530.5950, 236.6900, 545.2800, 302.2250]], device='cuda:0'), 'labels': tensor([1], device='cuda:0')})\n"
     ]
    },
    {
     "name": "stderr",
     "output_type": "stream",
     "text": [
      " 40%|████      | 2/5 [00:01<00:02,  1.32it/s]"
     ]
    },
    {
     "name": "stdout",
     "output_type": "stream",
     "text": [
      "anno_b ({'boxes': tensor([[495.5900, 165.0200, 603.2850, 393.8800]], device='cuda:0'), 'labels': tensor([1], device='cuda:0')}, {'boxes': tensor([[411.8400, 127.2550, 584.7500, 448.9150]], device='cuda:0'), 'labels': tensor([1], device='cuda:0')}, {'boxes': tensor([[391.7450, 101.8250, 636.6100, 463.1600],\n",
      "        [768.1450, 208.6150, 813.9150, 354.0300]], device='cuda:0'), 'labels': tensor([1, 1], device='cuda:0')}, {'boxes': tensor([[412.4000, 148.3350, 583.2400, 435.3900]], device='cuda:0'), 'labels': tensor([1], device='cuda:0')})\n"
     ]
    },
    {
     "name": "stderr",
     "output_type": "stream",
     "text": [
      " 60%|██████    | 3/5 [00:02<00:01,  1.32it/s]"
     ]
    },
    {
     "name": "stdout",
     "output_type": "stream",
     "text": [
      "anno_b ({'boxes': tensor([[114.1250, 144.4800, 301.6700, 440.5500],\n",
      "        [465.7550, 232.3650, 491.1750, 311.0800],\n",
      "        [546.0150, 232.6900, 564.0500, 302.0550]], device='cuda:0'), 'labels': tensor([1, 1, 1], device='cuda:0')}, {'boxes': tensor([[172.3900, 237.7600, 189.7400, 306.1000],\n",
      "        [300.3800, 226.4050, 330.8050, 322.4400],\n",
      "        [445.3300, 143.3050, 590.5900, 449.6150]], device='cuda:0'), 'labels': tensor([1, 1, 1], device='cuda:0')}, {'boxes': tensor([[152.8500, 171.4750, 269.5250, 403.7850],\n",
      "        [671.4750, 165.6400, 791.7100, 408.7450]], device='cuda:0'), 'labels': tensor([1, 1], device='cuda:0')}, {'boxes': tensor([[229.8600, 140.3200, 736.6900, 412.0600]], device='cuda:0'), 'labels': tensor([1], device='cuda:0')})\n"
     ]
    },
    {
     "name": "stderr",
     "output_type": "stream",
     "text": [
      " 80%|████████  | 4/5 [00:03<00:00,  1.33it/s]"
     ]
    },
    {
     "name": "stdout",
     "output_type": "stream",
     "text": [
      "anno_b ({'boxes': tensor([[133.2650, 114.7400, 337.6200, 458.9300]], device='cuda:0'), 'labels': tensor([1], device='cuda:0')}, {'boxes': tensor([[101.5750, 135.7650, 243.1950, 437.1900]], device='cuda:0'), 'labels': tensor([1], device='cuda:0')}, {'boxes': tensor([[200.4750, 119.4850, 398.8600, 450.9450]], device='cuda:0'), 'labels': tensor([1], device='cuda:0')}, {'boxes': tensor([[362.6650, 234.0200, 378.7850, 313.0050]], device='cuda:0'), 'labels': tensor([1], device='cuda:0')})\n"
     ]
    },
    {
     "name": "stderr",
     "output_type": "stream",
     "text": [
      "100%|██████████| 5/5 [00:03<00:00,  1.33it/s]\n",
      "  0%|          | 0/5 [00:00<?, ?it/s]"
     ]
    },
    {
     "name": "stdout",
     "output_type": "stream",
     "text": [
      "anno_b ({'boxes': tensor([[391.7450, 101.8250, 636.6100, 463.1600],\n",
      "        [768.1450, 208.6150, 813.9150, 354.0300]], device='cuda:0'), 'labels': tensor([1, 1], device='cuda:0')}, {'boxes': tensor([[530.5950, 236.6900, 545.2800, 302.2250]], device='cuda:0'), 'labels': tensor([1], device='cuda:0')}, {'boxes': tensor([[376.8700, 147.4800, 541.2250, 431.3950]], device='cuda:0'), 'labels': tensor([1], device='cuda:0')}, {'boxes': tensor([[412.4000, 148.3350, 583.2400, 435.3900]], device='cuda:0'), 'labels': tensor([1], device='cuda:0')})\n"
     ]
    },
    {
     "name": "stderr",
     "output_type": "stream",
     "text": [
      " 20%|██        | 1/5 [00:00<00:02,  1.34it/s]"
     ]
    },
    {
     "name": "stdout",
     "output_type": "stream",
     "text": [
      "anno_b ({'boxes': tensor([[114.1250, 144.4800, 301.6700, 440.5500],\n",
      "        [465.7550, 232.3650, 491.1750, 311.0800],\n",
      "        [546.0150, 232.6900, 564.0500, 302.0550]], device='cuda:0'), 'labels': tensor([1, 1, 1], device='cuda:0')}, {'boxes': tensor([[152.5350, 195.5000, 185.1750, 406.8750],\n",
      "        [486.3900, 150.6900, 541.1900, 389.3650]], device='cuda:0'), 'labels': tensor([1, 1], device='cuda:0')}, {'boxes': tensor([[240.1350, 227.0250, 273.1500, 336.3200],\n",
      "        [454.5550, 220.2200, 482.2150, 326.8100],\n",
      "        [513.6250, 222.8750, 546.7900, 340.8150],\n",
      "        [651.3100, 211.2200, 690.8150, 340.3150]], device='cuda:0'), 'labels': tensor([1, 1, 1, 1], device='cuda:0')}, {'boxes': tensor([[200.4750, 119.4850, 398.8600, 450.9450]], device='cuda:0'), 'labels': tensor([1], device='cuda:0')})\n"
     ]
    },
    {
     "name": "stderr",
     "output_type": "stream",
     "text": [
      " 40%|████      | 2/5 [00:01<00:02,  1.34it/s]"
     ]
    },
    {
     "name": "stdout",
     "output_type": "stream",
     "text": [
      "anno_b ({'boxes': tensor([[101.5750, 135.7650, 243.1950, 437.1900]], device='cuda:0'), 'labels': tensor([1], device='cuda:0')}, {'boxes': tensor([[430.5100, 195.2650, 507.7150, 371.3350],\n",
      "        [799.7850, 170.9350, 958.9600, 443.4000]], device='cuda:0'), 'labels': tensor([1, 1], device='cuda:0')}, {'boxes': tensor([[233.6150, 114.4700, 590.1850, 490.9700]], device='cuda:0'), 'labels': tensor([1], device='cuda:0')}, {'boxes': tensor([[172.3900, 237.7600, 189.7400, 306.1000],\n",
      "        [300.3800, 226.4050, 330.8050, 322.4400],\n",
      "        [445.3300, 143.3050, 590.5900, 449.6150]], device='cuda:0'), 'labels': tensor([1, 1, 1], device='cuda:0')})\n"
     ]
    },
    {
     "name": "stderr",
     "output_type": "stream",
     "text": [
      " 60%|██████    | 3/5 [00:02<00:01,  1.34it/s]"
     ]
    },
    {
     "name": "stdout",
     "output_type": "stream",
     "text": [
      "anno_b ({'boxes': tensor([[495.5900, 165.0200, 603.2850, 393.8800]], device='cuda:0'), 'labels': tensor([1], device='cuda:0')}, {'boxes': tensor([[411.8400, 127.2550, 584.7500, 448.9150]], device='cuda:0'), 'labels': tensor([1], device='cuda:0')}, {'boxes': tensor([[414.1000, 116.3100, 596.7350, 446.9100]], device='cuda:0'), 'labels': tensor([1], device='cuda:0')}, {'boxes': tensor([[152.8500, 171.4750, 269.5250, 403.7850],\n",
      "        [671.4750, 165.6400, 791.7100, 408.7450]], device='cuda:0'), 'labels': tensor([1, 1], device='cuda:0')})\n"
     ]
    },
    {
     "name": "stderr",
     "output_type": "stream",
     "text": [
      " 80%|████████  | 4/5 [00:03<00:00,  1.32it/s]"
     ]
    },
    {
     "name": "stdout",
     "output_type": "stream",
     "text": [
      "anno_b ({'boxes': tensor([[362.6650, 234.0200, 378.7850, 313.0050]], device='cuda:0'), 'labels': tensor([1], device='cuda:0')}, {'boxes': tensor([[382.3250, 231.7050, 400.2300, 319.5150],\n",
      "        [772.8050, 236.9150, 832.6850, 301.8500]], device='cuda:0'), 'labels': tensor([1, 1], device='cuda:0')}, {'boxes': tensor([[229.8600, 140.3200, 736.6900, 412.0600]], device='cuda:0'), 'labels': tensor([1], device='cuda:0')}, {'boxes': tensor([[133.2650, 114.7400, 337.6200, 458.9300]], device='cuda:0'), 'labels': tensor([1], device='cuda:0')})\n"
     ]
    },
    {
     "name": "stderr",
     "output_type": "stream",
     "text": [
      "100%|██████████| 5/5 [00:03<00:00,  1.33it/s]\n",
      "100%|██████████| 3/3 [00:01<00:00,  2.84it/s]\n",
      "  0%|          | 0/5 [00:00<?, ?it/s]Clipping input data to the valid range for imshow with RGB data ([0..1] for floats or [0..255] for integers).\n",
      "Clipping input data to the valid range for imshow with RGB data ([0..1] for floats or [0..255] for integers).\n",
      " 20%|██        | 1/5 [00:00<00:01,  2.56it/s]Clipping input data to the valid range for imshow with RGB data ([0..1] for floats or [0..255] for integers).\n",
      "Clipping input data to the valid range for imshow with RGB data ([0..1] for floats or [0..255] for integers).\n",
      " 40%|████      | 2/5 [00:00<00:01,  2.54it/s]Clipping input data to the valid range for imshow with RGB data ([0..1] for floats or [0..255] for integers).\n",
      "Clipping input data to the valid range for imshow with RGB data ([0..1] for floats or [0..255] for integers).\n",
      " 60%|██████    | 3/5 [00:01<00:00,  2.56it/s]Clipping input data to the valid range for imshow with RGB data ([0..1] for floats or [0..255] for integers).\n",
      "Clipping input data to the valid range for imshow with RGB data ([0..1] for floats or [0..255] for integers).\n",
      " 80%|████████  | 4/5 [00:01<00:00,  2.75it/s]Clipping input data to the valid range for imshow with RGB data ([0..1] for floats or [0..255] for integers).\n",
      "Clipping input data to the valid range for imshow with RGB data ([0..1] for floats or [0..255] for integers).\n",
      "100%|██████████| 5/5 [00:01<00:00,  2.72it/s]\n",
      "  0%|          | 0/5 [00:00<?, ?it/s]"
     ]
    },
    {
     "name": "stdout",
     "output_type": "stream",
     "text": [
      "anno_b ({'boxes': tensor([[412.4000, 148.3350, 583.2400, 435.3900]], device='cuda:0'), 'labels': tensor([1], device='cuda:0')}, {'boxes': tensor([[376.8700, 147.4800, 541.2250, 431.3950]], device='cuda:0'), 'labels': tensor([1], device='cuda:0')}, {'boxes': tensor([[530.5950, 236.6900, 545.2800, 302.2250]], device='cuda:0'), 'labels': tensor([1], device='cuda:0')}, {'boxes': tensor([[133.2650, 114.7400, 337.6200, 458.9300]], device='cuda:0'), 'labels': tensor([1], device='cuda:0')})\n"
     ]
    },
    {
     "name": "stderr",
     "output_type": "stream",
     "text": [
      " 20%|██        | 1/5 [00:00<00:02,  1.36it/s]"
     ]
    },
    {
     "name": "stdout",
     "output_type": "stream",
     "text": [
      "anno_b ({'boxes': tensor([[382.3250, 231.7050, 400.2300, 319.5150],\n",
      "        [772.8050, 236.9150, 832.6850, 301.8500]], device='cuda:0'), 'labels': tensor([1, 1], device='cuda:0')}, {'boxes': tensor([[362.6650, 234.0200, 378.7850, 313.0050]], device='cuda:0'), 'labels': tensor([1], device='cuda:0')}, {'boxes': tensor([[233.6150, 114.4700, 590.1850, 490.9700]], device='cuda:0'), 'labels': tensor([1], device='cuda:0')}, {'boxes': tensor([[101.5750, 135.7650, 243.1950, 437.1900]], device='cuda:0'), 'labels': tensor([1], device='cuda:0')})\n"
     ]
    },
    {
     "name": "stderr",
     "output_type": "stream",
     "text": [
      " 40%|████      | 2/5 [00:01<00:02,  1.37it/s]"
     ]
    },
    {
     "name": "stdout",
     "output_type": "stream",
     "text": [
      "anno_b ({'boxes': tensor([[229.8600, 140.3200, 736.6900, 412.0600]], device='cuda:0'), 'labels': tensor([1], device='cuda:0')}, {'boxes': tensor([[495.5900, 165.0200, 603.2850, 393.8800]], device='cuda:0'), 'labels': tensor([1], device='cuda:0')}, {'boxes': tensor([[172.3900, 237.7600, 189.7400, 306.1000],\n",
      "        [300.3800, 226.4050, 330.8050, 322.4400],\n",
      "        [445.3300, 143.3050, 590.5900, 449.6150]], device='cuda:0'), 'labels': tensor([1, 1, 1], device='cuda:0')}, {'boxes': tensor([[152.8500, 171.4750, 269.5250, 403.7850],\n",
      "        [671.4750, 165.6400, 791.7100, 408.7450]], device='cuda:0'), 'labels': tensor([1, 1], device='cuda:0')})\n"
     ]
    },
    {
     "name": "stderr",
     "output_type": "stream",
     "text": [
      " 60%|██████    | 3/5 [00:02<00:01,  1.37it/s]"
     ]
    },
    {
     "name": "stdout",
     "output_type": "stream",
     "text": [
      "anno_b ({'boxes': tensor([[114.1250, 144.4800, 301.6700, 440.5500],\n",
      "        [465.7550, 232.3650, 491.1750, 311.0800],\n",
      "        [546.0150, 232.6900, 564.0500, 302.0550]], device='cuda:0'), 'labels': tensor([1, 1, 1], device='cuda:0')}, {'boxes': tensor([[414.1000, 116.3100, 596.7350, 446.9100]], device='cuda:0'), 'labels': tensor([1], device='cuda:0')}, {'boxes': tensor([[411.8400, 127.2550, 584.7500, 448.9150]], device='cuda:0'), 'labels': tensor([1], device='cuda:0')}, {'boxes': tensor([[240.1350, 227.0250, 273.1500, 336.3200],\n",
      "        [454.5550, 220.2200, 482.2150, 326.8100],\n",
      "        [513.6250, 222.8750, 546.7900, 340.8150],\n",
      "        [651.3100, 211.2200, 690.8150, 340.3150]], device='cuda:0'), 'labels': tensor([1, 1, 1, 1], device='cuda:0')})\n"
     ]
    },
    {
     "name": "stderr",
     "output_type": "stream",
     "text": [
      " 80%|████████  | 4/5 [00:02<00:00,  1.39it/s]"
     ]
    },
    {
     "name": "stdout",
     "output_type": "stream",
     "text": [
      "anno_b ({'boxes': tensor([[200.4750, 119.4850, 398.8600, 450.9450]], device='cuda:0'), 'labels': tensor([1], device='cuda:0')}, {'boxes': tensor([[391.7450, 101.8250, 636.6100, 463.1600],\n",
      "        [768.1450, 208.6150, 813.9150, 354.0300]], device='cuda:0'), 'labels': tensor([1, 1], device='cuda:0')}, {'boxes': tensor([[152.5350, 195.5000, 185.1750, 406.8750],\n",
      "        [486.3900, 150.6900, 541.1900, 389.3650]], device='cuda:0'), 'labels': tensor([1, 1], device='cuda:0')}, {'boxes': tensor([[430.5100, 195.2650, 507.7150, 371.3350],\n",
      "        [799.7850, 170.9350, 958.9600, 443.4000]], device='cuda:0'), 'labels': tensor([1, 1], device='cuda:0')})\n"
     ]
    },
    {
     "name": "stderr",
     "output_type": "stream",
     "text": [
      "100%|██████████| 5/5 [00:03<00:00,  1.39it/s]\n",
      "Clipping input data to the valid range for imshow with RGB data ([0..1] for floats or [0..255] for integers).\n",
      "Clipping input data to the valid range for imshow with RGB data ([0..1] for floats or [0..255] for integers).\n",
      "Clipping input data to the valid range for imshow with RGB data ([0..1] for floats or [0..255] for integers).\n",
      "Clipping input data to the valid range for imshow with RGB data ([0..1] for floats or [0..255] for integers).\n",
      "Clipping input data to the valid range for imshow with RGB data ([0..1] for floats or [0..255] for integers).\n",
      "Clipping input data to the valid range for imshow with RGB data ([0..1] for floats or [0..255] for integers).\n",
      "Clipping input data to the valid range for imshow with RGB data ([0..1] for floats or [0..255] for integers).\n",
      "Clipping input data to the valid range for imshow with RGB data ([0..1] for floats or [0..255] for integers).\n",
      "  0%|          | 0/5 [00:00<?, ?it/s]"
     ]
    },
    {
     "name": "stdout",
     "output_type": "stream",
     "text": [
      "anno_b ({'boxes': tensor([[382.3250, 231.7050, 400.2300, 319.5150],\n",
      "        [772.8050, 236.9150, 832.6850, 301.8500]], device='cuda:0'), 'labels': tensor([1, 1], device='cuda:0')}, {'boxes': tensor([[172.3900, 237.7600, 189.7400, 306.1000],\n",
      "        [300.3800, 226.4050, 330.8050, 322.4400],\n",
      "        [445.3300, 143.3050, 590.5900, 449.6150]], device='cuda:0'), 'labels': tensor([1, 1, 1], device='cuda:0')}, {'boxes': tensor([[495.5900, 165.0200, 603.2850, 393.8800]], device='cuda:0'), 'labels': tensor([1], device='cuda:0')}, {'boxes': tensor([[430.5100, 195.2650, 507.7150, 371.3350],\n",
      "        [799.7850, 170.9350, 958.9600, 443.4000]], device='cuda:0'), 'labels': tensor([1, 1], device='cuda:0')})\n"
     ]
    },
    {
     "name": "stderr",
     "output_type": "stream",
     "text": [
      " 20%|██        | 1/5 [00:00<00:02,  1.40it/s]"
     ]
    },
    {
     "name": "stdout",
     "output_type": "stream",
     "text": [
      "anno_b ({'boxes': tensor([[411.8400, 127.2550, 584.7500, 448.9150]], device='cuda:0'), 'labels': tensor([1], device='cuda:0')}, {'boxes': tensor([[152.5350, 195.5000, 185.1750, 406.8750],\n",
      "        [486.3900, 150.6900, 541.1900, 389.3650]], device='cuda:0'), 'labels': tensor([1, 1], device='cuda:0')}, {'boxes': tensor([[233.6150, 114.4700, 590.1850, 490.9700]], device='cuda:0'), 'labels': tensor([1], device='cuda:0')}, {'boxes': tensor([[376.8700, 147.4800, 541.2250, 431.3950]], device='cuda:0'), 'labels': tensor([1], device='cuda:0')})\n"
     ]
    },
    {
     "name": "stderr",
     "output_type": "stream",
     "text": [
      " 40%|████      | 2/5 [00:01<00:02,  1.38it/s]"
     ]
    },
    {
     "name": "stdout",
     "output_type": "stream",
     "text": [
      "anno_b ({'boxes': tensor([[200.4750, 119.4850, 398.8600, 450.9450]], device='cuda:0'), 'labels': tensor([1], device='cuda:0')}, {'boxes': tensor([[412.4000, 148.3350, 583.2400, 435.3900]], device='cuda:0'), 'labels': tensor([1], device='cuda:0')}, {'boxes': tensor([[152.8500, 171.4750, 269.5250, 403.7850],\n",
      "        [671.4750, 165.6400, 791.7100, 408.7450]], device='cuda:0'), 'labels': tensor([1, 1], device='cuda:0')}, {'boxes': tensor([[530.5950, 236.6900, 545.2800, 302.2250]], device='cuda:0'), 'labels': tensor([1], device='cuda:0')})\n"
     ]
    },
    {
     "name": "stderr",
     "output_type": "stream",
     "text": [
      " 60%|██████    | 3/5 [00:02<00:01,  1.40it/s]"
     ]
    },
    {
     "name": "stdout",
     "output_type": "stream",
     "text": [
      "anno_b ({'boxes': tensor([[391.7450, 101.8250, 636.6100, 463.1600],\n",
      "        [768.1450, 208.6150, 813.9150, 354.0300]], device='cuda:0'), 'labels': tensor([1, 1], device='cuda:0')}, {'boxes': tensor([[133.2650, 114.7400, 337.6200, 458.9300]], device='cuda:0'), 'labels': tensor([1], device='cuda:0')}, {'boxes': tensor([[414.1000, 116.3100, 596.7350, 446.9100]], device='cuda:0'), 'labels': tensor([1], device='cuda:0')}, {'boxes': tensor([[101.5750, 135.7650, 243.1950, 437.1900]], device='cuda:0'), 'labels': tensor([1], device='cuda:0')})\n"
     ]
    },
    {
     "name": "stderr",
     "output_type": "stream",
     "text": [
      " 80%|████████  | 4/5 [00:02<00:00,  1.41it/s]"
     ]
    },
    {
     "name": "stdout",
     "output_type": "stream",
     "text": [
      "anno_b ({'boxes': tensor([[229.8600, 140.3200, 736.6900, 412.0600]], device='cuda:0'), 'labels': tensor([1], device='cuda:0')}, {'boxes': tensor([[240.1350, 227.0250, 273.1500, 336.3200],\n",
      "        [454.5550, 220.2200, 482.2150, 326.8100],\n",
      "        [513.6250, 222.8750, 546.7900, 340.8150],\n",
      "        [651.3100, 211.2200, 690.8150, 340.3150]], device='cuda:0'), 'labels': tensor([1, 1, 1, 1], device='cuda:0')}, {'boxes': tensor([[114.1250, 144.4800, 301.6700, 440.5500],\n",
      "        [465.7550, 232.3650, 491.1750, 311.0800],\n",
      "        [546.0150, 232.6900, 564.0500, 302.0550]], device='cuda:0'), 'labels': tensor([1, 1, 1], device='cuda:0')}, {'boxes': tensor([[362.6650, 234.0200, 378.7850, 313.0050]], device='cuda:0'), 'labels': tensor([1], device='cuda:0')})\n"
     ]
    },
    {
     "name": "stderr",
     "output_type": "stream",
     "text": [
      "100%|██████████| 5/5 [00:03<00:00,  1.40it/s]\n",
      "  0%|          | 0/5 [00:00<?, ?it/s]"
     ]
    },
    {
     "name": "stdout",
     "output_type": "stream",
     "text": [
      "anno_b ({'boxes': tensor([[530.5950, 236.6900, 545.2800, 302.2250]], device='cuda:0'), 'labels': tensor([1], device='cuda:0')}, {'boxes': tensor([[133.2650, 114.7400, 337.6200, 458.9300]], device='cuda:0'), 'labels': tensor([1], device='cuda:0')}, {'boxes': tensor([[229.8600, 140.3200, 736.6900, 412.0600]], device='cuda:0'), 'labels': tensor([1], device='cuda:0')}, {'boxes': tensor([[414.1000, 116.3100, 596.7350, 446.9100]], device='cuda:0'), 'labels': tensor([1], device='cuda:0')})\n"
     ]
    },
    {
     "name": "stderr",
     "output_type": "stream",
     "text": [
      " 20%|██        | 1/5 [00:00<00:02,  1.42it/s]"
     ]
    },
    {
     "name": "stdout",
     "output_type": "stream",
     "text": [
      "anno_b ({'boxes': tensor([[412.4000, 148.3350, 583.2400, 435.3900]], device='cuda:0'), 'labels': tensor([1], device='cuda:0')}, {'boxes': tensor([[495.5900, 165.0200, 603.2850, 393.8800]], device='cuda:0'), 'labels': tensor([1], device='cuda:0')}, {'boxes': tensor([[430.5100, 195.2650, 507.7150, 371.3350],\n",
      "        [799.7850, 170.9350, 958.9600, 443.4000]], device='cuda:0'), 'labels': tensor([1, 1], device='cuda:0')}, {'boxes': tensor([[152.5350, 195.5000, 185.1750, 406.8750],\n",
      "        [486.3900, 150.6900, 541.1900, 389.3650]], device='cuda:0'), 'labels': tensor([1, 1], device='cuda:0')})\n"
     ]
    },
    {
     "name": "stderr",
     "output_type": "stream",
     "text": [
      " 40%|████      | 2/5 [00:01<00:02,  1.43it/s]"
     ]
    },
    {
     "name": "stdout",
     "output_type": "stream",
     "text": [
      "anno_b ({'boxes': tensor([[114.1250, 144.4800, 301.6700, 440.5500],\n",
      "        [465.7550, 232.3650, 491.1750, 311.0800],\n",
      "        [546.0150, 232.6900, 564.0500, 302.0550]], device='cuda:0'), 'labels': tensor([1, 1, 1], device='cuda:0')}, {'boxes': tensor([[391.7450, 101.8250, 636.6100, 463.1600],\n",
      "        [768.1450, 208.6150, 813.9150, 354.0300]], device='cuda:0'), 'labels': tensor([1, 1], device='cuda:0')}, {'boxes': tensor([[240.1350, 227.0250, 273.1500, 336.3200],\n",
      "        [454.5550, 220.2200, 482.2150, 326.8100],\n",
      "        [513.6250, 222.8750, 546.7900, 340.8150],\n",
      "        [651.3100, 211.2200, 690.8150, 340.3150]], device='cuda:0'), 'labels': tensor([1, 1, 1, 1], device='cuda:0')}, {'boxes': tensor([[152.8500, 171.4750, 269.5250, 403.7850],\n",
      "        [671.4750, 165.6400, 791.7100, 408.7450]], device='cuda:0'), 'labels': tensor([1, 1], device='cuda:0')})\n"
     ]
    },
    {
     "name": "stderr",
     "output_type": "stream",
     "text": [
      " 60%|██████    | 3/5 [00:02<00:01,  1.42it/s]"
     ]
    },
    {
     "name": "stdout",
     "output_type": "stream",
     "text": [
      "anno_b ({'boxes': tensor([[101.5750, 135.7650, 243.1950, 437.1900]], device='cuda:0'), 'labels': tensor([1], device='cuda:0')}, {'boxes': tensor([[233.6150, 114.4700, 590.1850, 490.9700]], device='cuda:0'), 'labels': tensor([1], device='cuda:0')}, {'boxes': tensor([[411.8400, 127.2550, 584.7500, 448.9150]], device='cuda:0'), 'labels': tensor([1], device='cuda:0')}, {'boxes': tensor([[376.8700, 147.4800, 541.2250, 431.3950]], device='cuda:0'), 'labels': tensor([1], device='cuda:0')})\n"
     ]
    },
    {
     "name": "stderr",
     "output_type": "stream",
     "text": [
      " 80%|████████  | 4/5 [00:02<00:00,  1.41it/s]"
     ]
    },
    {
     "name": "stdout",
     "output_type": "stream",
     "text": [
      "anno_b ({'boxes': tensor([[362.6650, 234.0200, 378.7850, 313.0050]], device='cuda:0'), 'labels': tensor([1], device='cuda:0')}, {'boxes': tensor([[382.3250, 231.7050, 400.2300, 319.5150],\n",
      "        [772.8050, 236.9150, 832.6850, 301.8500]], device='cuda:0'), 'labels': tensor([1, 1], device='cuda:0')}, {'boxes': tensor([[172.3900, 237.7600, 189.7400, 306.1000],\n",
      "        [300.3800, 226.4050, 330.8050, 322.4400],\n",
      "        [445.3300, 143.3050, 590.5900, 449.6150]], device='cuda:0'), 'labels': tensor([1, 1, 1], device='cuda:0')}, {'boxes': tensor([[200.4750, 119.4850, 398.8600, 450.9450]], device='cuda:0'), 'labels': tensor([1], device='cuda:0')})\n"
     ]
    },
    {
     "name": "stderr",
     "output_type": "stream",
     "text": [
      "100%|██████████| 5/5 [00:03<00:00,  1.42it/s]\n",
      "  0%|          | 0/5 [00:00<?, ?it/s]"
     ]
    },
    {
     "name": "stdout",
     "output_type": "stream",
     "text": [
      "anno_b ({'boxes': tensor([[430.5100, 195.2650, 507.7150, 371.3350],\n",
      "        [799.7850, 170.9350, 958.9600, 443.4000]], device='cuda:0'), 'labels': tensor([1, 1], device='cuda:0')}, {'boxes': tensor([[200.4750, 119.4850, 398.8600, 450.9450]], device='cuda:0'), 'labels': tensor([1], device='cuda:0')}, {'boxes': tensor([[414.1000, 116.3100, 596.7350, 446.9100]], device='cuda:0'), 'labels': tensor([1], device='cuda:0')}, {'boxes': tensor([[382.3250, 231.7050, 400.2300, 319.5150],\n",
      "        [772.8050, 236.9150, 832.6850, 301.8500]], device='cuda:0'), 'labels': tensor([1, 1], device='cuda:0')})\n"
     ]
    },
    {
     "name": "stderr",
     "output_type": "stream",
     "text": [
      " 20%|██        | 1/5 [00:00<00:02,  1.43it/s]"
     ]
    },
    {
     "name": "stdout",
     "output_type": "stream",
     "text": [
      "anno_b ({'boxes': tensor([[233.6150, 114.4700, 590.1850, 490.9700]], device='cuda:0'), 'labels': tensor([1], device='cuda:0')}, {'boxes': tensor([[530.5950, 236.6900, 545.2800, 302.2250]], device='cuda:0'), 'labels': tensor([1], device='cuda:0')}, {'boxes': tensor([[133.2650, 114.7400, 337.6200, 458.9300]], device='cuda:0'), 'labels': tensor([1], device='cuda:0')}, {'boxes': tensor([[495.5900, 165.0200, 603.2850, 393.8800]], device='cuda:0'), 'labels': tensor([1], device='cuda:0')})\n"
     ]
    },
    {
     "name": "stderr",
     "output_type": "stream",
     "text": [
      " 40%|████      | 2/5 [00:01<00:02,  1.42it/s]"
     ]
    },
    {
     "name": "stdout",
     "output_type": "stream",
     "text": [
      "anno_b ({'boxes': tensor([[172.3900, 237.7600, 189.7400, 306.1000],\n",
      "        [300.3800, 226.4050, 330.8050, 322.4400],\n",
      "        [445.3300, 143.3050, 590.5900, 449.6150]], device='cuda:0'), 'labels': tensor([1, 1, 1], device='cuda:0')}, {'boxes': tensor([[240.1350, 227.0250, 273.1500, 336.3200],\n",
      "        [454.5550, 220.2200, 482.2150, 326.8100],\n",
      "        [513.6250, 222.8750, 546.7900, 340.8150],\n",
      "        [651.3100, 211.2200, 690.8150, 340.3150]], device='cuda:0'), 'labels': tensor([1, 1, 1, 1], device='cuda:0')}, {'boxes': tensor([[229.8600, 140.3200, 736.6900, 412.0600]], device='cuda:0'), 'labels': tensor([1], device='cuda:0')}, {'boxes': tensor([[152.5350, 195.5000, 185.1750, 406.8750],\n",
      "        [486.3900, 150.6900, 541.1900, 389.3650]], device='cuda:0'), 'labels': tensor([1, 1], device='cuda:0')})\n"
     ]
    },
    {
     "name": "stderr",
     "output_type": "stream",
     "text": [
      " 60%|██████    | 3/5 [00:02<00:01,  1.41it/s]"
     ]
    },
    {
     "name": "stdout",
     "output_type": "stream",
     "text": [
      "anno_b ({'boxes': tensor([[411.8400, 127.2550, 584.7500, 448.9150]], device='cuda:0'), 'labels': tensor([1], device='cuda:0')}, {'boxes': tensor([[412.4000, 148.3350, 583.2400, 435.3900]], device='cuda:0'), 'labels': tensor([1], device='cuda:0')}, {'boxes': tensor([[152.8500, 171.4750, 269.5250, 403.7850],\n",
      "        [671.4750, 165.6400, 791.7100, 408.7450]], device='cuda:0'), 'labels': tensor([1, 1], device='cuda:0')}, {'boxes': tensor([[376.8700, 147.4800, 541.2250, 431.3950]], device='cuda:0'), 'labels': tensor([1], device='cuda:0')})\n"
     ]
    },
    {
     "name": "stderr",
     "output_type": "stream",
     "text": [
      " 80%|████████  | 4/5 [00:02<00:00,  1.42it/s]"
     ]
    },
    {
     "name": "stdout",
     "output_type": "stream",
     "text": [
      "anno_b ({'boxes': tensor([[362.6650, 234.0200, 378.7850, 313.0050]], device='cuda:0'), 'labels': tensor([1], device='cuda:0')}, {'boxes': tensor([[391.7450, 101.8250, 636.6100, 463.1600],\n",
      "        [768.1450, 208.6150, 813.9150, 354.0300]], device='cuda:0'), 'labels': tensor([1, 1], device='cuda:0')}, {'boxes': tensor([[101.5750, 135.7650, 243.1950, 437.1900]], device='cuda:0'), 'labels': tensor([1], device='cuda:0')}, {'boxes': tensor([[114.1250, 144.4800, 301.6700, 440.5500],\n",
      "        [465.7550, 232.3650, 491.1750, 311.0800],\n",
      "        [546.0150, 232.6900, 564.0500, 302.0550]], device='cuda:0'), 'labels': tensor([1, 1, 1], device='cuda:0')})\n"
     ]
    },
    {
     "name": "stderr",
     "output_type": "stream",
     "text": [
      "100%|██████████| 5/5 [00:03<00:00,  1.42it/s]\n",
      "  0%|          | 0/5 [00:00<?, ?it/s]"
     ]
    },
    {
     "name": "stdout",
     "output_type": "stream",
     "text": [
      "anno_b ({'boxes': tensor([[152.5350, 195.5000, 185.1750, 406.8750],\n",
      "        [486.3900, 150.6900, 541.1900, 389.3650]], device='cuda:0'), 'labels': tensor([1, 1], device='cuda:0')}, {'boxes': tensor([[233.6150, 114.4700, 590.1850, 490.9700]], device='cuda:0'), 'labels': tensor([1], device='cuda:0')}, {'boxes': tensor([[411.8400, 127.2550, 584.7500, 448.9150]], device='cuda:0'), 'labels': tensor([1], device='cuda:0')}, {'boxes': tensor([[240.1350, 227.0250, 273.1500, 336.3200],\n",
      "        [454.5550, 220.2200, 482.2150, 326.8100],\n",
      "        [513.6250, 222.8750, 546.7900, 340.8150],\n",
      "        [651.3100, 211.2200, 690.8150, 340.3150]], device='cuda:0'), 'labels': tensor([1, 1, 1, 1], device='cuda:0')})\n"
     ]
    },
    {
     "name": "stderr",
     "output_type": "stream",
     "text": [
      " 20%|██        | 1/5 [00:00<00:02,  1.42it/s]"
     ]
    },
    {
     "name": "stdout",
     "output_type": "stream",
     "text": [
      "anno_b ({'boxes': tensor([[101.5750, 135.7650, 243.1950, 437.1900]], device='cuda:0'), 'labels': tensor([1], device='cuda:0')}, {'boxes': tensor([[530.5950, 236.6900, 545.2800, 302.2250]], device='cuda:0'), 'labels': tensor([1], device='cuda:0')}, {'boxes': tensor([[376.8700, 147.4800, 541.2250, 431.3950]], device='cuda:0'), 'labels': tensor([1], device='cuda:0')}, {'boxes': tensor([[172.3900, 237.7600, 189.7400, 306.1000],\n",
      "        [300.3800, 226.4050, 330.8050, 322.4400],\n",
      "        [445.3300, 143.3050, 590.5900, 449.6150]], device='cuda:0'), 'labels': tensor([1, 1, 1], device='cuda:0')})\n"
     ]
    },
    {
     "name": "stderr",
     "output_type": "stream",
     "text": [
      " 40%|████      | 2/5 [00:01<00:02,  1.42it/s]"
     ]
    },
    {
     "name": "stdout",
     "output_type": "stream",
     "text": [
      "anno_b ({'boxes': tensor([[200.4750, 119.4850, 398.8600, 450.9450]], device='cuda:0'), 'labels': tensor([1], device='cuda:0')}, {'boxes': tensor([[133.2650, 114.7400, 337.6200, 458.9300]], device='cuda:0'), 'labels': tensor([1], device='cuda:0')}, {'boxes': tensor([[152.8500, 171.4750, 269.5250, 403.7850],\n",
      "        [671.4750, 165.6400, 791.7100, 408.7450]], device='cuda:0'), 'labels': tensor([1, 1], device='cuda:0')}, {'boxes': tensor([[114.1250, 144.4800, 301.6700, 440.5500],\n",
      "        [465.7550, 232.3650, 491.1750, 311.0800],\n",
      "        [546.0150, 232.6900, 564.0500, 302.0550]], device='cuda:0'), 'labels': tensor([1, 1, 1], device='cuda:0')})\n"
     ]
    },
    {
     "name": "stderr",
     "output_type": "stream",
     "text": [
      " 60%|██████    | 3/5 [00:02<00:01,  1.41it/s]"
     ]
    },
    {
     "name": "stdout",
     "output_type": "stream",
     "text": [
      "anno_b ({'boxes': tensor([[430.5100, 195.2650, 507.7150, 371.3350],\n",
      "        [799.7850, 170.9350, 958.9600, 443.4000]], device='cuda:0'), 'labels': tensor([1, 1], device='cuda:0')}, {'boxes': tensor([[229.8600, 140.3200, 736.6900, 412.0600]], device='cuda:0'), 'labels': tensor([1], device='cuda:0')}, {'boxes': tensor([[391.7450, 101.8250, 636.6100, 463.1600],\n",
      "        [768.1450, 208.6150, 813.9150, 354.0300]], device='cuda:0'), 'labels': tensor([1, 1], device='cuda:0')}, {'boxes': tensor([[414.1000, 116.3100, 596.7350, 446.9100]], device='cuda:0'), 'labels': tensor([1], device='cuda:0')})\n"
     ]
    },
    {
     "name": "stderr",
     "output_type": "stream",
     "text": [
      " 80%|████████  | 4/5 [00:02<00:00,  1.42it/s]"
     ]
    },
    {
     "name": "stdout",
     "output_type": "stream",
     "text": [
      "anno_b ({'boxes': tensor([[412.4000, 148.3350, 583.2400, 435.3900]], device='cuda:0'), 'labels': tensor([1], device='cuda:0')}, {'boxes': tensor([[382.3250, 231.7050, 400.2300, 319.5150],\n",
      "        [772.8050, 236.9150, 832.6850, 301.8500]], device='cuda:0'), 'labels': tensor([1, 1], device='cuda:0')}, {'boxes': tensor([[362.6650, 234.0200, 378.7850, 313.0050]], device='cuda:0'), 'labels': tensor([1], device='cuda:0')}, {'boxes': tensor([[495.5900, 165.0200, 603.2850, 393.8800]], device='cuda:0'), 'labels': tensor([1], device='cuda:0')})\n"
     ]
    },
    {
     "name": "stderr",
     "output_type": "stream",
     "text": [
      "100%|██████████| 5/5 [00:03<00:00,  1.42it/s]\n",
      "100%|██████████| 3/3 [00:00<00:00,  3.19it/s]\n",
      "  0%|          | 0/5 [00:00<?, ?it/s]Clipping input data to the valid range for imshow with RGB data ([0..1] for floats or [0..255] for integers).\n",
      "Clipping input data to the valid range for imshow with RGB data ([0..1] for floats or [0..255] for integers).\n",
      " 20%|██        | 1/5 [00:00<00:01,  3.26it/s]Clipping input data to the valid range for imshow with RGB data ([0..1] for floats or [0..255] for integers).\n",
      "Clipping input data to the valid range for imshow with RGB data ([0..1] for floats or [0..255] for integers).\n",
      " 40%|████      | 2/5 [00:00<00:00,  3.22it/s]Clipping input data to the valid range for imshow with RGB data ([0..1] for floats or [0..255] for integers).\n",
      "Clipping input data to the valid range for imshow with RGB data ([0..1] for floats or [0..255] for integers).\n",
      " 60%|██████    | 3/5 [00:00<00:00,  3.21it/s]Clipping input data to the valid range for imshow with RGB data ([0..1] for floats or [0..255] for integers).\n",
      "Clipping input data to the valid range for imshow with RGB data ([0..1] for floats or [0..255] for integers).\n",
      " 80%|████████  | 4/5 [00:01<00:00,  3.19it/s]Clipping input data to the valid range for imshow with RGB data ([0..1] for floats or [0..255] for integers).\n",
      "Clipping input data to the valid range for imshow with RGB data ([0..1] for floats or [0..255] for integers).\n",
      "100%|██████████| 5/5 [00:01<00:00,  3.18it/s]\n",
      "  0%|          | 0/5 [00:00<?, ?it/s]"
     ]
    },
    {
     "name": "stdout",
     "output_type": "stream",
     "text": [
      "anno_b ({'boxes': tensor([[172.3900, 237.7600, 189.7400, 306.1000],\n",
      "        [300.3800, 226.4050, 330.8050, 322.4400],\n",
      "        [445.3300, 143.3050, 590.5900, 449.6150]], device='cuda:0'), 'labels': tensor([1, 1, 1], device='cuda:0')}, {'boxes': tensor([[114.1250, 144.4800, 301.6700, 440.5500],\n",
      "        [465.7550, 232.3650, 491.1750, 311.0800],\n",
      "        [546.0150, 232.6900, 564.0500, 302.0550]], device='cuda:0'), 'labels': tensor([1, 1, 1], device='cuda:0')}, {'boxes': tensor([[362.6650, 234.0200, 378.7850, 313.0050]], device='cuda:0'), 'labels': tensor([1], device='cuda:0')}, {'boxes': tensor([[430.5100, 195.2650, 507.7150, 371.3350],\n",
      "        [799.7850, 170.9350, 958.9600, 443.4000]], device='cuda:0'), 'labels': tensor([1, 1], device='cuda:0')})\n"
     ]
    },
    {
     "name": "stderr",
     "output_type": "stream",
     "text": [
      " 20%|██        | 1/5 [00:00<00:02,  1.40it/s]"
     ]
    },
    {
     "name": "stdout",
     "output_type": "stream",
     "text": [
      "anno_b ({'boxes': tensor([[382.3250, 231.7050, 400.2300, 319.5150],\n",
      "        [772.8050, 236.9150, 832.6850, 301.8500]], device='cuda:0'), 'labels': tensor([1, 1], device='cuda:0')}, {'boxes': tensor([[152.8500, 171.4750, 269.5250, 403.7850],\n",
      "        [671.4750, 165.6400, 791.7100, 408.7450]], device='cuda:0'), 'labels': tensor([1, 1], device='cuda:0')}, {'boxes': tensor([[411.8400, 127.2550, 584.7500, 448.9150]], device='cuda:0'), 'labels': tensor([1], device='cuda:0')}, {'boxes': tensor([[530.5950, 236.6900, 545.2800, 302.2250]], device='cuda:0'), 'labels': tensor([1], device='cuda:0')})\n"
     ]
    },
    {
     "name": "stderr",
     "output_type": "stream",
     "text": [
      " 40%|████      | 2/5 [00:01<00:02,  1.39it/s]"
     ]
    },
    {
     "name": "stdout",
     "output_type": "stream",
     "text": [
      "anno_b ({'boxes': tensor([[495.5900, 165.0200, 603.2850, 393.8800]], device='cuda:0'), 'labels': tensor([1], device='cuda:0')}, {'boxes': tensor([[240.1350, 227.0250, 273.1500, 336.3200],\n",
      "        [454.5550, 220.2200, 482.2150, 326.8100],\n",
      "        [513.6250, 222.8750, 546.7900, 340.8150],\n",
      "        [651.3100, 211.2200, 690.8150, 340.3150]], device='cuda:0'), 'labels': tensor([1, 1, 1, 1], device='cuda:0')}, {'boxes': tensor([[229.8600, 140.3200, 736.6900, 412.0600]], device='cuda:0'), 'labels': tensor([1], device='cuda:0')}, {'boxes': tensor([[233.6150, 114.4700, 590.1850, 490.9700]], device='cuda:0'), 'labels': tensor([1], device='cuda:0')})\n"
     ]
    },
    {
     "name": "stderr",
     "output_type": "stream",
     "text": [
      " 60%|██████    | 3/5 [00:02<00:01,  1.41it/s]"
     ]
    },
    {
     "name": "stdout",
     "output_type": "stream",
     "text": [
      "anno_b ({'boxes': tensor([[152.5350, 195.5000, 185.1750, 406.8750],\n",
      "        [486.3900, 150.6900, 541.1900, 389.3650]], device='cuda:0'), 'labels': tensor([1, 1], device='cuda:0')}, {'boxes': tensor([[200.4750, 119.4850, 398.8600, 450.9450]], device='cuda:0'), 'labels': tensor([1], device='cuda:0')}, {'boxes': tensor([[391.7450, 101.8250, 636.6100, 463.1600],\n",
      "        [768.1450, 208.6150, 813.9150, 354.0300]], device='cuda:0'), 'labels': tensor([1, 1], device='cuda:0')}, {'boxes': tensor([[376.8700, 147.4800, 541.2250, 431.3950]], device='cuda:0'), 'labels': tensor([1], device='cuda:0')})\n"
     ]
    },
    {
     "name": "stderr",
     "output_type": "stream",
     "text": [
      " 80%|████████  | 4/5 [00:02<00:00,  1.40it/s]"
     ]
    },
    {
     "name": "stdout",
     "output_type": "stream",
     "text": [
      "anno_b ({'boxes': tensor([[414.1000, 116.3100, 596.7350, 446.9100]], device='cuda:0'), 'labels': tensor([1], device='cuda:0')}, {'boxes': tensor([[412.4000, 148.3350, 583.2400, 435.3900]], device='cuda:0'), 'labels': tensor([1], device='cuda:0')}, {'boxes': tensor([[101.5750, 135.7650, 243.1950, 437.1900]], device='cuda:0'), 'labels': tensor([1], device='cuda:0')}, {'boxes': tensor([[133.2650, 114.7400, 337.6200, 458.9300]], device='cuda:0'), 'labels': tensor([1], device='cuda:0')})\n"
     ]
    },
    {
     "name": "stderr",
     "output_type": "stream",
     "text": [
      "100%|██████████| 5/5 [00:03<00:00,  1.41it/s]\n",
      "Clipping input data to the valid range for imshow with RGB data ([0..1] for floats or [0..255] for integers).\n",
      "Clipping input data to the valid range for imshow with RGB data ([0..1] for floats or [0..255] for integers).\n",
      "Clipping input data to the valid range for imshow with RGB data ([0..1] for floats or [0..255] for integers).\n",
      "Clipping input data to the valid range for imshow with RGB data ([0..1] for floats or [0..255] for integers).\n",
      "Clipping input data to the valid range for imshow with RGB data ([0..1] for floats or [0..255] for integers).\n",
      "Clipping input data to the valid range for imshow with RGB data ([0..1] for floats or [0..255] for integers).\n",
      "Clipping input data to the valid range for imshow with RGB data ([0..1] for floats or [0..255] for integers).\n",
      "Clipping input data to the valid range for imshow with RGB data ([0..1] for floats or [0..255] for integers).\n",
      "  0%|          | 0/5 [00:00<?, ?it/s]"
     ]
    },
    {
     "name": "stdout",
     "output_type": "stream",
     "text": [
      "anno_b ({'boxes': tensor([[430.5100, 195.2650, 507.7150, 371.3350],\n",
      "        [799.7850, 170.9350, 958.9600, 443.4000]], device='cuda:0'), 'labels': tensor([1, 1], device='cuda:0')}, {'boxes': tensor([[495.5900, 165.0200, 603.2850, 393.8800]], device='cuda:0'), 'labels': tensor([1], device='cuda:0')}, {'boxes': tensor([[362.6650, 234.0200, 378.7850, 313.0050]], device='cuda:0'), 'labels': tensor([1], device='cuda:0')}, {'boxes': tensor([[414.1000, 116.3100, 596.7350, 446.9100]], device='cuda:0'), 'labels': tensor([1], device='cuda:0')})\n"
     ]
    },
    {
     "name": "stderr",
     "output_type": "stream",
     "text": [
      " 20%|██        | 1/5 [00:00<00:02,  1.40it/s]"
     ]
    },
    {
     "name": "stdout",
     "output_type": "stream",
     "text": [
      "anno_b ({'boxes': tensor([[233.6150, 114.4700, 590.1850, 490.9700]], device='cuda:0'), 'labels': tensor([1], device='cuda:0')}, {'boxes': tensor([[114.1250, 144.4800, 301.6700, 440.5500],\n",
      "        [465.7550, 232.3650, 491.1750, 311.0800],\n",
      "        [546.0150, 232.6900, 564.0500, 302.0550]], device='cuda:0'), 'labels': tensor([1, 1, 1], device='cuda:0')}, {'boxes': tensor([[376.8700, 147.4800, 541.2250, 431.3950]], device='cuda:0'), 'labels': tensor([1], device='cuda:0')}, {'boxes': tensor([[412.4000, 148.3350, 583.2400, 435.3900]], device='cuda:0'), 'labels': tensor([1], device='cuda:0')})\n"
     ]
    },
    {
     "name": "stderr",
     "output_type": "stream",
     "text": [
      " 40%|████      | 2/5 [00:01<00:02,  1.39it/s]"
     ]
    },
    {
     "name": "stdout",
     "output_type": "stream",
     "text": [
      "anno_b ({'boxes': tensor([[530.5950, 236.6900, 545.2800, 302.2250]], device='cuda:0'), 'labels': tensor([1], device='cuda:0')}, {'boxes': tensor([[133.2650, 114.7400, 337.6200, 458.9300]], device='cuda:0'), 'labels': tensor([1], device='cuda:0')}, {'boxes': tensor([[382.3250, 231.7050, 400.2300, 319.5150],\n",
      "        [772.8050, 236.9150, 832.6850, 301.8500]], device='cuda:0'), 'labels': tensor([1, 1], device='cuda:0')}, {'boxes': tensor([[240.1350, 227.0250, 273.1500, 336.3200],\n",
      "        [454.5550, 220.2200, 482.2150, 326.8100],\n",
      "        [513.6250, 222.8750, 546.7900, 340.8150],\n",
      "        [651.3100, 211.2200, 690.8150, 340.3150]], device='cuda:0'), 'labels': tensor([1, 1, 1, 1], device='cuda:0')})\n"
     ]
    },
    {
     "name": "stderr",
     "output_type": "stream",
     "text": [
      " 60%|██████    | 3/5 [00:02<00:01,  1.40it/s]"
     ]
    },
    {
     "name": "stdout",
     "output_type": "stream",
     "text": [
      "anno_b ({'boxes': tensor([[229.8600, 140.3200, 736.6900, 412.0600]], device='cuda:0'), 'labels': tensor([1], device='cuda:0')}, {'boxes': tensor([[391.7450, 101.8250, 636.6100, 463.1600],\n",
      "        [768.1450, 208.6150, 813.9150, 354.0300]], device='cuda:0'), 'labels': tensor([1, 1], device='cuda:0')}, {'boxes': tensor([[172.3900, 237.7600, 189.7400, 306.1000],\n",
      "        [300.3800, 226.4050, 330.8050, 322.4400],\n",
      "        [445.3300, 143.3050, 590.5900, 449.6150]], device='cuda:0'), 'labels': tensor([1, 1, 1], device='cuda:0')}, {'boxes': tensor([[152.8500, 171.4750, 269.5250, 403.7850],\n",
      "        [671.4750, 165.6400, 791.7100, 408.7450]], device='cuda:0'), 'labels': tensor([1, 1], device='cuda:0')})\n"
     ]
    },
    {
     "name": "stderr",
     "output_type": "stream",
     "text": [
      " 80%|████████  | 4/5 [00:02<00:00,  1.41it/s]"
     ]
    },
    {
     "name": "stdout",
     "output_type": "stream",
     "text": [
      "anno_b ({'boxes': tensor([[101.5750, 135.7650, 243.1950, 437.1900]], device='cuda:0'), 'labels': tensor([1], device='cuda:0')}, {'boxes': tensor([[411.8400, 127.2550, 584.7500, 448.9150]], device='cuda:0'), 'labels': tensor([1], device='cuda:0')}, {'boxes': tensor([[200.4750, 119.4850, 398.8600, 450.9450]], device='cuda:0'), 'labels': tensor([1], device='cuda:0')}, {'boxes': tensor([[152.5350, 195.5000, 185.1750, 406.8750],\n",
      "        [486.3900, 150.6900, 541.1900, 389.3650]], device='cuda:0'), 'labels': tensor([1, 1], device='cuda:0')})\n"
     ]
    },
    {
     "name": "stderr",
     "output_type": "stream",
     "text": [
      "100%|██████████| 5/5 [00:03<00:00,  1.41it/s]\n",
      "  0%|          | 0/5 [00:00<?, ?it/s]"
     ]
    },
    {
     "name": "stdout",
     "output_type": "stream",
     "text": [
      "anno_b ({'boxes': tensor([[414.1000, 116.3100, 596.7350, 446.9100]], device='cuda:0'), 'labels': tensor([1], device='cuda:0')}, {'boxes': tensor([[382.3250, 231.7050, 400.2300, 319.5150],\n",
      "        [772.8050, 236.9150, 832.6850, 301.8500]], device='cuda:0'), 'labels': tensor([1, 1], device='cuda:0')}, {'boxes': tensor([[362.6650, 234.0200, 378.7850, 313.0050]], device='cuda:0'), 'labels': tensor([1], device='cuda:0')}, {'boxes': tensor([[172.3900, 237.7600, 189.7400, 306.1000],\n",
      "        [300.3800, 226.4050, 330.8050, 322.4400],\n",
      "        [445.3300, 143.3050, 590.5900, 449.6150]], device='cuda:0'), 'labels': tensor([1, 1, 1], device='cuda:0')})\n"
     ]
    },
    {
     "name": "stderr",
     "output_type": "stream",
     "text": [
      " 20%|██        | 1/5 [00:00<00:02,  1.44it/s]"
     ]
    },
    {
     "name": "stdout",
     "output_type": "stream",
     "text": [
      "anno_b ({'boxes': tensor([[133.2650, 114.7400, 337.6200, 458.9300]], device='cuda:0'), 'labels': tensor([1], device='cuda:0')}, {'boxes': tensor([[430.5100, 195.2650, 507.7150, 371.3350],\n",
      "        [799.7850, 170.9350, 958.9600, 443.4000]], device='cuda:0'), 'labels': tensor([1, 1], device='cuda:0')}, {'boxes': tensor([[412.4000, 148.3350, 583.2400, 435.3900]], device='cuda:0'), 'labels': tensor([1], device='cuda:0')}, {'boxes': tensor([[101.5750, 135.7650, 243.1950, 437.1900]], device='cuda:0'), 'labels': tensor([1], device='cuda:0')})\n"
     ]
    },
    {
     "name": "stderr",
     "output_type": "stream",
     "text": [
      " 40%|████      | 2/5 [00:01<00:02,  1.43it/s]"
     ]
    },
    {
     "name": "stdout",
     "output_type": "stream",
     "text": [
      "anno_b ({'boxes': tensor([[200.4750, 119.4850, 398.8600, 450.9450]], device='cuda:0'), 'labels': tensor([1], device='cuda:0')}, {'boxes': tensor([[530.5950, 236.6900, 545.2800, 302.2250]], device='cuda:0'), 'labels': tensor([1], device='cuda:0')}, {'boxes': tensor([[229.8600, 140.3200, 736.6900, 412.0600]], device='cuda:0'), 'labels': tensor([1], device='cuda:0')}, {'boxes': tensor([[411.8400, 127.2550, 584.7500, 448.9150]], device='cuda:0'), 'labels': tensor([1], device='cuda:0')})\n"
     ]
    },
    {
     "name": "stderr",
     "output_type": "stream",
     "text": [
      " 60%|██████    | 3/5 [00:02<00:01,  1.43it/s]"
     ]
    },
    {
     "name": "stdout",
     "output_type": "stream",
     "text": [
      "anno_b ({'boxes': tensor([[240.1350, 227.0250, 273.1500, 336.3200],\n",
      "        [454.5550, 220.2200, 482.2150, 326.8100],\n",
      "        [513.6250, 222.8750, 546.7900, 340.8150],\n",
      "        [651.3100, 211.2200, 690.8150, 340.3150]], device='cuda:0'), 'labels': tensor([1, 1, 1, 1], device='cuda:0')}, {'boxes': tensor([[152.5350, 195.5000, 185.1750, 406.8750],\n",
      "        [486.3900, 150.6900, 541.1900, 389.3650]], device='cuda:0'), 'labels': tensor([1, 1], device='cuda:0')}, {'boxes': tensor([[233.6150, 114.4700, 590.1850, 490.9700]], device='cuda:0'), 'labels': tensor([1], device='cuda:0')}, {'boxes': tensor([[114.1250, 144.4800, 301.6700, 440.5500],\n",
      "        [465.7550, 232.3650, 491.1750, 311.0800],\n",
      "        [546.0150, 232.6900, 564.0500, 302.0550]], device='cuda:0'), 'labels': tensor([1, 1, 1], device='cuda:0')})\n"
     ]
    },
    {
     "name": "stderr",
     "output_type": "stream",
     "text": [
      " 80%|████████  | 4/5 [00:02<00:00,  1.43it/s]"
     ]
    },
    {
     "name": "stdout",
     "output_type": "stream",
     "text": [
      "anno_b ({'boxes': tensor([[495.5900, 165.0200, 603.2850, 393.8800]], device='cuda:0'), 'labels': tensor([1], device='cuda:0')}, {'boxes': tensor([[376.8700, 147.4800, 541.2250, 431.3950]], device='cuda:0'), 'labels': tensor([1], device='cuda:0')}, {'boxes': tensor([[152.8500, 171.4750, 269.5250, 403.7850],\n",
      "        [671.4750, 165.6400, 791.7100, 408.7450]], device='cuda:0'), 'labels': tensor([1, 1], device='cuda:0')}, {'boxes': tensor([[391.7450, 101.8250, 636.6100, 463.1600],\n",
      "        [768.1450, 208.6150, 813.9150, 354.0300]], device='cuda:0'), 'labels': tensor([1, 1], device='cuda:0')})\n"
     ]
    },
    {
     "name": "stderr",
     "output_type": "stream",
     "text": [
      "100%|██████████| 5/5 [00:03<00:00,  1.43it/s]\n",
      "  0%|          | 0/5 [00:00<?, ?it/s]"
     ]
    },
    {
     "name": "stdout",
     "output_type": "stream",
     "text": [
      "anno_b ({'boxes': tensor([[114.1250, 144.4800, 301.6700, 440.5500],\n",
      "        [465.7550, 232.3650, 491.1750, 311.0800],\n",
      "        [546.0150, 232.6900, 564.0500, 302.0550]], device='cuda:0'), 'labels': tensor([1, 1, 1], device='cuda:0')}, {'boxes': tensor([[414.1000, 116.3100, 596.7350, 446.9100]], device='cuda:0'), 'labels': tensor([1], device='cuda:0')}, {'boxes': tensor([[430.5100, 195.2650, 507.7150, 371.3350],\n",
      "        [799.7850, 170.9350, 958.9600, 443.4000]], device='cuda:0'), 'labels': tensor([1, 1], device='cuda:0')}, {'boxes': tensor([[229.8600, 140.3200, 736.6900, 412.0600]], device='cuda:0'), 'labels': tensor([1], device='cuda:0')})\n"
     ]
    },
    {
     "name": "stderr",
     "output_type": "stream",
     "text": [
      " 20%|██        | 1/5 [00:00<00:02,  1.39it/s]"
     ]
    },
    {
     "name": "stdout",
     "output_type": "stream",
     "text": [
      "anno_b ({'boxes': tensor([[382.3250, 231.7050, 400.2300, 319.5150],\n",
      "        [772.8050, 236.9150, 832.6850, 301.8500]], device='cuda:0'), 'labels': tensor([1, 1], device='cuda:0')}, {'boxes': tensor([[411.8400, 127.2550, 584.7500, 448.9150]], device='cuda:0'), 'labels': tensor([1], device='cuda:0')}, {'boxes': tensor([[152.8500, 171.4750, 269.5250, 403.7850],\n",
      "        [671.4750, 165.6400, 791.7100, 408.7450]], device='cuda:0'), 'labels': tensor([1, 1], device='cuda:0')}, {'boxes': tensor([[391.7450, 101.8250, 636.6100, 463.1600],\n",
      "        [768.1450, 208.6150, 813.9150, 354.0300]], device='cuda:0'), 'labels': tensor([1, 1], device='cuda:0')})\n"
     ]
    },
    {
     "name": "stderr",
     "output_type": "stream",
     "text": [
      " 40%|████      | 2/5 [00:01<00:02,  1.35it/s]"
     ]
    },
    {
     "name": "stdout",
     "output_type": "stream",
     "text": [
      "anno_b ({'boxes': tensor([[101.5750, 135.7650, 243.1950, 437.1900]], device='cuda:0'), 'labels': tensor([1], device='cuda:0')}, {'boxes': tensor([[233.6150, 114.4700, 590.1850, 490.9700]], device='cuda:0'), 'labels': tensor([1], device='cuda:0')}, {'boxes': tensor([[133.2650, 114.7400, 337.6200, 458.9300]], device='cuda:0'), 'labels': tensor([1], device='cuda:0')}, {'boxes': tensor([[240.1350, 227.0250, 273.1500, 336.3200],\n",
      "        [454.5550, 220.2200, 482.2150, 326.8100],\n",
      "        [513.6250, 222.8750, 546.7900, 340.8150],\n",
      "        [651.3100, 211.2200, 690.8150, 340.3150]], device='cuda:0'), 'labels': tensor([1, 1, 1, 1], device='cuda:0')})\n"
     ]
    },
    {
     "name": "stderr",
     "output_type": "stream",
     "text": [
      " 60%|██████    | 3/5 [00:02<00:01,  1.36it/s]"
     ]
    },
    {
     "name": "stdout",
     "output_type": "stream",
     "text": [
      "anno_b ({'boxes': tensor([[152.5350, 195.5000, 185.1750, 406.8750],\n",
      "        [486.3900, 150.6900, 541.1900, 389.3650]], device='cuda:0'), 'labels': tensor([1, 1], device='cuda:0')}, {'boxes': tensor([[495.5900, 165.0200, 603.2850, 393.8800]], device='cuda:0'), 'labels': tensor([1], device='cuda:0')}, {'boxes': tensor([[362.6650, 234.0200, 378.7850, 313.0050]], device='cuda:0'), 'labels': tensor([1], device='cuda:0')}, {'boxes': tensor([[530.5950, 236.6900, 545.2800, 302.2250]], device='cuda:0'), 'labels': tensor([1], device='cuda:0')})\n"
     ]
    },
    {
     "name": "stderr",
     "output_type": "stream",
     "text": [
      " 80%|████████  | 4/5 [00:02<00:00,  1.38it/s]"
     ]
    },
    {
     "name": "stdout",
     "output_type": "stream",
     "text": [
      "anno_b ({'boxes': tensor([[376.8700, 147.4800, 541.2250, 431.3950]], device='cuda:0'), 'labels': tensor([1], device='cuda:0')}, {'boxes': tensor([[172.3900, 237.7600, 189.7400, 306.1000],\n",
      "        [300.3800, 226.4050, 330.8050, 322.4400],\n",
      "        [445.3300, 143.3050, 590.5900, 449.6150]], device='cuda:0'), 'labels': tensor([1, 1, 1], device='cuda:0')}, {'boxes': tensor([[200.4750, 119.4850, 398.8600, 450.9450]], device='cuda:0'), 'labels': tensor([1], device='cuda:0')}, {'boxes': tensor([[412.4000, 148.3350, 583.2400, 435.3900]], device='cuda:0'), 'labels': tensor([1], device='cuda:0')})\n"
     ]
    },
    {
     "name": "stderr",
     "output_type": "stream",
     "text": [
      "100%|██████████| 5/5 [00:03<00:00,  1.37it/s]\n",
      "  0%|          | 0/5 [00:00<?, ?it/s]"
     ]
    },
    {
     "name": "stdout",
     "output_type": "stream",
     "text": [
      "anno_b ({'boxes': tensor([[430.5100, 195.2650, 507.7150, 371.3350],\n",
      "        [799.7850, 170.9350, 958.9600, 443.4000]], device='cuda:0'), 'labels': tensor([1, 1], device='cuda:0')}, {'boxes': tensor([[240.1350, 227.0250, 273.1500, 336.3200],\n",
      "        [454.5550, 220.2200, 482.2150, 326.8100],\n",
      "        [513.6250, 222.8750, 546.7900, 340.8150],\n",
      "        [651.3100, 211.2200, 690.8150, 340.3150]], device='cuda:0'), 'labels': tensor([1, 1, 1, 1], device='cuda:0')}, {'boxes': tensor([[172.3900, 237.7600, 189.7400, 306.1000],\n",
      "        [300.3800, 226.4050, 330.8050, 322.4400],\n",
      "        [445.3300, 143.3050, 590.5900, 449.6150]], device='cuda:0'), 'labels': tensor([1, 1, 1], device='cuda:0')}, {'boxes': tensor([[233.6150, 114.4700, 590.1850, 490.9700]], device='cuda:0'), 'labels': tensor([1], device='cuda:0')})\n"
     ]
    },
    {
     "name": "stderr",
     "output_type": "stream",
     "text": [
      " 20%|██        | 1/5 [00:00<00:02,  1.42it/s]"
     ]
    },
    {
     "name": "stdout",
     "output_type": "stream",
     "text": [
      "anno_b ({'boxes': tensor([[114.1250, 144.4800, 301.6700, 440.5500],\n",
      "        [465.7550, 232.3650, 491.1750, 311.0800],\n",
      "        [546.0150, 232.6900, 564.0500, 302.0550]], device='cuda:0'), 'labels': tensor([1, 1, 1], device='cuda:0')}, {'boxes': tensor([[376.8700, 147.4800, 541.2250, 431.3950]], device='cuda:0'), 'labels': tensor([1], device='cuda:0')}, {'boxes': tensor([[229.8600, 140.3200, 736.6900, 412.0600]], device='cuda:0'), 'labels': tensor([1], device='cuda:0')}, {'boxes': tensor([[382.3250, 231.7050, 400.2300, 319.5150],\n",
      "        [772.8050, 236.9150, 832.6850, 301.8500]], device='cuda:0'), 'labels': tensor([1, 1], device='cuda:0')})\n"
     ]
    },
    {
     "name": "stderr",
     "output_type": "stream",
     "text": [
      " 40%|████      | 2/5 [00:01<00:02,  1.42it/s]"
     ]
    },
    {
     "name": "stdout",
     "output_type": "stream",
     "text": [
      "anno_b ({'boxes': tensor([[411.8400, 127.2550, 584.7500, 448.9150]], device='cuda:0'), 'labels': tensor([1], device='cuda:0')}, {'boxes': tensor([[152.5350, 195.5000, 185.1750, 406.8750],\n",
      "        [486.3900, 150.6900, 541.1900, 389.3650]], device='cuda:0'), 'labels': tensor([1, 1], device='cuda:0')}, {'boxes': tensor([[495.5900, 165.0200, 603.2850, 393.8800]], device='cuda:0'), 'labels': tensor([1], device='cuda:0')}, {'boxes': tensor([[530.5950, 236.6900, 545.2800, 302.2250]], device='cuda:0'), 'labels': tensor([1], device='cuda:0')})\n"
     ]
    },
    {
     "name": "stderr",
     "output_type": "stream",
     "text": [
      " 60%|██████    | 3/5 [00:02<00:01,  1.40it/s]"
     ]
    },
    {
     "name": "stdout",
     "output_type": "stream",
     "text": [
      "anno_b ({'boxes': tensor([[362.6650, 234.0200, 378.7850, 313.0050]], device='cuda:0'), 'labels': tensor([1], device='cuda:0')}, {'boxes': tensor([[152.8500, 171.4750, 269.5250, 403.7850],\n",
      "        [671.4750, 165.6400, 791.7100, 408.7450]], device='cuda:0'), 'labels': tensor([1, 1], device='cuda:0')}, {'boxes': tensor([[391.7450, 101.8250, 636.6100, 463.1600],\n",
      "        [768.1450, 208.6150, 813.9150, 354.0300]], device='cuda:0'), 'labels': tensor([1, 1], device='cuda:0')}, {'boxes': tensor([[200.4750, 119.4850, 398.8600, 450.9450]], device='cuda:0'), 'labels': tensor([1], device='cuda:0')})\n"
     ]
    },
    {
     "name": "stderr",
     "output_type": "stream",
     "text": [
      " 80%|████████  | 4/5 [00:02<00:00,  1.40it/s]"
     ]
    },
    {
     "name": "stdout",
     "output_type": "stream",
     "text": [
      "anno_b ({'boxes': tensor([[412.4000, 148.3350, 583.2400, 435.3900]], device='cuda:0'), 'labels': tensor([1], device='cuda:0')}, {'boxes': tensor([[133.2650, 114.7400, 337.6200, 458.9300]], device='cuda:0'), 'labels': tensor([1], device='cuda:0')}, {'boxes': tensor([[101.5750, 135.7650, 243.1950, 437.1900]], device='cuda:0'), 'labels': tensor([1], device='cuda:0')}, {'boxes': tensor([[414.1000, 116.3100, 596.7350, 446.9100]], device='cuda:0'), 'labels': tensor([1], device='cuda:0')})\n"
     ]
    },
    {
     "name": "stderr",
     "output_type": "stream",
     "text": [
      "100%|██████████| 5/5 [00:03<00:00,  1.41it/s]\n",
      "100%|██████████| 3/3 [00:00<00:00,  3.16it/s]\n",
      "  0%|          | 0/5 [00:00<?, ?it/s]Clipping input data to the valid range for imshow with RGB data ([0..1] for floats or [0..255] for integers).\n",
      "Clipping input data to the valid range for imshow with RGB data ([0..1] for floats or [0..255] for integers).\n",
      " 20%|██        | 1/5 [00:00<00:01,  3.24it/s]Clipping input data to the valid range for imshow with RGB data ([0..1] for floats or [0..255] for integers).\n",
      "Clipping input data to the valid range for imshow with RGB data ([0..1] for floats or [0..255] for integers).\n",
      " 40%|████      | 2/5 [00:00<00:00,  3.19it/s]Clipping input data to the valid range for imshow with RGB data ([0..1] for floats or [0..255] for integers).\n",
      "Clipping input data to the valid range for imshow with RGB data ([0..1] for floats or [0..255] for integers).\n",
      " 60%|██████    | 3/5 [00:00<00:00,  3.16it/s]Clipping input data to the valid range for imshow with RGB data ([0..1] for floats or [0..255] for integers).\n",
      "Clipping input data to the valid range for imshow with RGB data ([0..1] for floats or [0..255] for integers).\n",
      " 80%|████████  | 4/5 [00:01<00:00,  3.09it/s]Clipping input data to the valid range for imshow with RGB data ([0..1] for floats or [0..255] for integers).\n",
      "Clipping input data to the valid range for imshow with RGB data ([0..1] for floats or [0..255] for integers).\n",
      "100%|██████████| 5/5 [00:01<00:00,  3.14it/s]\n",
      "  0%|          | 0/5 [00:00<?, ?it/s]"
     ]
    },
    {
     "name": "stdout",
     "output_type": "stream",
     "text": [
      "anno_b ({'boxes': tensor([[376.8700, 147.4800, 541.2250, 431.3950]], device='cuda:0'), 'labels': tensor([1], device='cuda:0')}, {'boxes': tensor([[414.1000, 116.3100, 596.7350, 446.9100]], device='cuda:0'), 'labels': tensor([1], device='cuda:0')}, {'boxes': tensor([[172.3900, 237.7600, 189.7400, 306.1000],\n",
      "        [300.3800, 226.4050, 330.8050, 322.4400],\n",
      "        [445.3300, 143.3050, 590.5900, 449.6150]], device='cuda:0'), 'labels': tensor([1, 1, 1], device='cuda:0')}, {'boxes': tensor([[229.8600, 140.3200, 736.6900, 412.0600]], device='cuda:0'), 'labels': tensor([1], device='cuda:0')})\n"
     ]
    },
    {
     "name": "stderr",
     "output_type": "stream",
     "text": [
      " 20%|██        | 1/5 [00:00<00:02,  1.37it/s]"
     ]
    },
    {
     "name": "stdout",
     "output_type": "stream",
     "text": [
      "anno_b ({'boxes': tensor([[430.5100, 195.2650, 507.7150, 371.3350],\n",
      "        [799.7850, 170.9350, 958.9600, 443.4000]], device='cuda:0'), 'labels': tensor([1, 1], device='cuda:0')}, {'boxes': tensor([[530.5950, 236.6900, 545.2800, 302.2250]], device='cuda:0'), 'labels': tensor([1], device='cuda:0')}, {'boxes': tensor([[495.5900, 165.0200, 603.2850, 393.8800]], device='cuda:0'), 'labels': tensor([1], device='cuda:0')}, {'boxes': tensor([[412.4000, 148.3350, 583.2400, 435.3900]], device='cuda:0'), 'labels': tensor([1], device='cuda:0')})\n"
     ]
    },
    {
     "name": "stderr",
     "output_type": "stream",
     "text": [
      " 40%|████      | 2/5 [00:01<00:02,  1.37it/s]"
     ]
    },
    {
     "name": "stdout",
     "output_type": "stream",
     "text": [
      "anno_b ({'boxes': tensor([[391.7450, 101.8250, 636.6100, 463.1600],\n",
      "        [768.1450, 208.6150, 813.9150, 354.0300]], device='cuda:0'), 'labels': tensor([1, 1], device='cuda:0')}, {'boxes': tensor([[233.6150, 114.4700, 590.1850, 490.9700]], device='cuda:0'), 'labels': tensor([1], device='cuda:0')}, {'boxes': tensor([[152.8500, 171.4750, 269.5250, 403.7850],\n",
      "        [671.4750, 165.6400, 791.7100, 408.7450]], device='cuda:0'), 'labels': tensor([1, 1], device='cuda:0')}, {'boxes': tensor([[240.1350, 227.0250, 273.1500, 336.3200],\n",
      "        [454.5550, 220.2200, 482.2150, 326.8100],\n",
      "        [513.6250, 222.8750, 546.7900, 340.8150],\n",
      "        [651.3100, 211.2200, 690.8150, 340.3150]], device='cuda:0'), 'labels': tensor([1, 1, 1, 1], device='cuda:0')})\n"
     ]
    },
    {
     "name": "stderr",
     "output_type": "stream",
     "text": [
      " 60%|██████    | 3/5 [00:02<00:01,  1.35it/s]"
     ]
    },
    {
     "name": "stdout",
     "output_type": "stream",
     "text": [
      "anno_b ({'boxes': tensor([[200.4750, 119.4850, 398.8600, 450.9450]], device='cuda:0'), 'labels': tensor([1], device='cuda:0')}, {'boxes': tensor([[411.8400, 127.2550, 584.7500, 448.9150]], device='cuda:0'), 'labels': tensor([1], device='cuda:0')}, {'boxes': tensor([[362.6650, 234.0200, 378.7850, 313.0050]], device='cuda:0'), 'labels': tensor([1], device='cuda:0')}, {'boxes': tensor([[114.1250, 144.4800, 301.6700, 440.5500],\n",
      "        [465.7550, 232.3650, 491.1750, 311.0800],\n",
      "        [546.0150, 232.6900, 564.0500, 302.0550]], device='cuda:0'), 'labels': tensor([1, 1, 1], device='cuda:0')})\n"
     ]
    },
    {
     "name": "stderr",
     "output_type": "stream",
     "text": [
      " 80%|████████  | 4/5 [00:02<00:00,  1.35it/s]"
     ]
    },
    {
     "name": "stdout",
     "output_type": "stream",
     "text": [
      "anno_b ({'boxes': tensor([[133.2650, 114.7400, 337.6200, 458.9300]], device='cuda:0'), 'labels': tensor([1], device='cuda:0')}, {'boxes': tensor([[152.5350, 195.5000, 185.1750, 406.8750],\n",
      "        [486.3900, 150.6900, 541.1900, 389.3650]], device='cuda:0'), 'labels': tensor([1, 1], device='cuda:0')}, {'boxes': tensor([[382.3250, 231.7050, 400.2300, 319.5150],\n",
      "        [772.8050, 236.9150, 832.6850, 301.8500]], device='cuda:0'), 'labels': tensor([1, 1], device='cuda:0')}, {'boxes': tensor([[101.5750, 135.7650, 243.1950, 437.1900]], device='cuda:0'), 'labels': tensor([1], device='cuda:0')})\n"
     ]
    },
    {
     "name": "stderr",
     "output_type": "stream",
     "text": [
      "100%|██████████| 5/5 [00:03<00:00,  1.35it/s]\n",
      "Clipping input data to the valid range for imshow with RGB data ([0..1] for floats or [0..255] for integers).\n",
      "Clipping input data to the valid range for imshow with RGB data ([0..1] for floats or [0..255] for integers).\n",
      "Clipping input data to the valid range for imshow with RGB data ([0..1] for floats or [0..255] for integers).\n",
      "Clipping input data to the valid range for imshow with RGB data ([0..1] for floats or [0..255] for integers).\n",
      "Clipping input data to the valid range for imshow with RGB data ([0..1] for floats or [0..255] for integers).\n",
      "Clipping input data to the valid range for imshow with RGB data ([0..1] for floats or [0..255] for integers).\n",
      "Clipping input data to the valid range for imshow with RGB data ([0..1] for floats or [0..255] for integers).\n",
      "Clipping input data to the valid range for imshow with RGB data ([0..1] for floats or [0..255] for integers).\n",
      "  0%|          | 0/5 [00:00<?, ?it/s]"
     ]
    },
    {
     "name": "stdout",
     "output_type": "stream",
     "text": [
      "anno_b ({'boxes': tensor([[152.8500, 171.4750, 269.5250, 403.7850],\n",
      "        [671.4750, 165.6400, 791.7100, 408.7450]], device='cuda:0'), 'labels': tensor([1, 1], device='cuda:0')}, {'boxes': tensor([[411.8400, 127.2550, 584.7500, 448.9150]], device='cuda:0'), 'labels': tensor([1], device='cuda:0')}, {'boxes': tensor([[495.5900, 165.0200, 603.2850, 393.8800]], device='cuda:0'), 'labels': tensor([1], device='cuda:0')}, {'boxes': tensor([[229.8600, 140.3200, 736.6900, 412.0600]], device='cuda:0'), 'labels': tensor([1], device='cuda:0')})\n"
     ]
    },
    {
     "name": "stderr",
     "output_type": "stream",
     "text": [
      " 20%|██        | 1/5 [00:00<00:03,  1.30it/s]"
     ]
    },
    {
     "name": "stdout",
     "output_type": "stream",
     "text": [
      "anno_b ({'boxes': tensor([[430.5100, 195.2650, 507.7150, 371.3350],\n",
      "        [799.7850, 170.9350, 958.9600, 443.4000]], device='cuda:0'), 'labels': tensor([1, 1], device='cuda:0')}, {'boxes': tensor([[362.6650, 234.0200, 378.7850, 313.0050]], device='cuda:0'), 'labels': tensor([1], device='cuda:0')}, {'boxes': tensor([[240.1350, 227.0250, 273.1500, 336.3200],\n",
      "        [454.5550, 220.2200, 482.2150, 326.8100],\n",
      "        [513.6250, 222.8750, 546.7900, 340.8150],\n",
      "        [651.3100, 211.2200, 690.8150, 340.3150]], device='cuda:0'), 'labels': tensor([1, 1, 1, 1], device='cuda:0')}, {'boxes': tensor([[114.1250, 144.4800, 301.6700, 440.5500],\n",
      "        [465.7550, 232.3650, 491.1750, 311.0800],\n",
      "        [546.0150, 232.6900, 564.0500, 302.0550]], device='cuda:0'), 'labels': tensor([1, 1, 1], device='cuda:0')})\n"
     ]
    },
    {
     "name": "stderr",
     "output_type": "stream",
     "text": [
      " 40%|████      | 2/5 [00:01<00:02,  1.32it/s]"
     ]
    },
    {
     "name": "stdout",
     "output_type": "stream",
     "text": [
      "anno_b ({'boxes': tensor([[152.5350, 195.5000, 185.1750, 406.8750],\n",
      "        [486.3900, 150.6900, 541.1900, 389.3650]], device='cuda:0'), 'labels': tensor([1, 1], device='cuda:0')}, {'boxes': tensor([[412.4000, 148.3350, 583.2400, 435.3900]], device='cuda:0'), 'labels': tensor([1], device='cuda:0')}, {'boxes': tensor([[382.3250, 231.7050, 400.2300, 319.5150],\n",
      "        [772.8050, 236.9150, 832.6850, 301.8500]], device='cuda:0'), 'labels': tensor([1, 1], device='cuda:0')}, {'boxes': tensor([[172.3900, 237.7600, 189.7400, 306.1000],\n",
      "        [300.3800, 226.4050, 330.8050, 322.4400],\n",
      "        [445.3300, 143.3050, 590.5900, 449.6150]], device='cuda:0'), 'labels': tensor([1, 1, 1], device='cuda:0')})\n"
     ]
    },
    {
     "name": "stderr",
     "output_type": "stream",
     "text": [
      " 60%|██████    | 3/5 [00:02<00:01,  1.34it/s]"
     ]
    },
    {
     "name": "stdout",
     "output_type": "stream",
     "text": [
      "anno_b ({'boxes': tensor([[530.5950, 236.6900, 545.2800, 302.2250]], device='cuda:0'), 'labels': tensor([1], device='cuda:0')}, {'boxes': tensor([[391.7450, 101.8250, 636.6100, 463.1600],\n",
      "        [768.1450, 208.6150, 813.9150, 354.0300]], device='cuda:0'), 'labels': tensor([1, 1], device='cuda:0')}, {'boxes': tensor([[233.6150, 114.4700, 590.1850, 490.9700]], device='cuda:0'), 'labels': tensor([1], device='cuda:0')}, {'boxes': tensor([[376.8700, 147.4800, 541.2250, 431.3950]], device='cuda:0'), 'labels': tensor([1], device='cuda:0')})\n"
     ]
    },
    {
     "name": "stderr",
     "output_type": "stream",
     "text": [
      " 80%|████████  | 4/5 [00:02<00:00,  1.36it/s]"
     ]
    },
    {
     "name": "stdout",
     "output_type": "stream",
     "text": [
      "anno_b ({'boxes': tensor([[200.4750, 119.4850, 398.8600, 450.9450]], device='cuda:0'), 'labels': tensor([1], device='cuda:0')}, {'boxes': tensor([[414.1000, 116.3100, 596.7350, 446.9100]], device='cuda:0'), 'labels': tensor([1], device='cuda:0')}, {'boxes': tensor([[133.2650, 114.7400, 337.6200, 458.9300]], device='cuda:0'), 'labels': tensor([1], device='cuda:0')}, {'boxes': tensor([[101.5750, 135.7650, 243.1950, 437.1900]], device='cuda:0'), 'labels': tensor([1], device='cuda:0')})\n"
     ]
    },
    {
     "name": "stderr",
     "output_type": "stream",
     "text": [
      "100%|██████████| 5/5 [00:03<00:00,  1.35it/s]\n",
      "  0%|          | 0/5 [00:00<?, ?it/s]"
     ]
    },
    {
     "name": "stdout",
     "output_type": "stream",
     "text": [
      "anno_b ({'boxes': tensor([[172.3900, 237.7600, 189.7400, 306.1000],\n",
      "        [300.3800, 226.4050, 330.8050, 322.4400],\n",
      "        [445.3300, 143.3050, 590.5900, 449.6150]], device='cuda:0'), 'labels': tensor([1, 1, 1], device='cuda:0')}, {'boxes': tensor([[530.5950, 236.6900, 545.2800, 302.2250]], device='cuda:0'), 'labels': tensor([1], device='cuda:0')}, {'boxes': tensor([[412.4000, 148.3350, 583.2400, 435.3900]], device='cuda:0'), 'labels': tensor([1], device='cuda:0')}, {'boxes': tensor([[376.8700, 147.4800, 541.2250, 431.3950]], device='cuda:0'), 'labels': tensor([1], device='cuda:0')})\n"
     ]
    },
    {
     "name": "stderr",
     "output_type": "stream",
     "text": [
      " 20%|██        | 1/5 [00:00<00:02,  1.36it/s]"
     ]
    },
    {
     "name": "stdout",
     "output_type": "stream",
     "text": [
      "anno_b ({'boxes': tensor([[414.1000, 116.3100, 596.7350, 446.9100]], device='cuda:0'), 'labels': tensor([1], device='cuda:0')}, {'boxes': tensor([[411.8400, 127.2550, 584.7500, 448.9150]], device='cuda:0'), 'labels': tensor([1], device='cuda:0')}, {'boxes': tensor([[362.6650, 234.0200, 378.7850, 313.0050]], device='cuda:0'), 'labels': tensor([1], device='cuda:0')}, {'boxes': tensor([[152.8500, 171.4750, 269.5250, 403.7850],\n",
      "        [671.4750, 165.6400, 791.7100, 408.7450]], device='cuda:0'), 'labels': tensor([1, 1], device='cuda:0')})\n"
     ]
    },
    {
     "name": "stderr",
     "output_type": "stream",
     "text": [
      " 40%|████      | 2/5 [00:01<00:02,  1.37it/s]"
     ]
    },
    {
     "name": "stdout",
     "output_type": "stream",
     "text": [
      "anno_b ({'boxes': tensor([[240.1350, 227.0250, 273.1500, 336.3200],\n",
      "        [454.5550, 220.2200, 482.2150, 326.8100],\n",
      "        [513.6250, 222.8750, 546.7900, 340.8150],\n",
      "        [651.3100, 211.2200, 690.8150, 340.3150]], device='cuda:0'), 'labels': tensor([1, 1, 1, 1], device='cuda:0')}, {'boxes': tensor([[233.6150, 114.4700, 590.1850, 490.9700]], device='cuda:0'), 'labels': tensor([1], device='cuda:0')}, {'boxes': tensor([[430.5100, 195.2650, 507.7150, 371.3350],\n",
      "        [799.7850, 170.9350, 958.9600, 443.4000]], device='cuda:0'), 'labels': tensor([1, 1], device='cuda:0')}, {'boxes': tensor([[200.4750, 119.4850, 398.8600, 450.9450]], device='cuda:0'), 'labels': tensor([1], device='cuda:0')})\n"
     ]
    },
    {
     "name": "stderr",
     "output_type": "stream",
     "text": [
      " 60%|██████    | 3/5 [00:02<00:01,  1.37it/s]"
     ]
    },
    {
     "name": "stdout",
     "output_type": "stream",
     "text": [
      "anno_b ({'boxes': tensor([[152.5350, 195.5000, 185.1750, 406.8750],\n",
      "        [486.3900, 150.6900, 541.1900, 389.3650]], device='cuda:0'), 'labels': tensor([1, 1], device='cuda:0')}, {'boxes': tensor([[133.2650, 114.7400, 337.6200, 458.9300]], device='cuda:0'), 'labels': tensor([1], device='cuda:0')}, {'boxes': tensor([[382.3250, 231.7050, 400.2300, 319.5150],\n",
      "        [772.8050, 236.9150, 832.6850, 301.8500]], device='cuda:0'), 'labels': tensor([1, 1], device='cuda:0')}, {'boxes': tensor([[229.8600, 140.3200, 736.6900, 412.0600]], device='cuda:0'), 'labels': tensor([1], device='cuda:0')})\n"
     ]
    },
    {
     "name": "stderr",
     "output_type": "stream",
     "text": [
      " 80%|████████  | 4/5 [00:02<00:00,  1.37it/s]"
     ]
    },
    {
     "name": "stdout",
     "output_type": "stream",
     "text": [
      "anno_b ({'boxes': tensor([[114.1250, 144.4800, 301.6700, 440.5500],\n",
      "        [465.7550, 232.3650, 491.1750, 311.0800],\n",
      "        [546.0150, 232.6900, 564.0500, 302.0550]], device='cuda:0'), 'labels': tensor([1, 1, 1], device='cuda:0')}, {'boxes': tensor([[101.5750, 135.7650, 243.1950, 437.1900]], device='cuda:0'), 'labels': tensor([1], device='cuda:0')}, {'boxes': tensor([[495.5900, 165.0200, 603.2850, 393.8800]], device='cuda:0'), 'labels': tensor([1], device='cuda:0')}, {'boxes': tensor([[391.7450, 101.8250, 636.6100, 463.1600],\n",
      "        [768.1450, 208.6150, 813.9150, 354.0300]], device='cuda:0'), 'labels': tensor([1, 1], device='cuda:0')})\n"
     ]
    },
    {
     "name": "stderr",
     "output_type": "stream",
     "text": [
      "100%|██████████| 5/5 [00:03<00:00,  1.37it/s]\n",
      "  0%|          | 0/5 [00:00<?, ?it/s]"
     ]
    },
    {
     "name": "stdout",
     "output_type": "stream",
     "text": [
      "anno_b ({'boxes': tensor([[152.8500, 171.4750, 269.5250, 403.7850],\n",
      "        [671.4750, 165.6400, 791.7100, 408.7450]], device='cuda:0'), 'labels': tensor([1, 1], device='cuda:0')}, {'boxes': tensor([[172.3900, 237.7600, 189.7400, 306.1000],\n",
      "        [300.3800, 226.4050, 330.8050, 322.4400],\n",
      "        [445.3300, 143.3050, 590.5900, 449.6150]], device='cuda:0'), 'labels': tensor([1, 1, 1], device='cuda:0')}, {'boxes': tensor([[414.1000, 116.3100, 596.7350, 446.9100]], device='cuda:0'), 'labels': tensor([1], device='cuda:0')}, {'boxes': tensor([[430.5100, 195.2650, 507.7150, 371.3350],\n",
      "        [799.7850, 170.9350, 958.9600, 443.4000]], device='cuda:0'), 'labels': tensor([1, 1], device='cuda:0')})\n"
     ]
    },
    {
     "name": "stderr",
     "output_type": "stream",
     "text": [
      " 20%|██        | 1/5 [00:00<00:02,  1.35it/s]"
     ]
    },
    {
     "name": "stdout",
     "output_type": "stream",
     "text": [
      "anno_b ({'boxes': tensor([[240.1350, 227.0250, 273.1500, 336.3200],\n",
      "        [454.5550, 220.2200, 482.2150, 326.8100],\n",
      "        [513.6250, 222.8750, 546.7900, 340.8150],\n",
      "        [651.3100, 211.2200, 690.8150, 340.3150]], device='cuda:0'), 'labels': tensor([1, 1, 1, 1], device='cuda:0')}, {'boxes': tensor([[376.8700, 147.4800, 541.2250, 431.3950]], device='cuda:0'), 'labels': tensor([1], device='cuda:0')}, {'boxes': tensor([[152.5350, 195.5000, 185.1750, 406.8750],\n",
      "        [486.3900, 150.6900, 541.1900, 389.3650]], device='cuda:0'), 'labels': tensor([1, 1], device='cuda:0')}, {'boxes': tensor([[114.1250, 144.4800, 301.6700, 440.5500],\n",
      "        [465.7550, 232.3650, 491.1750, 311.0800],\n",
      "        [546.0150, 232.6900, 564.0500, 302.0550]], device='cuda:0'), 'labels': tensor([1, 1, 1], device='cuda:0')})\n"
     ]
    },
    {
     "name": "stderr",
     "output_type": "stream",
     "text": [
      " 40%|████      | 2/5 [00:01<00:02,  1.35it/s]"
     ]
    },
    {
     "name": "stdout",
     "output_type": "stream",
     "text": [
      "anno_b ({'boxes': tensor([[233.6150, 114.4700, 590.1850, 490.9700]], device='cuda:0'), 'labels': tensor([1], device='cuda:0')}, {'boxes': tensor([[495.5900, 165.0200, 603.2850, 393.8800]], device='cuda:0'), 'labels': tensor([1], device='cuda:0')}, {'boxes': tensor([[362.6650, 234.0200, 378.7850, 313.0050]], device='cuda:0'), 'labels': tensor([1], device='cuda:0')}, {'boxes': tensor([[382.3250, 231.7050, 400.2300, 319.5150],\n",
      "        [772.8050, 236.9150, 832.6850, 301.8500]], device='cuda:0'), 'labels': tensor([1, 1], device='cuda:0')})\n"
     ]
    },
    {
     "name": "stderr",
     "output_type": "stream",
     "text": [
      " 60%|██████    | 3/5 [00:02<00:01,  1.35it/s]"
     ]
    },
    {
     "name": "stdout",
     "output_type": "stream",
     "text": [
      "anno_b ({'boxes': tensor([[530.5950, 236.6900, 545.2800, 302.2250]], device='cuda:0'), 'labels': tensor([1], device='cuda:0')}, {'boxes': tensor([[101.5750, 135.7650, 243.1950, 437.1900]], device='cuda:0'), 'labels': tensor([1], device='cuda:0')}, {'boxes': tensor([[391.7450, 101.8250, 636.6100, 463.1600],\n",
      "        [768.1450, 208.6150, 813.9150, 354.0300]], device='cuda:0'), 'labels': tensor([1, 1], device='cuda:0')}, {'boxes': tensor([[133.2650, 114.7400, 337.6200, 458.9300]], device='cuda:0'), 'labels': tensor([1], device='cuda:0')})\n"
     ]
    },
    {
     "name": "stderr",
     "output_type": "stream",
     "text": [
      " 80%|████████  | 4/5 [00:02<00:00,  1.35it/s]"
     ]
    },
    {
     "name": "stdout",
     "output_type": "stream",
     "text": [
      "anno_b ({'boxes': tensor([[412.4000, 148.3350, 583.2400, 435.3900]], device='cuda:0'), 'labels': tensor([1], device='cuda:0')}, {'boxes': tensor([[229.8600, 140.3200, 736.6900, 412.0600]], device='cuda:0'), 'labels': tensor([1], device='cuda:0')}, {'boxes': tensor([[200.4750, 119.4850, 398.8600, 450.9450]], device='cuda:0'), 'labels': tensor([1], device='cuda:0')}, {'boxes': tensor([[411.8400, 127.2550, 584.7500, 448.9150]], device='cuda:0'), 'labels': tensor([1], device='cuda:0')})\n"
     ]
    },
    {
     "name": "stderr",
     "output_type": "stream",
     "text": [
      "100%|██████████| 5/5 [00:03<00:00,  1.35it/s]\n",
      "  0%|          | 0/5 [00:00<?, ?it/s]"
     ]
    },
    {
     "name": "stdout",
     "output_type": "stream",
     "text": [
      "anno_b ({'boxes': tensor([[382.3250, 231.7050, 400.2300, 319.5150],\n",
      "        [772.8050, 236.9150, 832.6850, 301.8500]], device='cuda:0'), 'labels': tensor([1, 1], device='cuda:0')}, {'boxes': tensor([[414.1000, 116.3100, 596.7350, 446.9100]], device='cuda:0'), 'labels': tensor([1], device='cuda:0')}, {'boxes': tensor([[411.8400, 127.2550, 584.7500, 448.9150]], device='cuda:0'), 'labels': tensor([1], device='cuda:0')}, {'boxes': tensor([[152.8500, 171.4750, 269.5250, 403.7850],\n",
      "        [671.4750, 165.6400, 791.7100, 408.7450]], device='cuda:0'), 'labels': tensor([1, 1], device='cuda:0')})\n"
     ]
    },
    {
     "name": "stderr",
     "output_type": "stream",
     "text": [
      " 20%|██        | 1/5 [00:00<00:02,  1.38it/s]"
     ]
    },
    {
     "name": "stdout",
     "output_type": "stream",
     "text": [
      "anno_b ({'boxes': tensor([[412.4000, 148.3350, 583.2400, 435.3900]], device='cuda:0'), 'labels': tensor([1], device='cuda:0')}, {'boxes': tensor([[114.1250, 144.4800, 301.6700, 440.5500],\n",
      "        [465.7550, 232.3650, 491.1750, 311.0800],\n",
      "        [546.0150, 232.6900, 564.0500, 302.0550]], device='cuda:0'), 'labels': tensor([1, 1, 1], device='cuda:0')}, {'boxes': tensor([[362.6650, 234.0200, 378.7850, 313.0050]], device='cuda:0'), 'labels': tensor([1], device='cuda:0')}, {'boxes': tensor([[391.7450, 101.8250, 636.6100, 463.1600],\n",
      "        [768.1450, 208.6150, 813.9150, 354.0300]], device='cuda:0'), 'labels': tensor([1, 1], device='cuda:0')})\n"
     ]
    },
    {
     "name": "stderr",
     "output_type": "stream",
     "text": [
      " 40%|████      | 2/5 [00:01<00:02,  1.36it/s]"
     ]
    },
    {
     "name": "stdout",
     "output_type": "stream",
     "text": [
      "anno_b ({'boxes': tensor([[200.4750, 119.4850, 398.8600, 450.9450]], device='cuda:0'), 'labels': tensor([1], device='cuda:0')}, {'boxes': tensor([[530.5950, 236.6900, 545.2800, 302.2250]], device='cuda:0'), 'labels': tensor([1], device='cuda:0')}, {'boxes': tensor([[430.5100, 195.2650, 507.7150, 371.3350],\n",
      "        [799.7850, 170.9350, 958.9600, 443.4000]], device='cuda:0'), 'labels': tensor([1, 1], device='cuda:0')}, {'boxes': tensor([[229.8600, 140.3200, 736.6900, 412.0600]], device='cuda:0'), 'labels': tensor([1], device='cuda:0')})\n"
     ]
    },
    {
     "name": "stderr",
     "output_type": "stream",
     "text": [
      " 60%|██████    | 3/5 [00:02<00:01,  1.35it/s]"
     ]
    },
    {
     "name": "stdout",
     "output_type": "stream",
     "text": [
      "anno_b ({'boxes': tensor([[233.6150, 114.4700, 590.1850, 490.9700]], device='cuda:0'), 'labels': tensor([1], device='cuda:0')}, {'boxes': tensor([[376.8700, 147.4800, 541.2250, 431.3950]], device='cuda:0'), 'labels': tensor([1], device='cuda:0')}, {'boxes': tensor([[240.1350, 227.0250, 273.1500, 336.3200],\n",
      "        [454.5550, 220.2200, 482.2150, 326.8100],\n",
      "        [513.6250, 222.8750, 546.7900, 340.8150],\n",
      "        [651.3100, 211.2200, 690.8150, 340.3150]], device='cuda:0'), 'labels': tensor([1, 1, 1, 1], device='cuda:0')}, {'boxes': tensor([[495.5900, 165.0200, 603.2850, 393.8800]], device='cuda:0'), 'labels': tensor([1], device='cuda:0')})\n"
     ]
    },
    {
     "name": "stderr",
     "output_type": "stream",
     "text": [
      " 80%|████████  | 4/5 [00:02<00:00,  1.35it/s]"
     ]
    },
    {
     "name": "stdout",
     "output_type": "stream",
     "text": [
      "anno_b ({'boxes': tensor([[152.5350, 195.5000, 185.1750, 406.8750],\n",
      "        [486.3900, 150.6900, 541.1900, 389.3650]], device='cuda:0'), 'labels': tensor([1, 1], device='cuda:0')}, {'boxes': tensor([[172.3900, 237.7600, 189.7400, 306.1000],\n",
      "        [300.3800, 226.4050, 330.8050, 322.4400],\n",
      "        [445.3300, 143.3050, 590.5900, 449.6150]], device='cuda:0'), 'labels': tensor([1, 1, 1], device='cuda:0')}, {'boxes': tensor([[133.2650, 114.7400, 337.6200, 458.9300]], device='cuda:0'), 'labels': tensor([1], device='cuda:0')}, {'boxes': tensor([[101.5750, 135.7650, 243.1950, 437.1900]], device='cuda:0'), 'labels': tensor([1], device='cuda:0')})\n"
     ]
    },
    {
     "name": "stderr",
     "output_type": "stream",
     "text": [
      "100%|██████████| 5/5 [00:03<00:00,  1.36it/s]\n",
      "100%|██████████| 3/3 [00:00<00:00,  3.08it/s]\n",
      "  0%|          | 0/5 [00:00<?, ?it/s]Clipping input data to the valid range for imshow with RGB data ([0..1] for floats or [0..255] for integers).\n",
      "Clipping input data to the valid range for imshow with RGB data ([0..1] for floats or [0..255] for integers).\n",
      " 20%|██        | 1/5 [00:00<00:01,  2.41it/s]Clipping input data to the valid range for imshow with RGB data ([0..1] for floats or [0..255] for integers).\n",
      "Clipping input data to the valid range for imshow with RGB data ([0..1] for floats or [0..255] for integers).\n",
      " 40%|████      | 2/5 [00:00<00:01,  2.78it/s]Clipping input data to the valid range for imshow with RGB data ([0..1] for floats or [0..255] for integers).\n",
      "Clipping input data to the valid range for imshow with RGB data ([0..1] for floats or [0..255] for integers).\n",
      " 60%|██████    | 3/5 [00:01<00:00,  2.92it/s]Clipping input data to the valid range for imshow with RGB data ([0..1] for floats or [0..255] for integers).\n",
      "Clipping input data to the valid range for imshow with RGB data ([0..1] for floats or [0..255] for integers).\n",
      " 80%|████████  | 4/5 [00:01<00:00,  3.02it/s]Clipping input data to the valid range for imshow with RGB data ([0..1] for floats or [0..255] for integers).\n",
      "Clipping input data to the valid range for imshow with RGB data ([0..1] for floats or [0..255] for integers).\n",
      "100%|██████████| 5/5 [00:01<00:00,  2.96it/s]\n",
      "  0%|          | 0/5 [00:00<?, ?it/s]"
     ]
    },
    {
     "name": "stdout",
     "output_type": "stream",
     "text": [
      "anno_b ({'boxes': tensor([[101.5750, 135.7650, 243.1950, 437.1900]], device='cuda:0'), 'labels': tensor([1], device='cuda:0')}, {'boxes': tensor([[376.8700, 147.4800, 541.2250, 431.3950]], device='cuda:0'), 'labels': tensor([1], device='cuda:0')}, {'boxes': tensor([[430.5100, 195.2650, 507.7150, 371.3350],\n",
      "        [799.7850, 170.9350, 958.9600, 443.4000]], device='cuda:0'), 'labels': tensor([1, 1], device='cuda:0')}, {'boxes': tensor([[391.7450, 101.8250, 636.6100, 463.1600],\n",
      "        [768.1450, 208.6150, 813.9150, 354.0300]], device='cuda:0'), 'labels': tensor([1, 1], device='cuda:0')})\n"
     ]
    },
    {
     "name": "stderr",
     "output_type": "stream",
     "text": [
      " 20%|██        | 1/5 [00:00<00:02,  1.36it/s]"
     ]
    },
    {
     "name": "stdout",
     "output_type": "stream",
     "text": [
      "anno_b ({'boxes': tensor([[152.5350, 195.5000, 185.1750, 406.8750],\n",
      "        [486.3900, 150.6900, 541.1900, 389.3650]], device='cuda:0'), 'labels': tensor([1, 1], device='cuda:0')}, {'boxes': tensor([[172.3900, 237.7600, 189.7400, 306.1000],\n",
      "        [300.3800, 226.4050, 330.8050, 322.4400],\n",
      "        [445.3300, 143.3050, 590.5900, 449.6150]], device='cuda:0'), 'labels': tensor([1, 1, 1], device='cuda:0')}, {'boxes': tensor([[495.5900, 165.0200, 603.2850, 393.8800]], device='cuda:0'), 'labels': tensor([1], device='cuda:0')}, {'boxes': tensor([[414.1000, 116.3100, 596.7350, 446.9100]], device='cuda:0'), 'labels': tensor([1], device='cuda:0')})\n"
     ]
    },
    {
     "name": "stderr",
     "output_type": "stream",
     "text": [
      " 40%|████      | 2/5 [00:01<00:02,  1.37it/s]"
     ]
    },
    {
     "name": "stdout",
     "output_type": "stream",
     "text": [
      "anno_b ({'boxes': tensor([[530.5950, 236.6900, 545.2800, 302.2250]], device='cuda:0'), 'labels': tensor([1], device='cuda:0')}, {'boxes': tensor([[114.1250, 144.4800, 301.6700, 440.5500],\n",
      "        [465.7550, 232.3650, 491.1750, 311.0800],\n",
      "        [546.0150, 232.6900, 564.0500, 302.0550]], device='cuda:0'), 'labels': tensor([1, 1, 1], device='cuda:0')}, {'boxes': tensor([[200.4750, 119.4850, 398.8600, 450.9450]], device='cuda:0'), 'labels': tensor([1], device='cuda:0')}, {'boxes': tensor([[411.8400, 127.2550, 584.7500, 448.9150]], device='cuda:0'), 'labels': tensor([1], device='cuda:0')})\n"
     ]
    },
    {
     "name": "stderr",
     "output_type": "stream",
     "text": [
      " 60%|██████    | 3/5 [00:02<00:01,  1.37it/s]"
     ]
    },
    {
     "name": "stdout",
     "output_type": "stream",
     "text": [
      "anno_b ({'boxes': tensor([[382.3250, 231.7050, 400.2300, 319.5150],\n",
      "        [772.8050, 236.9150, 832.6850, 301.8500]], device='cuda:0'), 'labels': tensor([1, 1], device='cuda:0')}, {'boxes': tensor([[152.8500, 171.4750, 269.5250, 403.7850],\n",
      "        [671.4750, 165.6400, 791.7100, 408.7450]], device='cuda:0'), 'labels': tensor([1, 1], device='cuda:0')}, {'boxes': tensor([[133.2650, 114.7400, 337.6200, 458.9300]], device='cuda:0'), 'labels': tensor([1], device='cuda:0')}, {'boxes': tensor([[229.8600, 140.3200, 736.6900, 412.0600]], device='cuda:0'), 'labels': tensor([1], device='cuda:0')})\n"
     ]
    },
    {
     "name": "stderr",
     "output_type": "stream",
     "text": [
      " 80%|████████  | 4/5 [00:02<00:00,  1.37it/s]"
     ]
    },
    {
     "name": "stdout",
     "output_type": "stream",
     "text": [
      "anno_b ({'boxes': tensor([[362.6650, 234.0200, 378.7850, 313.0050]], device='cuda:0'), 'labels': tensor([1], device='cuda:0')}, {'boxes': tensor([[412.4000, 148.3350, 583.2400, 435.3900]], device='cuda:0'), 'labels': tensor([1], device='cuda:0')}, {'boxes': tensor([[233.6150, 114.4700, 590.1850, 490.9700]], device='cuda:0'), 'labels': tensor([1], device='cuda:0')}, {'boxes': tensor([[240.1350, 227.0250, 273.1500, 336.3200],\n",
      "        [454.5550, 220.2200, 482.2150, 326.8100],\n",
      "        [513.6250, 222.8750, 546.7900, 340.8150],\n",
      "        [651.3100, 211.2200, 690.8150, 340.3150]], device='cuda:0'), 'labels': tensor([1, 1, 1, 1], device='cuda:0')})\n"
     ]
    },
    {
     "name": "stderr",
     "output_type": "stream",
     "text": [
      "100%|██████████| 5/5 [00:03<00:00,  1.37it/s]\n",
      "Clipping input data to the valid range for imshow with RGB data ([0..1] for floats or [0..255] for integers).\n",
      "Clipping input data to the valid range for imshow with RGB data ([0..1] for floats or [0..255] for integers).\n",
      "Clipping input data to the valid range for imshow with RGB data ([0..1] for floats or [0..255] for integers).\n",
      "Clipping input data to the valid range for imshow with RGB data ([0..1] for floats or [0..255] for integers).\n",
      "Clipping input data to the valid range for imshow with RGB data ([0..1] for floats or [0..255] for integers).\n",
      "Clipping input data to the valid range for imshow with RGB data ([0..1] for floats or [0..255] for integers).\n",
      "Clipping input data to the valid range for imshow with RGB data ([0..1] for floats or [0..255] for integers).\n",
      "Clipping input data to the valid range for imshow with RGB data ([0..1] for floats or [0..255] for integers).\n",
      "  0%|          | 0/5 [00:00<?, ?it/s]"
     ]
    },
    {
     "name": "stdout",
     "output_type": "stream",
     "text": [
      "anno_b ({'boxes': tensor([[229.8600, 140.3200, 736.6900, 412.0600]], device='cuda:0'), 'labels': tensor([1], device='cuda:0')}, {'boxes': tensor([[411.8400, 127.2550, 584.7500, 448.9150]], device='cuda:0'), 'labels': tensor([1], device='cuda:0')}, {'boxes': tensor([[414.1000, 116.3100, 596.7350, 446.9100]], device='cuda:0'), 'labels': tensor([1], device='cuda:0')}, {'boxes': tensor([[362.6650, 234.0200, 378.7850, 313.0050]], device='cuda:0'), 'labels': tensor([1], device='cuda:0')})\n"
     ]
    },
    {
     "name": "stderr",
     "output_type": "stream",
     "text": [
      " 20%|██        | 1/5 [00:00<00:02,  1.36it/s]"
     ]
    },
    {
     "name": "stdout",
     "output_type": "stream",
     "text": [
      "anno_b ({'boxes': tensor([[152.8500, 171.4750, 269.5250, 403.7850],\n",
      "        [671.4750, 165.6400, 791.7100, 408.7450]], device='cuda:0'), 'labels': tensor([1, 1], device='cuda:0')}, {'boxes': tensor([[233.6150, 114.4700, 590.1850, 490.9700]], device='cuda:0'), 'labels': tensor([1], device='cuda:0')}, {'boxes': tensor([[240.1350, 227.0250, 273.1500, 336.3200],\n",
      "        [454.5550, 220.2200, 482.2150, 326.8100],\n",
      "        [513.6250, 222.8750, 546.7900, 340.8150],\n",
      "        [651.3100, 211.2200, 690.8150, 340.3150]], device='cuda:0'), 'labels': tensor([1, 1, 1, 1], device='cuda:0')}, {'boxes': tensor([[430.5100, 195.2650, 507.7150, 371.3350],\n",
      "        [799.7850, 170.9350, 958.9600, 443.4000]], device='cuda:0'), 'labels': tensor([1, 1], device='cuda:0')})\n"
     ]
    },
    {
     "name": "stderr",
     "output_type": "stream",
     "text": [
      " 40%|████      | 2/5 [00:01<00:02,  1.36it/s]"
     ]
    },
    {
     "name": "stdout",
     "output_type": "stream",
     "text": [
      "anno_b ({'boxes': tensor([[133.2650, 114.7400, 337.6200, 458.9300]], device='cuda:0'), 'labels': tensor([1], device='cuda:0')}, {'boxes': tensor([[114.1250, 144.4800, 301.6700, 440.5500],\n",
      "        [465.7550, 232.3650, 491.1750, 311.0800],\n",
      "        [546.0150, 232.6900, 564.0500, 302.0550]], device='cuda:0'), 'labels': tensor([1, 1, 1], device='cuda:0')}, {'boxes': tensor([[172.3900, 237.7600, 189.7400, 306.1000],\n",
      "        [300.3800, 226.4050, 330.8050, 322.4400],\n",
      "        [445.3300, 143.3050, 590.5900, 449.6150]], device='cuda:0'), 'labels': tensor([1, 1, 1], device='cuda:0')}, {'boxes': tensor([[200.4750, 119.4850, 398.8600, 450.9450]], device='cuda:0'), 'labels': tensor([1], device='cuda:0')})\n"
     ]
    },
    {
     "name": "stderr",
     "output_type": "stream",
     "text": [
      " 60%|██████    | 3/5 [00:02<00:01,  1.37it/s]"
     ]
    },
    {
     "name": "stdout",
     "output_type": "stream",
     "text": [
      "anno_b ({'boxes': tensor([[391.7450, 101.8250, 636.6100, 463.1600],\n",
      "        [768.1450, 208.6150, 813.9150, 354.0300]], device='cuda:0'), 'labels': tensor([1, 1], device='cuda:0')}, {'boxes': tensor([[530.5950, 236.6900, 545.2800, 302.2250]], device='cuda:0'), 'labels': tensor([1], device='cuda:0')}, {'boxes': tensor([[101.5750, 135.7650, 243.1950, 437.1900]], device='cuda:0'), 'labels': tensor([1], device='cuda:0')}, {'boxes': tensor([[376.8700, 147.4800, 541.2250, 431.3950]], device='cuda:0'), 'labels': tensor([1], device='cuda:0')})\n"
     ]
    },
    {
     "name": "stderr",
     "output_type": "stream",
     "text": [
      " 80%|████████  | 4/5 [00:02<00:00,  1.37it/s]"
     ]
    },
    {
     "name": "stdout",
     "output_type": "stream",
     "text": [
      "anno_b ({'boxes': tensor([[382.3250, 231.7050, 400.2300, 319.5150],\n",
      "        [772.8050, 236.9150, 832.6850, 301.8500]], device='cuda:0'), 'labels': tensor([1, 1], device='cuda:0')}, {'boxes': tensor([[152.5350, 195.5000, 185.1750, 406.8750],\n",
      "        [486.3900, 150.6900, 541.1900, 389.3650]], device='cuda:0'), 'labels': tensor([1, 1], device='cuda:0')}, {'boxes': tensor([[495.5900, 165.0200, 603.2850, 393.8800]], device='cuda:0'), 'labels': tensor([1], device='cuda:0')}, {'boxes': tensor([[412.4000, 148.3350, 583.2400, 435.3900]], device='cuda:0'), 'labels': tensor([1], device='cuda:0')})\n"
     ]
    },
    {
     "name": "stderr",
     "output_type": "stream",
     "text": [
      "100%|██████████| 5/5 [00:03<00:00,  1.37it/s]\n",
      "  0%|          | 0/5 [00:00<?, ?it/s]"
     ]
    },
    {
     "name": "stdout",
     "output_type": "stream",
     "text": [
      "anno_b ({'boxes': tensor([[391.7450, 101.8250, 636.6100, 463.1600],\n",
      "        [768.1450, 208.6150, 813.9150, 354.0300]], device='cuda:0'), 'labels': tensor([1, 1], device='cuda:0')}, {'boxes': tensor([[362.6650, 234.0200, 378.7850, 313.0050]], device='cuda:0'), 'labels': tensor([1], device='cuda:0')}, {'boxes': tensor([[101.5750, 135.7650, 243.1950, 437.1900]], device='cuda:0'), 'labels': tensor([1], device='cuda:0')}, {'boxes': tensor([[229.8600, 140.3200, 736.6900, 412.0600]], device='cuda:0'), 'labels': tensor([1], device='cuda:0')})\n"
     ]
    },
    {
     "name": "stderr",
     "output_type": "stream",
     "text": [
      " 20%|██        | 1/5 [00:00<00:02,  1.39it/s]"
     ]
    },
    {
     "name": "stdout",
     "output_type": "stream",
     "text": [
      "anno_b ({'boxes': tensor([[412.4000, 148.3350, 583.2400, 435.3900]], device='cuda:0'), 'labels': tensor([1], device='cuda:0')}, {'boxes': tensor([[530.5950, 236.6900, 545.2800, 302.2250]], device='cuda:0'), 'labels': tensor([1], device='cuda:0')}, {'boxes': tensor([[430.5100, 195.2650, 507.7150, 371.3350],\n",
      "        [799.7850, 170.9350, 958.9600, 443.4000]], device='cuda:0'), 'labels': tensor([1, 1], device='cuda:0')}, {'boxes': tensor([[233.6150, 114.4700, 590.1850, 490.9700]], device='cuda:0'), 'labels': tensor([1], device='cuda:0')})\n"
     ]
    },
    {
     "name": "stderr",
     "output_type": "stream",
     "text": [
      " 40%|████      | 2/5 [00:01<00:02,  1.39it/s]"
     ]
    },
    {
     "name": "stdout",
     "output_type": "stream",
     "text": [
      "anno_b ({'boxes': tensor([[414.1000, 116.3100, 596.7350, 446.9100]], device='cuda:0'), 'labels': tensor([1], device='cuda:0')}, {'boxes': tensor([[495.5900, 165.0200, 603.2850, 393.8800]], device='cuda:0'), 'labels': tensor([1], device='cuda:0')}, {'boxes': tensor([[376.8700, 147.4800, 541.2250, 431.3950]], device='cuda:0'), 'labels': tensor([1], device='cuda:0')}, {'boxes': tensor([[133.2650, 114.7400, 337.6200, 458.9300]], device='cuda:0'), 'labels': tensor([1], device='cuda:0')})\n"
     ]
    },
    {
     "name": "stderr",
     "output_type": "stream",
     "text": [
      " 60%|██████    | 3/5 [00:02<00:01,  1.38it/s]"
     ]
    },
    {
     "name": "stdout",
     "output_type": "stream",
     "text": [
      "anno_b ({'boxes': tensor([[172.3900, 237.7600, 189.7400, 306.1000],\n",
      "        [300.3800, 226.4050, 330.8050, 322.4400],\n",
      "        [445.3300, 143.3050, 590.5900, 449.6150]], device='cuda:0'), 'labels': tensor([1, 1, 1], device='cuda:0')}, {'boxes': tensor([[200.4750, 119.4850, 398.8600, 450.9450]], device='cuda:0'), 'labels': tensor([1], device='cuda:0')}, {'boxes': tensor([[411.8400, 127.2550, 584.7500, 448.9150]], device='cuda:0'), 'labels': tensor([1], device='cuda:0')}, {'boxes': tensor([[114.1250, 144.4800, 301.6700, 440.5500],\n",
      "        [465.7550, 232.3650, 491.1750, 311.0800],\n",
      "        [546.0150, 232.6900, 564.0500, 302.0550]], device='cuda:0'), 'labels': tensor([1, 1, 1], device='cuda:0')})\n"
     ]
    },
    {
     "name": "stderr",
     "output_type": "stream",
     "text": [
      " 80%|████████  | 4/5 [00:02<00:00,  1.37it/s]"
     ]
    },
    {
     "name": "stdout",
     "output_type": "stream",
     "text": [
      "anno_b ({'boxes': tensor([[382.3250, 231.7050, 400.2300, 319.5150],\n",
      "        [772.8050, 236.9150, 832.6850, 301.8500]], device='cuda:0'), 'labels': tensor([1, 1], device='cuda:0')}, {'boxes': tensor([[152.5350, 195.5000, 185.1750, 406.8750],\n",
      "        [486.3900, 150.6900, 541.1900, 389.3650]], device='cuda:0'), 'labels': tensor([1, 1], device='cuda:0')}, {'boxes': tensor([[152.8500, 171.4750, 269.5250, 403.7850],\n",
      "        [671.4750, 165.6400, 791.7100, 408.7450]], device='cuda:0'), 'labels': tensor([1, 1], device='cuda:0')}, {'boxes': tensor([[240.1350, 227.0250, 273.1500, 336.3200],\n",
      "        [454.5550, 220.2200, 482.2150, 326.8100],\n",
      "        [513.6250, 222.8750, 546.7900, 340.8150],\n",
      "        [651.3100, 211.2200, 690.8150, 340.3150]], device='cuda:0'), 'labels': tensor([1, 1, 1, 1], device='cuda:0')})\n"
     ]
    },
    {
     "name": "stderr",
     "output_type": "stream",
     "text": [
      "100%|██████████| 5/5 [00:03<00:00,  1.37it/s]\n",
      "  0%|          | 0/5 [00:00<?, ?it/s]"
     ]
    },
    {
     "name": "stdout",
     "output_type": "stream",
     "text": [
      "anno_b ({'boxes': tensor([[133.2650, 114.7400, 337.6200, 458.9300]], device='cuda:0'), 'labels': tensor([1], device='cuda:0')}, {'boxes': tensor([[229.8600, 140.3200, 736.6900, 412.0600]], device='cuda:0'), 'labels': tensor([1], device='cuda:0')}, {'boxes': tensor([[152.5350, 195.5000, 185.1750, 406.8750],\n",
      "        [486.3900, 150.6900, 541.1900, 389.3650]], device='cuda:0'), 'labels': tensor([1, 1], device='cuda:0')}, {'boxes': tensor([[412.4000, 148.3350, 583.2400, 435.3900]], device='cuda:0'), 'labels': tensor([1], device='cuda:0')})\n"
     ]
    },
    {
     "name": "stderr",
     "output_type": "stream",
     "text": [
      " 20%|██        | 1/5 [00:00<00:02,  1.38it/s]"
     ]
    },
    {
     "name": "stdout",
     "output_type": "stream",
     "text": [
      "anno_b ({'boxes': tensor([[101.5750, 135.7650, 243.1950, 437.1900]], device='cuda:0'), 'labels': tensor([1], device='cuda:0')}, {'boxes': tensor([[172.3900, 237.7600, 189.7400, 306.1000],\n",
      "        [300.3800, 226.4050, 330.8050, 322.4400],\n",
      "        [445.3300, 143.3050, 590.5900, 449.6150]], device='cuda:0'), 'labels': tensor([1, 1, 1], device='cuda:0')}, {'boxes': tensor([[233.6150, 114.4700, 590.1850, 490.9700]], device='cuda:0'), 'labels': tensor([1], device='cuda:0')}, {'boxes': tensor([[114.1250, 144.4800, 301.6700, 440.5500],\n",
      "        [465.7550, 232.3650, 491.1750, 311.0800],\n",
      "        [546.0150, 232.6900, 564.0500, 302.0550]], device='cuda:0'), 'labels': tensor([1, 1, 1], device='cuda:0')})\n"
     ]
    },
    {
     "name": "stderr",
     "output_type": "stream",
     "text": [
      " 40%|████      | 2/5 [00:01<00:02,  1.38it/s]"
     ]
    },
    {
     "name": "stdout",
     "output_type": "stream",
     "text": [
      "anno_b ({'boxes': tensor([[362.6650, 234.0200, 378.7850, 313.0050]], device='cuda:0'), 'labels': tensor([1], device='cuda:0')}, {'boxes': tensor([[382.3250, 231.7050, 400.2300, 319.5150],\n",
      "        [772.8050, 236.9150, 832.6850, 301.8500]], device='cuda:0'), 'labels': tensor([1, 1], device='cuda:0')}, {'boxes': tensor([[240.1350, 227.0250, 273.1500, 336.3200],\n",
      "        [454.5550, 220.2200, 482.2150, 326.8100],\n",
      "        [513.6250, 222.8750, 546.7900, 340.8150],\n",
      "        [651.3100, 211.2200, 690.8150, 340.3150]], device='cuda:0'), 'labels': tensor([1, 1, 1, 1], device='cuda:0')}, {'boxes': tensor([[152.8500, 171.4750, 269.5250, 403.7850],\n",
      "        [671.4750, 165.6400, 791.7100, 408.7450]], device='cuda:0'), 'labels': tensor([1, 1], device='cuda:0')})\n"
     ]
    },
    {
     "name": "stderr",
     "output_type": "stream",
     "text": [
      " 60%|██████    | 3/5 [00:02<00:01,  1.37it/s]"
     ]
    },
    {
     "name": "stdout",
     "output_type": "stream",
     "text": [
      "anno_b ({'boxes': tensor([[200.4750, 119.4850, 398.8600, 450.9450]], device='cuda:0'), 'labels': tensor([1], device='cuda:0')}, {'boxes': tensor([[391.7450, 101.8250, 636.6100, 463.1600],\n",
      "        [768.1450, 208.6150, 813.9150, 354.0300]], device='cuda:0'), 'labels': tensor([1, 1], device='cuda:0')}, {'boxes': tensor([[376.8700, 147.4800, 541.2250, 431.3950]], device='cuda:0'), 'labels': tensor([1], device='cuda:0')}, {'boxes': tensor([[414.1000, 116.3100, 596.7350, 446.9100]], device='cuda:0'), 'labels': tensor([1], device='cuda:0')})\n"
     ]
    },
    {
     "name": "stderr",
     "output_type": "stream",
     "text": [
      " 80%|████████  | 4/5 [00:02<00:00,  1.38it/s]"
     ]
    },
    {
     "name": "stdout",
     "output_type": "stream",
     "text": [
      "anno_b ({'boxes': tensor([[411.8400, 127.2550, 584.7500, 448.9150]], device='cuda:0'), 'labels': tensor([1], device='cuda:0')}, {'boxes': tensor([[530.5950, 236.6900, 545.2800, 302.2250]], device='cuda:0'), 'labels': tensor([1], device='cuda:0')}, {'boxes': tensor([[495.5900, 165.0200, 603.2850, 393.8800]], device='cuda:0'), 'labels': tensor([1], device='cuda:0')}, {'boxes': tensor([[430.5100, 195.2650, 507.7150, 371.3350],\n",
      "        [799.7850, 170.9350, 958.9600, 443.4000]], device='cuda:0'), 'labels': tensor([1, 1], device='cuda:0')})\n"
     ]
    },
    {
     "name": "stderr",
     "output_type": "stream",
     "text": [
      "100%|██████████| 5/5 [00:03<00:00,  1.38it/s]\n",
      "  0%|          | 0/5 [00:00<?, ?it/s]"
     ]
    },
    {
     "name": "stdout",
     "output_type": "stream",
     "text": [
      "anno_b ({'boxes': tensor([[362.6650, 234.0200, 378.7850, 313.0050]], device='cuda:0'), 'labels': tensor([1], device='cuda:0')}, {'boxes': tensor([[382.3250, 231.7050, 400.2300, 319.5150],\n",
      "        [772.8050, 236.9150, 832.6850, 301.8500]], device='cuda:0'), 'labels': tensor([1, 1], device='cuda:0')}, {'boxes': tensor([[101.5750, 135.7650, 243.1950, 437.1900]], device='cuda:0'), 'labels': tensor([1], device='cuda:0')}, {'boxes': tensor([[240.1350, 227.0250, 273.1500, 336.3200],\n",
      "        [454.5550, 220.2200, 482.2150, 326.8100],\n",
      "        [513.6250, 222.8750, 546.7900, 340.8150],\n",
      "        [651.3100, 211.2200, 690.8150, 340.3150]], device='cuda:0'), 'labels': tensor([1, 1, 1, 1], device='cuda:0')})\n"
     ]
    },
    {
     "name": "stderr",
     "output_type": "stream",
     "text": [
      " 20%|██        | 1/5 [00:00<00:02,  1.36it/s]"
     ]
    },
    {
     "name": "stdout",
     "output_type": "stream",
     "text": [
      "anno_b ({'boxes': tensor([[233.6150, 114.4700, 590.1850, 490.9700]], device='cuda:0'), 'labels': tensor([1], device='cuda:0')}, {'boxes': tensor([[114.1250, 144.4800, 301.6700, 440.5500],\n",
      "        [465.7550, 232.3650, 491.1750, 311.0800],\n",
      "        [546.0150, 232.6900, 564.0500, 302.0550]], device='cuda:0'), 'labels': tensor([1, 1, 1], device='cuda:0')}, {'boxes': tensor([[495.5900, 165.0200, 603.2850, 393.8800]], device='cuda:0'), 'labels': tensor([1], device='cuda:0')}, {'boxes': tensor([[376.8700, 147.4800, 541.2250, 431.3950]], device='cuda:0'), 'labels': tensor([1], device='cuda:0')})\n"
     ]
    },
    {
     "name": "stderr",
     "output_type": "stream",
     "text": [
      " 40%|████      | 2/5 [00:01<00:02,  1.37it/s]"
     ]
    },
    {
     "name": "stdout",
     "output_type": "stream",
     "text": [
      "anno_b ({'boxes': tensor([[152.5350, 195.5000, 185.1750, 406.8750],\n",
      "        [486.3900, 150.6900, 541.1900, 389.3650]], device='cuda:0'), 'labels': tensor([1, 1], device='cuda:0')}, {'boxes': tensor([[152.8500, 171.4750, 269.5250, 403.7850],\n",
      "        [671.4750, 165.6400, 791.7100, 408.7450]], device='cuda:0'), 'labels': tensor([1, 1], device='cuda:0')}, {'boxes': tensor([[172.3900, 237.7600, 189.7400, 306.1000],\n",
      "        [300.3800, 226.4050, 330.8050, 322.4400],\n",
      "        [445.3300, 143.3050, 590.5900, 449.6150]], device='cuda:0'), 'labels': tensor([1, 1, 1], device='cuda:0')}, {'boxes': tensor([[412.4000, 148.3350, 583.2400, 435.3900]], device='cuda:0'), 'labels': tensor([1], device='cuda:0')})\n"
     ]
    },
    {
     "name": "stderr",
     "output_type": "stream",
     "text": [
      " 60%|██████    | 3/5 [00:02<00:01,  1.37it/s]"
     ]
    },
    {
     "name": "stdout",
     "output_type": "stream",
     "text": [
      "anno_b ({'boxes': tensor([[229.8600, 140.3200, 736.6900, 412.0600]], device='cuda:0'), 'labels': tensor([1], device='cuda:0')}, {'boxes': tensor([[430.5100, 195.2650, 507.7150, 371.3350],\n",
      "        [799.7850, 170.9350, 958.9600, 443.4000]], device='cuda:0'), 'labels': tensor([1, 1], device='cuda:0')}, {'boxes': tensor([[200.4750, 119.4850, 398.8600, 450.9450]], device='cuda:0'), 'labels': tensor([1], device='cuda:0')}, {'boxes': tensor([[391.7450, 101.8250, 636.6100, 463.1600],\n",
      "        [768.1450, 208.6150, 813.9150, 354.0300]], device='cuda:0'), 'labels': tensor([1, 1], device='cuda:0')})\n"
     ]
    },
    {
     "name": "stderr",
     "output_type": "stream",
     "text": [
      " 80%|████████  | 4/5 [00:02<00:00,  1.36it/s]"
     ]
    },
    {
     "name": "stdout",
     "output_type": "stream",
     "text": [
      "anno_b ({'boxes': tensor([[530.5950, 236.6900, 545.2800, 302.2250]], device='cuda:0'), 'labels': tensor([1], device='cuda:0')}, {'boxes': tensor([[133.2650, 114.7400, 337.6200, 458.9300]], device='cuda:0'), 'labels': tensor([1], device='cuda:0')}, {'boxes': tensor([[414.1000, 116.3100, 596.7350, 446.9100]], device='cuda:0'), 'labels': tensor([1], device='cuda:0')}, {'boxes': tensor([[411.8400, 127.2550, 584.7500, 448.9150]], device='cuda:0'), 'labels': tensor([1], device='cuda:0')})\n"
     ]
    },
    {
     "name": "stderr",
     "output_type": "stream",
     "text": [
      "100%|██████████| 5/5 [00:03<00:00,  1.36it/s]\n",
      "100%|██████████| 3/3 [00:00<00:00,  3.05it/s]\n",
      "  0%|          | 0/5 [00:00<?, ?it/s]Clipping input data to the valid range for imshow with RGB data ([0..1] for floats or [0..255] for integers).\n",
      "Clipping input data to the valid range for imshow with RGB data ([0..1] for floats or [0..255] for integers).\n",
      " 20%|██        | 1/5 [00:00<00:01,  3.21it/s]Clipping input data to the valid range for imshow with RGB data ([0..1] for floats or [0..255] for integers).\n",
      "Clipping input data to the valid range for imshow with RGB data ([0..1] for floats or [0..255] for integers).\n",
      " 40%|████      | 2/5 [00:00<00:00,  3.20it/s]Clipping input data to the valid range for imshow with RGB data ([0..1] for floats or [0..255] for integers).\n",
      "Clipping input data to the valid range for imshow with RGB data ([0..1] for floats or [0..255] for integers).\n",
      " 60%|██████    | 3/5 [00:00<00:00,  3.18it/s]Clipping input data to the valid range for imshow with RGB data ([0..1] for floats or [0..255] for integers).\n",
      " 80%|████████  | 4/5 [00:01<00:00,  3.26it/s]Clipping input data to the valid range for imshow with RGB data ([0..1] for floats or [0..255] for integers).\n",
      "Clipping input data to the valid range for imshow with RGB data ([0..1] for floats or [0..255] for integers).\n",
      "100%|██████████| 5/5 [00:01<00:00,  3.22it/s]\n"
     ]
    }
   ],
   "source": [
    "# DataLoader\n",
    "import torchvision.transforms as T\n",
    "from torchvision import transforms\n",
    "from torchvision.transforms import ToTensor\n",
    "from PIL import Image\n",
    "import json\n",
    "import os\n",
    "import cv2\n",
    "import numpy as np\n",
    "import matplotlib.pyplot as plt\n",
    "from torch.nn.utils.rnn import pad_sequence\n",
    "import torch.optim as optim\n",
    "from torch.utils.tensorboard import SummaryWriter\n",
    "\n",
    "transform = T.Compose([    \n",
    "    transforms.Resize((512, 1024)),\n",
    "    T.ToTensor(),  # convert PIL image to PyTorch tensor\n",
    "    T.Normalize(mean=[0.485, 0.456, 0.406], std=[0.229, 0.224, 0.225]),  # normalize image\n",
    "])\n",
    "transform_no_norm = T.Compose([    \n",
    "    T.ToTensor(),  # convert PIL image to PyTorch tensor\n",
    "    transforms.Resize((512, 1024)),    \n",
    "])\n",
    "transform_norm= transforms.Normalize(mean=[0.485, 0.456, 0.406], std=[0.229, 0.224, 0.225])\n",
    "\n",
    "def uv_to_xyxy(u,v ):\n",
    "    result = torch.zeros_like(v)\n",
    "    result[:,0] = u[:,0] # top left x\n",
    "    result[:,1] = v[:,0]\n",
    "    result[:,2] = u[:,1] # right bottom x\n",
    "    result[:,3] = v[:,3]\n",
    "    return result\n",
    "\n",
    "def debug_draw_bbox(img , bbox , normalize = True ):    \n",
    "    h,w = img.shape[-2:]\n",
    "    debug_img = img.permute(1,2,0).detach().cpu().numpy()\n",
    "    debug_img = np.ascontiguousarray(debug_img)\n",
    "\n",
    "    boxes = bbox.reshape(-1,4)\n",
    "    for box in boxes:\n",
    "        if(normalize):\n",
    "            p0 = np.int32([box[0] * w , box[1] * h])\n",
    "            p1 = np.int32([box[2] * w , box[3] * h])\n",
    "        else:\n",
    "            p0 = np.int32([box[0]  , box[1] ])\n",
    "            p1 = np.int32([box[2]  , box[3] ])\n",
    "        debug_img = cv2.rectangle(debug_img, tuple(p0) ,  tuple(p1) , (0,255,0) , 2 )\n",
    "    return debug_img\n",
    "\n",
    "def collate_fn(data):    \n",
    "    tensors, targets = zip(*data)    \n",
    "    return tensors, targets\n",
    "\n",
    "class ZillowDataset(torch.utils.data.Dataset):\n",
    "    def __init__(self, transforms=None , anno_path=\"\" , mode =\"train\" , device = 'cuda'):        \n",
    "        self.transforms = transforms\n",
    "        self.mode= mode\n",
    "        self.annos = []\n",
    "        self.device = device\n",
    "\n",
    "        with open(anno_path  , 'r') as f:\n",
    "            self.annos =  json.load(f)\n",
    "            print(\"anno loaded \" , len(self.annos))        \n",
    "        \n",
    "        \n",
    "\n",
    "    def __getitem__(self, idx):\n",
    "        # TODO: Load your data here        \n",
    "        img_path = os.path.join(ZILLOW_DATASET_FOLDER , self.annos[idx]['image'] )                \n",
    "        img = Image.open(img_path)\n",
    "\n",
    "        if self.transforms is not None:            \n",
    "            img = self.transforms(img)        \n",
    "\n",
    "        h , w = img.shape[-2:]\n",
    "        u = torch.as_tensor(self.annos[idx]['u']) *w\n",
    "        v = torch.as_tensor(self.annos[idx]['sticks_v'])*h\n",
    "\n",
    "        target = {}\n",
    "        bboxes = uv_to_xyxy(  u , v)        \n",
    "        target['boxes'] = bboxes.to(self.device)\n",
    "        target['labels'] = torch.ones(len(self.annos[idx]['u'])).view(-1).to(torch.int64) .to(self.device)\n",
    "        \n",
    "        # [Debug: ]\n",
    "        '''\n",
    "        for box in bboxes:\n",
    "            debug_img = debug_draw_bbox(img , box)\n",
    "            plt.imshow(debug_img)\n",
    "            plt.show()\n",
    "        '''\n",
    "\n",
    "        #return img, target\n",
    "        return img.to(self.device) , target\n",
    "\n",
    "    def __len__(self):        \n",
    "        return len(self.annos)\n",
    "\n",
    "def anno_to_list(anno_b):\n",
    "    anno_list =[]\n",
    "    for anno in anno_b:\n",
    "        anno_list.append({\"boxes\": anno[\"boxes\"] , \"labels\" : anno['labels']})\n",
    "    return anno_list\n",
    "\n",
    "dataset_train = ZillowDataset(transforms=transform , anno_path= '../anno/train_visiable_20_no_cross.json' )\n",
    "dataset_test = ZillowDataset(transforms=transform , anno_path= '../anno/test_visiable_10_no_cross.json' )\n",
    "dataset_test_no_norm = ZillowDataset(transforms=transform_no_norm , anno_path= '../anno/test_visiable_10_no_cross.json' )\n",
    "data_loader_train = torch.utils.data.DataLoader(dataset_train, batch_size=4, shuffle=True, num_workers=0  , collate_fn = collate_fn)\n",
    "data_loader_test = torch.utils.data.DataLoader(dataset_test, batch_size=4, shuffle=False, num_workers=0  , collate_fn = collate_fn)\n",
    "data_loader_test_no_norm = torch.utils.data.DataLoader(dataset_test_no_norm, batch_size=2, shuffle=False, num_workers=0  , collate_fn = collate_fn)\n",
    "\n",
    "\n",
    "#=========================================\n",
    "#               Setting \n",
    "#=========================================\n",
    "MAX_TRAIN_EPOCHES = 50\n",
    "RUN_NAME = 'SMALL_TEST_200'\n",
    "\n",
    "model_2cls = model_2cls.to('cuda')\n",
    "optimizer = optim.Adam(model_2cls.parameters(), lr=0.001)\n",
    "scheduler = torch.optim.lr_scheduler.StepLR(optimizer, step_size=10, gamma=0.1)\n",
    "writer = SummaryWriter(RUN_NAME)\n",
    "\n",
    "\n",
    "\n",
    "def loss_fn(output):\n",
    "    losses = sum(loss for loss in output.values())\n",
    "    return losses\n",
    "def inf_loss_fn(output):\n",
    "    labels = []\n",
    "    boxes = []\n",
    "    for b_out in output:\n",
    "        label = b_out['labels']\n",
    "        box = b_out['boxes']\n",
    "\n",
    "        labels.append(label)\n",
    "        boxes.append(box)\n",
    "    labels = torch.cat(labels)\n",
    "    boxes = torch.cat(boxes)\n",
    "\n",
    "@torch.no_grad()\n",
    "def write_loss(output , type='train' , step=0 ):\n",
    "    for key, value in output.items():\n",
    "        writer.add_scalar(f\"{type}/{key}\" , value , step)\n",
    "    pass\n",
    "\n",
    "@torch.no_grad()\n",
    "def inf_fn(model , data_loader , vis_data , epoch , log_folder= \"\"):    \n",
    "    model.train()    \n",
    "    \n",
    "    cnt = 0\n",
    "    '''\n",
    "    '''\n",
    "    for data in tqdm(data_loader):\n",
    "        img_b , anno_b = data\n",
    "        anno_b_list = anno_to_list(anno_b)        \n",
    "        output = model(img_b , anno_b_list)\n",
    "        write_loss(output , 'test' , epoch * len(data_loader) + cnt)           \n",
    "        cnt+=1\n",
    "\n",
    "    # visualize\n",
    "    model.eval()        \n",
    "    for i in tqdm(range(5)):\n",
    "        img , anno      = vis_data[i]                \n",
    "        img_b_norm      = transform_norm(img).unsqueeze(0)\n",
    "        \n",
    "        output_b        = model(img_b_norm)\n",
    "        \n",
    "        for j , out in enumerate(output_b):\n",
    "            box = out['boxes'].detach().cpu().numpy()                        \n",
    "            debug_img = debug_draw_bbox(img, box , normalize=False)\n",
    "\n",
    "            gt_box = anno['boxes'].detach().cpu().numpy()                    \n",
    "            debug_img_gt =  debug_draw_bbox(img, gt_box , normalize=False)\n",
    "\n",
    "            fig, axs = plt.subplots(1, 2 ,  figsize=(20, 5))                                     \n",
    "            # Plot the images\n",
    "            axs[0].imshow(debug_img)\n",
    "            axs[0].axis(\"off\")\n",
    "            axs[1].imshow(debug_img_gt)\n",
    "            axs[1].axis(\"off\")\n",
    "            \n",
    "            plt.savefig(os.path.join(log_folder , f\"vis_test_ep{epoch}-it{i}.jpg\") , dpi = 150)\n",
    "            plt.close(fig)\n",
    "        pass\n",
    "    pass\n",
    "\n",
    "# Test Train\n",
    "def train_fn(model,optimizer  , epoch , data_loader , log_folder=\"\" ):\n",
    "    cnt = 0\n",
    "    for data in tqdm(data_loader):\n",
    "        model.train()\n",
    "        img_b , anno_b = data\n",
    "        anno_b_list = anno_to_list(anno_b)       \n",
    "\n",
    "        output = model(img_b , anno_b_list)\n",
    "        loss = loss_fn(output)\n",
    "        optimizer.zero_grad()\n",
    "        loss.backward()\n",
    "        optimizer.step()    \n",
    "\n",
    "        write_loss(output , 'train' , epoch * len(data_loader) + cnt)\n",
    "        cnt+=1\n",
    "            #break\n",
    "\n",
    "        # [ Test ]\n",
    "        '''\n",
    "        '''\n",
    "    if (epoch % 5 ==0):\n",
    "        with torch.no_grad():\n",
    "            model.eval()\n",
    "            output_b        = model(img_b)\n",
    "            debug_cnt = 0\n",
    "            for img , anno , out in zip(img_b , anno_b , output_b):        \n",
    "                pred_box = out['boxes'].detach().cpu().numpy()                        \n",
    "                debug_img = debug_draw_bbox(img, pred_box , normalize=False)\n",
    "\n",
    "                gt_bbox = anno['boxes']        \n",
    "                debug_img_gt = debug_draw_bbox(img, gt_bbox.detach().cpu().numpy() ,  normalize=False)\n",
    "                fig, axs = plt.subplots(1, 2 ,  figsize=(20, 5))                                     \n",
    "                # Plot the images\n",
    "                axs[0].imshow(debug_img)\n",
    "                axs[0].axis(\"off\")\n",
    "                axs[1].imshow(debug_img_gt)\n",
    "                axs[1].axis(\"off\")\n",
    "                \n",
    "                plt.savefig(os.path.join(log_folder , f\"vis_train_ep{epoch}-it{debug_cnt}.jpg\") , dpi = 150)\n",
    "                plt.close(fig)\n",
    "\n",
    "                debug_cnt+=1\n",
    "    return model\n",
    "\n",
    "\n",
    "train_eppch = 0\n",
    "eval_eppch = 0\n",
    "log_folder = create_folder( os.path.join(os.getcwd() , \"output\" , RUN_NAME) )\n",
    "eval_helper = PR_Eval_Helper(writer=writer , log_folder=log_folder)\n",
    "\n",
    "for epoch in range(1,MAX_TRAIN_EPOCHES+1):\n",
    "    '''\n",
    "    '''\n",
    "    train_fn(model_2cls , optimizer, train_eppch , data_loader_train , log_folder)\n",
    "    train_eppch+=1\n",
    "\n",
    "    if(epoch % 5 ==0):\n",
    "        inf_fn(model_2cls , data_loader_test , dataset_test_no_norm , eval_eppch , log_folder)\n",
    "        eval_eppch+=1\n",
    "    #inf_fn(model_2cls , data_loader_test , dataset_test_no_norm , eval_eppch , log_folder)\n",
    "    #break"
   ]
  }
 ],
 "metadata": {
  "kernelspec": {
   "display_name": "Layout",
   "language": "python",
   "name": "python3"
  },
  "language_info": {
   "codemirror_mode": {
    "name": "ipython",
    "version": 3
   },
   "file_extension": ".py",
   "mimetype": "text/x-python",
   "name": "python",
   "nbconvert_exporter": "python",
   "pygments_lexer": "ipython3",
   "version": "3.7.16"
  }
 },
 "nbformat": 4,
 "nbformat_minor": 2
}
