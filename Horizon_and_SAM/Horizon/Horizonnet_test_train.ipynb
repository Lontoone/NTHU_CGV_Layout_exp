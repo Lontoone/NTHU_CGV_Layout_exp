{
 "cells": [
  {
   "cell_type": "code",
   "execution_count": null,
   "metadata": {},
   "outputs": [],
   "source": [
    "import os\n",
    "import torch.nn.functional as F\n",
    "import torch\n",
    "from torch.utils.tensorboard import SummaryWriter\n",
    "from torch import optim\n",
    "from sklearn import metrics\n",
    "import numpy as np\n",
    "import cv2\n",
    "sys.path.append('../')\n",
    "from config import *\n",
    "from file_helper import *\n",
    "\n",
    "#======= [ SETTING ] =======\n",
    "MAX_PREDICTION_COUNT = Horizon_MAX_PREDICTION\n",
    "BATCH_SIZE=6\n",
    "C = Horizon_C\n",
    "R = Horizon_R\n",
    "CONFIDENCE_THRESHOLD = Horizon_CONFIDENCE_THRESHOLD\n",
    "DO_AUG= Horizon_AUG\n",
    "\n",
    "#MODEL_FOLDER =r'./output/'\n",
    "MODEL_FOLDER = create_folder( os.getcwd() , \"output\" , \"checkpoints\" )\n",
    "\n",
    "LONAD_MODEL_NAME =\"\"  \n",
    "TRAIN_NAME = f\"__Test\"\n",
    "writer = SummaryWriter(TRAIN_NAME)\n",
    "\n",
    "TRAIN_DATASET_NAME  = \"../../train_visiable_20_no_cross.json\"\n",
    "TEST_DATASET_NAME   = \"../../test_visiable_10_no_cross.json\"\n",
    "\n",
    "#========= [ Log Setting ] ==========\n",
    "MAX_LOG_GAP = 5\n",
    "MAX_LOG_IT_COUNT = 5\n",
    "EVAL_GAP = 5\n",
    "save_auc = 0.2\n",
    "log_folder = create_folder( os.path.join(os.getcwd() , \"output\" , TRAIN_NAME ))"
   ]
  },
  {
   "cell_type": "code",
   "execution_count": null,
   "metadata": {},
   "outputs": [],
   "source": [
    "#======= [ Load Model ] =======\n",
    "from horizon_model_direct import HorizonNet\n",
    "def create_model(load_pth = \"\"):\n",
    "    device = torch.device('cuda') if torch.cuda.is_available() else torch.device('cpu')\n",
    "    net = HorizonNet('resnet50', True , MAX_PREDICTION_COUNT).to(device)   # For server (small memory)\n",
    "\n",
    "    if (load_pth is not \"\" or None):              \n",
    "        model_path = os.path.join(MODEL_FOLDER , load_pth)\n",
    "        state_dict = torch.load(model_path, map_location='cpu')\n",
    "        \n",
    "        # model data\n",
    "        net.load_state_dict(state_dict['state_dict'])\n",
    "        LOADED_EPOCH    = state_dict['epoch']\n",
    "        LOADED_AP       = state_dict['ap']\n",
    "        save_auc        = LOADED_AP  \n",
    "        print( LOADED_EPOCH , LOADED_AP)\n",
    "    return net\n",
    "\n",
    "net = create_model(LONAD_MODEL_NAME)\n",
    "optimizer = optim.Adam(\n",
    "        filter(lambda p: p.requires_grad, net.parameters()),\n",
    "        lr=1e-4, betas=(0.9, 0.999))"
   ]
  }
 ],
 "metadata": {
  "language_info": {
   "name": "python"
  }
 },
 "nbformat": 4,
 "nbformat_minor": 2
}
