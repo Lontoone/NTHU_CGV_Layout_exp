{
 "cells": [
  {
   "cell_type": "code",
   "execution_count": 4,
   "metadata": {},
   "outputs": [
    {
     "name": "stdout",
     "output_type": "stream",
     "text": [
      "e:\\Projects\\Layout\\detrex\n"
     ]
    },
    {
     "ename": "NameError",
     "evalue": "name 'cfg' is not defined",
     "output_type": "error",
     "traceback": [
      "\u001b[1;31m---------------------------------------------------------------------------\u001b[0m",
      "\u001b[1;31mNameError\u001b[0m                                 Traceback (most recent call last)",
      "\u001b[1;32m~\\AppData\\Local\\Temp\\ipykernel_29004\\3703627608.py\u001b[0m in \u001b[0;36m<module>\u001b[1;34m\u001b[0m\n\u001b[0;32m     10\u001b[0m \u001b[1;32mimport\u001b[0m \u001b[0mdetectron2\u001b[0m\u001b[1;33m.\u001b[0m\u001b[0mdata\u001b[0m\u001b[1;33m.\u001b[0m\u001b[0mtransforms\u001b[0m \u001b[1;32mas\u001b[0m \u001b[0mT\u001b[0m\u001b[1;33m\u001b[0m\u001b[1;33m\u001b[0m\u001b[0m\n\u001b[0;32m     11\u001b[0m \u001b[1;32mfrom\u001b[0m \u001b[0mdetectron2\u001b[0m\u001b[1;33m.\u001b[0m\u001b[0mdata\u001b[0m \u001b[1;32mimport\u001b[0m \u001b[0mDatasetMapper\u001b[0m   \u001b[1;31m# the default mapper\u001b[0m\u001b[1;33m\u001b[0m\u001b[1;33m\u001b[0m\u001b[0m\n\u001b[1;32m---> 12\u001b[1;33m dataloader = build_detection_train_loader(cfg,\n\u001b[0m\u001b[0;32m     13\u001b[0m    mapper=DatasetMapper(cfg, is_train=True, augmentations=[\n\u001b[0;32m     14\u001b[0m       \u001b[0mT\u001b[0m\u001b[1;33m.\u001b[0m\u001b[0mResize\u001b[0m\u001b[1;33m(\u001b[0m\u001b[1;33m(\u001b[0m\u001b[1;36m800\u001b[0m\u001b[1;33m,\u001b[0m \u001b[1;36m800\u001b[0m\u001b[1;33m)\u001b[0m\u001b[1;33m)\u001b[0m\u001b[1;33m\u001b[0m\u001b[1;33m\u001b[0m\u001b[0m\n",
      "\u001b[1;31mNameError\u001b[0m: name 'cfg' is not defined"
     ]
    }
   ],
   "source": [
    "import os\n",
    "import sys\n",
    "print(os.getcwd())\n",
    "sys.path.append('../')\n",
    "from config import *\n",
    "import torch\n",
    "\n",
    "from detectron2.data import build_detection_train_loader\n",
    "from detectron2.data import detection_utils as utils\n",
    "import detectron2.data.transforms as T\n",
    "from detectron2.data import DatasetMapper   # the default mapper\n",
    "\n",
    "\n",
    "from detectron2.data import detection_utils as utils\n",
    "\n",
    "config_file = \"../detrex/projects/deformable_detr/configs/deformable_detr_r50_50ep.py\"\n",
    "cfg = LazyConfig.load(config_file)\n",
    "cfg = LazyConfig.apply_overrides(cfg, args.opts)\n",
    "default_setup(cfg, args)\n",
    "    \n",
    "\n",
    "\n",
    "def mapper(dataset_dict):\n",
    "    #dataset_dict = copy.deepcopy(dataset_dict)  # it will be modified by code below\n",
    "    # can use other ways to read image\n",
    "    image = utils.read_image(dataset_dict[\"file_name\"], format=\"BGR\")\n",
    "    # See \"Data Augmentation\" tutorial for details usage\n",
    "    auginput = T.AugInput(image)\n",
    "    transform = T.Resize((800, 800))(auginput)\n",
    "    image = torch.from_numpy(auginput.image.transpose(2, 0, 1))\n",
    "    annos = [\n",
    "        utils.transform_instance_annotations(annotation, [transform], image.shape[1:])\n",
    "        for annotation in dataset_dict.pop(\"annotations\")\n",
    "    ]\n",
    "    return {\n",
    "       # create the format that the model expects\n",
    "       \"image\": image,\n",
    "       \"instances\": utils.annotations_to_instances(annos, image.shape[1:])\n",
    "    }\n",
    "dataloader = build_detection_train_loader(cfg, mapper=mapper)"
   ]
  }
 ],
 "metadata": {
  "kernelspec": {
   "display_name": "Layout",
   "language": "python",
   "name": "python3"
  },
  "language_info": {
   "codemirror_mode": {
    "name": "ipython",
    "version": 3
   },
   "file_extension": ".py",
   "mimetype": "text/x-python",
   "name": "python",
   "nbconvert_exporter": "python",
   "pygments_lexer": "ipython3",
   "version": "3.7.7"
  }
 },
 "nbformat": 4,
 "nbformat_minor": 2
}
